{
 "cells": [
  {
   "cell_type": "markdown",
   "id": "d5fd5389",
   "metadata": {},
   "source": [
    "- How do we read?\n",
    "\n",
    "- type\n",
    "\n",
    "- len\n",
    "\n",
    "- max\n",
    "\n",
    "- min\n",
    "\n",
    "- concatenation (add two list)\n",
    "\n",
    "- subtract two list\n",
    "\n",
    "- multiply two list\n",
    "\n",
    "- divide two list\n",
    "\n",
    "- index\n",
    "\n",
    "- slice\n",
    "\n",
    "- mutable \n",
    "\n",
    "- list methods"
   ]
  },
  {
   "cell_type": "code",
   "execution_count": 1,
   "id": "1117150f",
   "metadata": {},
   "outputs": [
    {
     "data": {
      "text/plain": [
       "[1, 2, 3, 4]"
      ]
     },
     "execution_count": 1,
     "metadata": {},
     "output_type": "execute_result"
    }
   ],
   "source": [
    "# array of elements stored in square brackets\n",
    "list1=[1,2,3,4]\n",
    "list1"
   ]
  },
  {
   "cell_type": "code",
   "execution_count": 2,
   "id": "9e231647",
   "metadata": {},
   "outputs": [
    {
     "data": {
      "text/plain": [
       "['A', 'B', 'C', 'D']"
      ]
     },
     "execution_count": 2,
     "metadata": {},
     "output_type": "execute_result"
    }
   ],
   "source": [
    "list2=['A','B','C','D']\n",
    "list2"
   ]
  },
  {
   "cell_type": "code",
   "execution_count": 3,
   "id": "6c4786c8",
   "metadata": {},
   "outputs": [
    {
     "data": {
      "text/plain": [
       "['Apple', 1234]"
      ]
     },
     "execution_count": 3,
     "metadata": {},
     "output_type": "execute_result"
    }
   ],
   "source": [
    "list3=['Apple',1234]\n",
    "list3"
   ]
  },
  {
   "cell_type": "code",
   "execution_count": 4,
   "id": "7a707b93",
   "metadata": {},
   "outputs": [
    {
     "data": {
      "text/plain": [
       "['A', 1, 2.6, (10+30j)]"
      ]
     },
     "execution_count": 4,
     "metadata": {},
     "output_type": "execute_result"
    }
   ],
   "source": [
    "list4=['A',1,2.6,10+30j]\n",
    "list4"
   ]
  },
  {
   "cell_type": "markdown",
   "id": "464fc741",
   "metadata": {},
   "source": [
    "- list is a heterogeneous property\n",
    "\n",
    "- any kind of data type elements we can store in the form of list"
   ]
  },
  {
   "cell_type": "code",
   "execution_count": 5,
   "id": "27656aba",
   "metadata": {},
   "outputs": [
    {
     "data": {
      "text/plain": [
       "[100, 100, 100]"
      ]
     },
     "execution_count": 5,
     "metadata": {},
     "output_type": "execute_result"
    }
   ],
   "source": [
    "list5=[100,100,100]\n",
    "list5"
   ]
  },
  {
   "cell_type": "markdown",
   "id": "009466b8",
   "metadata": {},
   "source": [
    "- list elements can be duplicated\n",
    "\n",
    "- which means duplicate elements are allowed"
   ]
  },
  {
   "cell_type": "code",
   "execution_count": 6,
   "id": "62e005b0",
   "metadata": {},
   "outputs": [
    {
     "data": {
      "text/plain": [
       "['A', 'a']"
      ]
     },
     "execution_count": 6,
     "metadata": {},
     "output_type": "execute_result"
    }
   ],
   "source": [
    "list6=['A','a']\n",
    "list6"
   ]
  },
  {
   "cell_type": "code",
   "execution_count": 7,
   "id": "82f754d5",
   "metadata": {},
   "outputs": [
    {
     "data": {
      "text/plain": [
       "['hai how are you', [1, 2, 3]]"
      ]
     },
     "execution_count": 7,
     "metadata": {},
     "output_type": "execute_result"
    }
   ],
   "source": [
    "list7=['hai how are you',\n",
    "       [1,2,3]]\n",
    "list7"
   ]
  },
  {
   "cell_type": "markdown",
   "id": "1e822a8b",
   "metadata": {},
   "source": [
    "- list in list also it can take"
   ]
  },
  {
   "cell_type": "markdown",
   "id": "80f2c22c",
   "metadata": {},
   "source": [
    "- array of elements stored in square brackets\n",
    "\n",
    "- list is a heterogeneous property\n",
    "\n",
    "- any kind of data type elements we can store in the form of list\n",
    "\n",
    "- list elements can be duplicated\n",
    "\n",
    "- which means duplicate elements are allowed\n",
    "\n",
    "- list in list also it can take"
   ]
  },
  {
   "cell_type": "code",
   "execution_count": 8,
   "id": "f9879be6",
   "metadata": {},
   "outputs": [
    {
     "data": {
      "text/plain": [
       "list"
      ]
     },
     "execution_count": 8,
     "metadata": {},
     "output_type": "execute_result"
    }
   ],
   "source": [
    "type(list1)"
   ]
  },
  {
   "cell_type": "code",
   "execution_count": 9,
   "id": "8acf02ab",
   "metadata": {},
   "outputs": [
    {
     "data": {
      "text/plain": [
       "[1, 2, 3]"
      ]
     },
     "execution_count": 9,
     "metadata": {},
     "output_type": "execute_result"
    }
   ],
   "source": [
    "#list=[1,2,3]\n",
    "#list\n",
    "#sum=10\n",
    "#max=\n",
    "#min\n"
   ]
  },
  {
   "cell_type": "code",
   "execution_count": 10,
   "id": "e5285209",
   "metadata": {},
   "outputs": [
    {
     "data": {
      "text/plain": [
       "[1, 2, 3, 4]"
      ]
     },
     "execution_count": 10,
     "metadata": {},
     "output_type": "execute_result"
    }
   ],
   "source": [
    "list1"
   ]
  },
  {
   "cell_type": "markdown",
   "id": "b746ac1b",
   "metadata": {},
   "source": [
    "$len$-$max$-$min$-$sum$"
   ]
  },
  {
   "cell_type": "code",
   "execution_count": 14,
   "id": "fad37082",
   "metadata": {},
   "outputs": [
    {
     "name": "stdout",
     "output_type": "stream",
     "text": [
      "[1, 2, 3, 4]\n",
      "4\n",
      "4\n",
      "1\n",
      "10\n"
     ]
    }
   ],
   "source": [
    "print(list1)\n",
    "print(len(list1))  # 4\n",
    "print(max(list1))  # 4\n",
    "print(min(list1))  # 1\n",
    "print(sum(list1))  # 1+2+3+4=10"
   ]
  },
  {
   "cell_type": "code",
   "execution_count": 21,
   "id": "67ce6cb2",
   "metadata": {},
   "outputs": [
    {
     "name": "stdout",
     "output_type": "stream",
     "text": [
      "['A', 'B', 'C', 'D']\n",
      "4\n",
      "D\n",
      "A\n"
     ]
    },
    {
     "ename": "TypeError",
     "evalue": "unsupported operand type(s) for +: 'int' and 'str'",
     "output_type": "error",
     "traceback": [
      "\u001b[1;31m---------------------------------------------------------------------------\u001b[0m",
      "\u001b[1;31mTypeError\u001b[0m                                 Traceback (most recent call last)",
      "Cell \u001b[1;32mIn[21], line 5\u001b[0m\n\u001b[0;32m      3\u001b[0m \u001b[38;5;28mprint\u001b[39m(\u001b[38;5;28mmax\u001b[39m(list2))  \u001b[38;5;66;03m# 4\u001b[39;00m\n\u001b[0;32m      4\u001b[0m \u001b[38;5;28mprint\u001b[39m(\u001b[38;5;28mmin\u001b[39m(list2))  \u001b[38;5;66;03m# 1\u001b[39;00m\n\u001b[1;32m----> 5\u001b[0m \u001b[38;5;28mprint\u001b[39m(\u001b[38;5;28msum\u001b[39m(list2))\n",
      "\u001b[1;31mTypeError\u001b[0m: unsupported operand type(s) for +: 'int' and 'str'"
     ]
    }
   ],
   "source": [
    "print(list2)\n",
    "print(len(list2))  # 4\n",
    "print(max(list2))  # 4\n",
    "print(min(list2))  # 1\n",
    "print(sum(list2))  # error "
   ]
  },
  {
   "cell_type": "code",
   "execution_count": 26,
   "id": "fd48e371",
   "metadata": {},
   "outputs": [
    {
     "name": "stdout",
     "output_type": "stream",
     "text": [
      "['Apple', 1234]\n",
      "2\n"
     ]
    },
    {
     "ename": "TypeError",
     "evalue": "unsupported operand type(s) for +: 'int' and 'str'",
     "output_type": "error",
     "traceback": [
      "\u001b[1;31m---------------------------------------------------------------------------\u001b[0m",
      "\u001b[1;31mTypeError\u001b[0m                                 Traceback (most recent call last)",
      "Cell \u001b[1;32mIn[26], line 5\u001b[0m\n\u001b[0;32m      2\u001b[0m \u001b[38;5;28mprint\u001b[39m(\u001b[38;5;28mlen\u001b[39m(list3))  \u001b[38;5;66;03m# 2\u001b[39;00m\n\u001b[0;32m      3\u001b[0m \u001b[38;5;66;03m#print(max(list3))  # error\u001b[39;00m\n\u001b[0;32m      4\u001b[0m \u001b[38;5;66;03m#print(min(list3))  # error\u001b[39;00m\n\u001b[1;32m----> 5\u001b[0m \u001b[38;5;28mprint\u001b[39m(\u001b[38;5;28msum\u001b[39m(list3))\n",
      "\u001b[1;31mTypeError\u001b[0m: unsupported operand type(s) for +: 'int' and 'str'"
     ]
    }
   ],
   "source": [
    "print(list3)\n",
    "print(len(list3))  # 2\n",
    "#print(max(list3))  # error\n",
    "#print(min(list3))  # error\n",
    "#print(sum(list3))  # error"
   ]
  },
  {
   "cell_type": "code",
   "execution_count": 30,
   "id": "0733d962",
   "metadata": {},
   "outputs": [
    {
     "name": "stdout",
     "output_type": "stream",
     "text": [
      "['A', 1, 2.6, (10+30j)]\n",
      "4\n"
     ]
    },
    {
     "ename": "TypeError",
     "evalue": "unsupported operand type(s) for +: 'int' and 'str'",
     "output_type": "error",
     "traceback": [
      "\u001b[1;31m---------------------------------------------------------------------------\u001b[0m",
      "\u001b[1;31mTypeError\u001b[0m                                 Traceback (most recent call last)",
      "Cell \u001b[1;32mIn[30], line 5\u001b[0m\n\u001b[0;32m      2\u001b[0m \u001b[38;5;28mprint\u001b[39m(\u001b[38;5;28mlen\u001b[39m(list4))  \u001b[38;5;66;03m# 4\u001b[39;00m\n\u001b[0;32m      3\u001b[0m \u001b[38;5;66;03m#print(max(list4))  # error\u001b[39;00m\n\u001b[0;32m      4\u001b[0m \u001b[38;5;66;03m#print(min(list4))  # error\u001b[39;00m\n\u001b[1;32m----> 5\u001b[0m \u001b[38;5;28mprint\u001b[39m(\u001b[38;5;28msum\u001b[39m(list4))\n",
      "\u001b[1;31mTypeError\u001b[0m: unsupported operand type(s) for +: 'int' and 'str'"
     ]
    }
   ],
   "source": [
    "print(list4)\n",
    "print(len(list4))  # 4\n",
    "#print(max(list4))  # error\n",
    "#print(min(list4))  # error\n",
    "#print(sum(list4))  # error"
   ]
  },
  {
   "cell_type": "code",
   "execution_count": 32,
   "id": "b1410e3f",
   "metadata": {},
   "outputs": [
    {
     "name": "stdout",
     "output_type": "stream",
     "text": [
      "[100, 100, 100]\n",
      "3\n",
      "100\n",
      "100\n",
      "300\n"
     ]
    }
   ],
   "source": [
    "print(list5)\n",
    "print(len(list5))  # 3\n",
    "print(max(list5))  # 100\n",
    "print(min(list5))  # 100\n",
    "print(sum(list5))  # 300"
   ]
  },
  {
   "cell_type": "code",
   "execution_count": 35,
   "id": "c3936d8b",
   "metadata": {},
   "outputs": [
    {
     "name": "stdout",
     "output_type": "stream",
     "text": [
      "['A', 'a']\n",
      "2\n",
      "a\n",
      "A\n"
     ]
    },
    {
     "ename": "TypeError",
     "evalue": "unsupported operand type(s) for +: 'int' and 'str'",
     "output_type": "error",
     "traceback": [
      "\u001b[1;31m---------------------------------------------------------------------------\u001b[0m",
      "\u001b[1;31mTypeError\u001b[0m                                 Traceback (most recent call last)",
      "Cell \u001b[1;32mIn[35], line 5\u001b[0m\n\u001b[0;32m      3\u001b[0m \u001b[38;5;28mprint\u001b[39m(\u001b[38;5;28mmax\u001b[39m(list6))  \u001b[38;5;66;03m# a\u001b[39;00m\n\u001b[0;32m      4\u001b[0m \u001b[38;5;28mprint\u001b[39m(\u001b[38;5;28mmin\u001b[39m(list6))  \u001b[38;5;66;03m# A\u001b[39;00m\n\u001b[1;32m----> 5\u001b[0m \u001b[38;5;28mprint\u001b[39m(\u001b[38;5;28msum\u001b[39m(list6))\n",
      "\u001b[1;31mTypeError\u001b[0m: unsupported operand type(s) for +: 'int' and 'str'"
     ]
    }
   ],
   "source": [
    "print(list6)\n",
    "print(len(list6))  # 2\n",
    "print(max(list6))  # a\n",
    "print(min(list6))  # A\n",
    "print(sum(list6))  # "
   ]
  },
  {
   "cell_type": "code",
   "execution_count": 37,
   "id": "e4257a59",
   "metadata": {},
   "outputs": [
    {
     "name": "stdout",
     "output_type": "stream",
     "text": [
      "['hai how are you', [1, 2, 3]]\n",
      "2\n"
     ]
    }
   ],
   "source": [
    "print(list7)\n",
    "print(len(list7))  # 2\n",
    "#print(max(list7))  # error\n",
    "#print(min(list7))  # error\n",
    "#print(sum(list7))  # error"
   ]
  },
  {
   "cell_type": "markdown",
   "id": "7b419106",
   "metadata": {},
   "source": [
    "$concatenation$"
   ]
  },
  {
   "cell_type": "code",
   "execution_count": 39,
   "id": "72dbfa7a",
   "metadata": {},
   "outputs": [
    {
     "name": "stdout",
     "output_type": "stream",
     "text": [
      "[1, 2, 3, 4]\n",
      "['A', 'B', 'C', 'D']\n"
     ]
    }
   ],
   "source": [
    "print(list1)\n",
    "print(list2)"
   ]
  },
  {
   "cell_type": "code",
   "execution_count": 41,
   "id": "e7dc30c1",
   "metadata": {},
   "outputs": [],
   "source": [
    "list_con=list1+list2"
   ]
  },
  {
   "cell_type": "code",
   "execution_count": 42,
   "id": "6da727b5",
   "metadata": {},
   "outputs": [
    {
     "name": "stdout",
     "output_type": "stream",
     "text": [
      "[1, 2, 3, 4]\n",
      "['A', 'B', 'C', 'D']\n",
      "[1, 2, 3, 4, 'A', 'B', 'C', 'D']\n"
     ]
    }
   ],
   "source": [
    "print(list1)\n",
    "print(list2)\n",
    "print(list_con)"
   ]
  },
  {
   "cell_type": "code",
   "execution_count": 45,
   "id": "3e1a4924",
   "metadata": {},
   "outputs": [],
   "source": [
    "string1='welcome'\n",
    "string2=string1.replace('l','L')"
   ]
  },
  {
   "cell_type": "code",
   "execution_count": 46,
   "id": "2d4aea27",
   "metadata": {},
   "outputs": [
    {
     "data": {
      "text/plain": [
       "('welcome', 'weLcome')"
      ]
     },
     "execution_count": 46,
     "metadata": {},
     "output_type": "execute_result"
    }
   ],
   "source": [
    "string1,string2"
   ]
  },
  {
   "cell_type": "code",
   "execution_count": null,
   "id": "b7a2df81",
   "metadata": {},
   "outputs": [],
   "source": [
    "list1-list2 ========= > error\n",
    "list1*list2 ========= > error\n",
    "list1/list2 ========= > error"
   ]
  },
  {
   "cell_type": "markdown",
   "id": "3820cc4d",
   "metadata": {},
   "source": [
    "$multiply$ $string$ with $integer$"
   ]
  },
  {
   "cell_type": "code",
   "execution_count": 48,
   "id": "c846133d",
   "metadata": {},
   "outputs": [
    {
     "data": {
      "text/plain": [
       "[1, 2, 3, 4, 1, 2, 3, 4, 1, 2, 3, 4]"
      ]
     },
     "execution_count": 48,
     "metadata": {},
     "output_type": "execute_result"
    }
   ],
   "source": [
    "3*list1   # list1+list1+list1"
   ]
  },
  {
   "cell_type": "markdown",
   "id": "3ff858e1",
   "metadata": {},
   "source": [
    "$in$"
   ]
  },
  {
   "cell_type": "code",
   "execution_count": 49,
   "id": "f9712a5e",
   "metadata": {},
   "outputs": [
    {
     "data": {
      "text/plain": [
       "['A', 'B', 'C', 'D']"
      ]
     },
     "execution_count": 49,
     "metadata": {},
     "output_type": "execute_result"
    }
   ],
   "source": [
    "list2"
   ]
  },
  {
   "cell_type": "code",
   "execution_count": 53,
   "id": "3df8e27c",
   "metadata": {},
   "outputs": [
    {
     "data": {
      "text/plain": [
       "True"
      ]
     },
     "execution_count": 53,
     "metadata": {},
     "output_type": "execute_result"
    }
   ],
   "source": [
    "'A' in list2\n",
    "'B' in list2\n",
    "'C' in list2\n",
    "'D' in list2\n",
    "\n",
    "#i in list2"
   ]
  },
  {
   "cell_type": "code",
   "execution_count": null,
   "id": "4642a135",
   "metadata": {},
   "outputs": [],
   "source": [
    "# whenever you are reading in opertaor\n",
    "# iterate the loop(for/while) and print the elements"
   ]
  },
  {
   "cell_type": "code",
   "execution_count": 54,
   "id": "09ca01a1",
   "metadata": {},
   "outputs": [
    {
     "name": "stdout",
     "output_type": "stream",
     "text": [
      "A\n",
      "B\n",
      "C\n",
      "D\n"
     ]
    }
   ],
   "source": [
    "for i in list2:\n",
    "    print(i)"
   ]
  },
  {
   "cell_type": "code",
   "execution_count": 55,
   "id": "1962a97a",
   "metadata": {},
   "outputs": [],
   "source": [
    "i=0\n",
    "while <condition>:\n",
    "    print(i)\n",
    "i+=1"
   ]
  },
  {
   "cell_type": "code",
   "execution_count": null,
   "id": "2677b365",
   "metadata": {},
   "outputs": [],
   "source": [
    "# If you want to deal with while\n",
    "# we required numbers"
   ]
  },
  {
   "cell_type": "code",
   "execution_count": 56,
   "id": "f9547f7a",
   "metadata": {},
   "outputs": [
    {
     "name": "stdout",
     "output_type": "stream",
     "text": [
      "1\n",
      "2\n",
      "3\n",
      "4\n"
     ]
    }
   ],
   "source": [
    "for i in list1:\n",
    "    print(i)"
   ]
  },
  {
   "cell_type": "markdown",
   "id": "cfbfafca",
   "metadata": {},
   "source": [
    "$Index$"
   ]
  },
  {
   "cell_type": "code",
   "execution_count": 59,
   "id": "aa4bcae9",
   "metadata": {},
   "outputs": [
    {
     "data": {
      "text/plain": [
       "['A', 'B', 'C', 'D']"
      ]
     },
     "execution_count": 59,
     "metadata": {},
     "output_type": "execute_result"
    }
   ],
   "source": [
    "list2"
   ]
  },
  {
   "cell_type": "code",
   "execution_count": null,
   "id": "6bd8655f",
   "metadata": {},
   "outputs": [],
   "source": [
    "# python index start with zero\n",
    "\n",
    "A  B   C  D\n",
    "0  1   2  3"
   ]
  },
  {
   "cell_type": "code",
   "execution_count": 63,
   "id": "8ab05836",
   "metadata": {},
   "outputs": [
    {
     "data": {
      "text/plain": [
       "('A', 'B', 'C', 'D')"
      ]
     },
     "execution_count": 63,
     "metadata": {},
     "output_type": "execute_result"
    }
   ],
   "source": [
    "list2[0],list2[1],list2[2],list2[3]"
   ]
  },
  {
   "cell_type": "code",
   "execution_count": null,
   "id": "1868e304",
   "metadata": {},
   "outputs": [],
   "source": [
    "# print A B C D \n",
    "# using for loop index method\n",
    "# using while loop"
   ]
  },
  {
   "cell_type": "code",
   "execution_count": 67,
   "id": "c59ca4f1",
   "metadata": {},
   "outputs": [
    {
     "name": "stdout",
     "output_type": "stream",
     "text": [
      "0 A\n",
      "1 B\n",
      "2 C\n",
      "3 D\n"
     ]
    }
   ],
   "source": [
    "for i in range(len(list2)):\n",
    "    print(i,list2[i])\n",
    "    "
   ]
  },
  {
   "cell_type": "code",
   "execution_count": 68,
   "id": "6dbbc2cf",
   "metadata": {},
   "outputs": [
    {
     "name": "stdout",
     "output_type": "stream",
     "text": [
      "0 A\n",
      "1 B\n",
      "2 C\n",
      "3 D\n"
     ]
    }
   ],
   "source": [
    "# i in range(len(list2))\n",
    "i=0\n",
    "while i<len(list2):\n",
    "    print(i,list2[i])\n",
    "    i=i+1"
   ]
  },
  {
   "cell_type": "code",
   "execution_count": null,
   "id": "f1547da1",
   "metadata": {},
   "outputs": [],
   "source": [
    "-4  -3  -2   -1\n",
    "A    B   C    D\n",
    "0   1    2    3"
   ]
  },
  {
   "cell_type": "code",
   "execution_count": null,
   "id": "acb2f184",
   "metadata": {},
   "outputs": [],
   "source": [
    "####################### For /while##########################\n",
    "# The postive index of 'A' is 0\n",
    "# The postive index of 'B' is 1\n",
    "\n",
    "####################### For /while##########################\n",
    "# The negative index of 'A' is -1\n",
    "# The negative index of 'B' is -2\n",
    "\n",
    "####################### For /while##########################\n",
    "# The postive index of 'A' is 0 and negtaive index is -4\n",
    "# The postive index of 'B' is 1 and negative index is =3\n"
   ]
  },
  {
   "cell_type": "code",
   "execution_count": 69,
   "id": "cc3dd619",
   "metadata": {},
   "outputs": [
    {
     "name": "stdout",
     "output_type": "stream",
     "text": [
      "The Negative Index of A is -4 and positive index is 0\n",
      "The Negative Index of B is -3 and positive index is 1\n",
      "The Negative Index of C is -2 and positive index is 2\n",
      "The Negative Index of D is -1 and positive index is 3\n"
     ]
    }
   ],
   "source": [
    "for i in range(len(list2)):\n",
    "    print(\"The Negative Index of {} is {} and positive index is {}\".format(list2[i],(i-len(list2)),i))"
   ]
  },
  {
   "cell_type": "code",
   "execution_count": 70,
   "id": "5ce3322d",
   "metadata": {},
   "outputs": [
    {
     "name": "stdout",
     "output_type": "stream",
     "text": [
      "the negative index A is -4\n",
      "the negative index B is -3\n",
      "the negative index C is -2\n",
      "the negative index D is -1\n"
     ]
    }
   ],
   "source": [
    "for i in range(len(list2)):\n",
    "    print('the negative index {} is {}'.format(list2[i],i-len(list2)))"
   ]
  },
  {
   "cell_type": "code",
   "execution_count": 73,
   "id": "7a81385b",
   "metadata": {},
   "outputs": [
    {
     "name": "stdout",
     "output_type": "stream",
     "text": [
      "The Negative index of A is -4\n",
      "The Negative index of B is -3\n",
      "The Negative index of C is -2\n",
      "The Negative index of D is -1\n"
     ]
    }
   ],
   "source": [
    "for i in range(len(list2)):\n",
    "    print(\"The Negative index of\",list2[i],\"is\",i-len(list2))"
   ]
  },
  {
   "cell_type": "code",
   "execution_count": 74,
   "id": "d3e1a1db",
   "metadata": {},
   "outputs": [
    {
     "name": "stdout",
     "output_type": "stream",
     "text": [
      "1\n",
      "2\n",
      "3\n",
      "4\n"
     ]
    }
   ],
   "source": [
    "list1 = [1, 2, 3, 4]\n",
    "i  = 0\n",
    "while i <list1[-1]:\n",
    "    print(list1[i])\n",
    "    i=i+1"
   ]
  },
  {
   "cell_type": "code",
   "execution_count": 75,
   "id": "ce4222e2",
   "metadata": {},
   "outputs": [
    {
     "name": "stdout",
     "output_type": "stream",
     "text": [
      "the positive index A is 0 and negative index A is -4\n",
      "the positive index B is 1 and negative index B is -3\n",
      "the positive index C is 2 and negative index C is -2\n",
      "the positive index D is 3 and negative index D is -1\n"
     ]
    }
   ],
   "source": [
    "for i in range(len(list2)):\n",
    "    print(\"the positive index {} is {} and negative index {} is {}\".format(list2[i],i,list2[i],i-len(list2)))"
   ]
  },
  {
   "cell_type": "code",
   "execution_count": 64,
   "id": "ec80b702",
   "metadata": {},
   "outputs": [
    {
     "name": "stdout",
     "output_type": "stream",
     "text": [
      "A\n",
      "B\n",
      "C\n",
      "D\n"
     ]
    }
   ],
   "source": [
    "list1=['A','B','C','D']\n",
    "i=0\n",
    "while i<=3:\n",
    "    \n",
    "    print(list1[i])\n",
    "    i=i+1"
   ]
  },
  {
   "cell_type": "code",
   "execution_count": 76,
   "id": "d97f8832",
   "metadata": {},
   "outputs": [
    {
     "name": "stdout",
     "output_type": "stream",
     "text": [
      "positive index of 1 is 0 and negative index is-4\n",
      "positive index of 2 is 1 and negative index is-3\n",
      "positive index of 3 is 2 and negative index is-2\n",
      "positive index of 4 is 3 and negative index is-1\n"
     ]
    }
   ],
   "source": [
    "a=[1,2,3,4]\n",
    "for i in a:\n",
    "    print(\"positive index of {} is {} and negative index is{}\".format(i,a.index(i),a.index(i)-len(a)))"
   ]
  },
  {
   "cell_type": "markdown",
   "id": "b42830f9",
   "metadata": {},
   "source": [
    "**check the mutable condition** "
   ]
  },
  {
   "cell_type": "code",
   "execution_count": 77,
   "id": "cc4673ec",
   "metadata": {},
   "outputs": [
    {
     "data": {
      "text/plain": [
       "['A', 'B', 'C', 'D']"
      ]
     },
     "execution_count": 77,
     "metadata": {},
     "output_type": "execute_result"
    }
   ],
   "source": [
    "list1"
   ]
  },
  {
   "cell_type": "code",
   "execution_count": 78,
   "id": "2dfe2c7d",
   "metadata": {},
   "outputs": [],
   "source": [
    "list1[0]='AAAA'"
   ]
  },
  {
   "cell_type": "code",
   "execution_count": 80,
   "id": "8dbb6b9a",
   "metadata": {},
   "outputs": [
    {
     "data": {
      "text/plain": [
       "'D'"
      ]
     },
     "execution_count": 80,
     "metadata": {},
     "output_type": "execute_result"
    }
   ],
   "source": [
    "list1[3]"
   ]
  },
  {
   "cell_type": "markdown",
   "id": "030a0d32",
   "metadata": {},
   "source": [
    "- List is mutable\n",
    "\n",
    "- string is immutable"
   ]
  },
  {
   "cell_type": "code",
   "execution_count": 95,
   "id": "f8b166a2",
   "metadata": {},
   "outputs": [
    {
     "data": {
      "text/plain": [
       "4"
      ]
     },
     "execution_count": 95,
     "metadata": {},
     "output_type": "execute_result"
    }
   ],
   "source": [
    "list1=[[[[[1,2,3,4]]]]]\n",
    "\n",
    "# retrive the index 4\n",
    "# what is the index of 4?\n",
    "# in the list1 how many elements are there: 1\n",
    "list1[0][0][0][0][3]"
   ]
  },
  {
   "cell_type": "code",
   "execution_count": 102,
   "id": "80fedb00",
   "metadata": {},
   "outputs": [
    {
     "data": {
      "text/plain": [
       "'Cherry'"
      ]
     },
     "execution_count": 102,
     "metadata": {},
     "output_type": "execute_result"
    }
   ],
   "source": [
    "list2=[[[[['A','B',[1,2,3,['Cherry']]]]]]]\n",
    "\n",
    "list2[0][0][0][0][2][3][0]"
   ]
  },
  {
   "cell_type": "code",
   "execution_count": 103,
   "id": "88743310",
   "metadata": {},
   "outputs": [
    {
     "name": "stdout",
     "output_type": "stream",
     "text": [
      "1\n",
      "2\n",
      "3\n"
     ]
    }
   ],
   "source": [
    "list1=[[1,2,3]]\n",
    "# print 1,2,3  using for loop\n",
    "l1=[[1,2,3]]\n",
    "for i in l1[0]:\n",
    "    print(i)"
   ]
  },
  {
   "cell_type": "code",
   "execution_count": 104,
   "id": "bb57409a",
   "metadata": {},
   "outputs": [
    {
     "name": "stdout",
     "output_type": "stream",
     "text": [
      "[1, 2, 3]\n"
     ]
    }
   ],
   "source": [
    "list1=[[1,2,3]]\n",
    "for i in range(len(list1)):\n",
    "    print(list1[0])"
   ]
  },
  {
   "cell_type": "code",
   "execution_count": 107,
   "id": "052687ca",
   "metadata": {},
   "outputs": [
    {
     "name": "stdout",
     "output_type": "stream",
     "text": [
      "1\n"
     ]
    }
   ],
   "source": [
    "l3 =[[1,2,3]] # len=1\n",
    "for i in range(len(l3)):\n",
    "    print(l3[0][i])"
   ]
  },
  {
   "cell_type": "code",
   "execution_count": 106,
   "id": "1d29948f",
   "metadata": {},
   "outputs": [
    {
     "name": "stdout",
     "output_type": "stream",
     "text": [
      "0\n",
      "1\n",
      "2\n"
     ]
    }
   ],
   "source": [
    "list1=[[1,2,3]]\n",
    "for i in range(len(list1[0])):\n",
    "    print(i)"
   ]
  },
  {
   "cell_type": "code",
   "execution_count": 110,
   "id": "7a10b69f",
   "metadata": {},
   "outputs": [
    {
     "data": {
      "text/plain": [
       "[3, 'A', 'C']"
      ]
     },
     "execution_count": 110,
     "metadata": {},
     "output_type": "execute_result"
    }
   ],
   "source": [
    "list_con[2:7:2]"
   ]
  },
  {
   "cell_type": "markdown",
   "id": "3da2b95c",
   "metadata": {},
   "source": [
    "$slice$"
   ]
  },
  {
   "cell_type": "code",
   "execution_count": 1,
   "id": "09bb6a18",
   "metadata": {},
   "outputs": [],
   "source": [
    "list1=['A','B','C','D','E','F',1,2,3,4,5,6]"
   ]
  },
  {
   "cell_type": "code",
   "execution_count": null,
   "id": "4e144947",
   "metadata": {},
   "outputs": [],
   "source": [
    "list1[2:11:2] # Pos\n",
    "list1[2:11:-2] # np\n",
    "list1[2:-11:2] # np\n",
    "list1[2:-11:-2] # p\n",
    "list1[-2:11:2] # p\n",
    "list1[-2:-11:2] #np\n",
    "list1[-2:-11:-2]# p\n",
    "list1[-2:11:-2]#np"
   ]
  },
  {
   "cell_type": "code",
   "execution_count": 3,
   "id": "35848d65",
   "metadata": {},
   "outputs": [
    {
     "name": "stdout",
     "output_type": "stream",
     "text": [
      "Hyderbad\n",
      "Delhi\n",
      "Chennai\n"
     ]
    }
   ],
   "source": [
    "#Wap ask the user print the elements which has length more than 4\n",
    "# list1=['Hyderbad','Delhi','Chennai','Blr']\n",
    "# output: Hyderbad,Delhi,chennai\n",
    "list1=['Hyderbad','Delhi','Chennai','Blr']\n",
    "for i in list1:\n",
    "    if len(i)>=4:\n",
    "        print(i)\n"
   ]
  },
  {
   "cell_type": "code",
   "execution_count": 4,
   "id": "b4932922",
   "metadata": {},
   "outputs": [
    {
     "name": "stdout",
     "output_type": "stream",
     "text": [
      "Hyderbad\n",
      "Delhi\n",
      "Chennai\n"
     ]
    }
   ],
   "source": [
    "list1=['Hyderbad','Delhi','Chennai','Blr']\n",
    "for i in range(len(list1)):\n",
    "    if len(list1[i])>=4:\n",
    "        print(list1[i])"
   ]
  },
  {
   "cell_type": "markdown",
   "id": "e4dc1d91",
   "metadata": {},
   "source": [
    "- in operators ===== direct element\n",
    "\n",
    "- range() requires a number inside the bracket\n",
    "\n",
    "- that number indicates index of the element"
   ]
  },
  {
   "cell_type": "code",
   "execution_count": 6,
   "id": "dcdff653",
   "metadata": {},
   "outputs": [
    {
     "name": "stdout",
     "output_type": "stream",
     "text": [
      "Hyderb#d\n",
      "Chenn#i\n"
     ]
    }
   ],
   "source": [
    "# WAP ask the user to print the elements which are having '#' inthe element\n",
    "list1=['Hyderb#d','Delhi','Chenn#i','Blr']\n",
    "for i in list1:\n",
    "    if '#' in i:\n",
    "        print(i)"
   ]
  },
  {
   "cell_type": "code",
   "execution_count": 9,
   "id": "ab67bb66",
   "metadata": {},
   "outputs": [
    {
     "name": "stdout",
     "output_type": "stream",
     "text": [
      "Hyderb#d\n",
      "Chenn#i\n",
      "B#lr\n"
     ]
    }
   ],
   "source": [
    "list1=['Hyderb#d','Delhi','Chenn#i','B#lr']\n",
    "for i in range(len(list1)):\n",
    "    if '#' in list1[i]:\n",
    "        print(list1[i])"
   ]
  },
  {
   "cell_type": "code",
   "execution_count": 8,
   "id": "6940f98d",
   "metadata": {},
   "outputs": [
    {
     "name": "stdout",
     "output_type": "stream",
     "text": [
      "Hyderb#d\n",
      "Chenn#i\n"
     ]
    }
   ],
   "source": [
    "i=0\n",
    "while i<len(list1):\n",
    "    if '#' in list1[i]:\n",
    "        print(list1[i])\n",
    "    i=i+1"
   ]
  },
  {
   "cell_type": "code",
   "execution_count": 11,
   "id": "1bc1cd18",
   "metadata": {},
   "outputs": [
    {
     "name": "stdout",
     "output_type": "stream",
     "text": [
      "Hyderb#d\n",
      "haridwar\n"
     ]
    }
   ],
   "source": [
    "#WAP ask the user print elements which are starting with 'H'\n",
    "list1=['Hyderb#d','Delhi','Chenn#i','B#lr','haridwar']\n",
    "# startwith \n",
    "for i in range(len(list1)):\n",
    "    if list1[i].lower()[0]=='h':\n",
    "        print(list1[i])"
   ]
  },
  {
   "cell_type": "code",
   "execution_count": 13,
   "id": "e7714677",
   "metadata": {},
   "outputs": [
    {
     "name": "stdout",
     "output_type": "stream",
     "text": [
      "Hyderb#d\n",
      "haridwar\n"
     ]
    }
   ],
   "source": [
    "for i in list1:\n",
    "    if i.lower().startswith('h'):\n",
    "        print(i)"
   ]
  },
  {
   "cell_type": "code",
   "execution_count": null,
   "id": "7f466b66",
   "metadata": {},
   "outputs": [],
   "source": [
    "list1=['omkar.nallagoni@gmail.com',\n",
    "       'kareem.pasha@gmail.com',\n",
    "       'santhosh.kadam@gmail.com']\n",
    "\n",
    "# print the second names : nallagoni,pash,kadam"
   ]
  },
  {
   "cell_type": "code",
   "execution_count": 14,
   "id": "8cdb2f5e",
   "metadata": {},
   "outputs": [
    {
     "name": "stdout",
     "output_type": "stream",
     "text": [
      "nallagoni\n",
      "pasha\n",
      "kadam\n"
     ]
    }
   ],
   "source": [
    "list3 = ['omkar.nallagoni@gmail.com','karim.pasha@gmail.com','santhosh.kadam@gmail.com']\n",
    "\n",
    "for i in list3:\n",
    "    print(i[i.find('.')+1:i.find('@')])"
   ]
  },
  {
   "cell_type": "code",
   "execution_count": 15,
   "id": "6c50d000",
   "metadata": {},
   "outputs": [
    {
     "name": "stdout",
     "output_type": "stream",
     "text": [
      "nallagoni\n",
      "pasha\n",
      "kadam\n"
     ]
    }
   ],
   "source": [
    "list1=['omkar.nallagoni@gmail.com','kareem.pasha@gmail.com','santosh.kadam@gmail.com']\n",
    "for i in list1:\n",
    "    print(i[i.find('.')+1:i.find('@')])\n",
    "    \n",
    "# Understand the pattern\n",
    "# the second name is between . and @"
   ]
  },
  {
   "cell_type": "code",
   "execution_count": 20,
   "id": "0f47924c",
   "metadata": {},
   "outputs": [
    {
     "data": {
      "text/plain": [
       "6"
      ]
     },
     "execution_count": 20,
     "metadata": {},
     "output_type": "execute_result"
    }
   ],
   "source": [
    "'omkar.nallagoni@gmail.com'.find('.')\n",
    "'kareem.pasha@gmail.com'.find('.')"
   ]
  },
  {
   "cell_type": "code",
   "execution_count": 29,
   "id": "77dae7c8",
   "metadata": {},
   "outputs": [
    {
     "data": {
      "text/plain": [
       "'purnima'"
      ]
     },
     "execution_count": 29,
     "metadata": {},
     "output_type": "execute_result"
    }
   ],
   "source": [
    "str1='kk.purnima@gmail.com'\n",
    "str1[str1.find('.')+1:str1.find('@')]"
   ]
  },
  {
   "cell_type": "code",
   "execution_count": 37,
   "id": "628bdd01",
   "metadata": {},
   "outputs": [
    {
     "name": "stdout",
     "output_type": "stream",
     "text": [
      "omkar.nallagoni@gmail.com\n",
      "nallagoni\n",
      "nallagoni\n",
      "kareem.pasha@gmail.com\n",
      "pasha\n",
      "pasha\n",
      "santosh.kadam@gmail.com\n",
      "kadam\n",
      "kadam\n"
     ]
    }
   ],
   "source": [
    "for i in list1:\n",
    "    print(i)\n",
    "    sec_name=i[i.find('.')+1:i.find('@')]\n",
    "    print(sec_name)\n",
    "    alter_sec_name=i.split('@')[0].split('.')[1]\n",
    "    print(alter_sec_name)"
   ]
  },
  {
   "cell_type": "code",
   "execution_count": 38,
   "id": "34b4c36c",
   "metadata": {},
   "outputs": [
    {
     "name": "stdout",
     "output_type": "stream",
     "text": [
      "omkar\n",
      "kareem\n",
      "santosh\n"
     ]
    }
   ],
   "source": [
    "#find first name in gmail\n",
    "list2=['omkar.nallagoni@gmail.com','kareem.pasha@gmail.com','santosh.kadam@gmail.com']\n",
    "for i in list2:\n",
    "    print(i[:i.find('.')])"
   ]
  },
  {
   "cell_type": "code",
   "execution_count": 36,
   "id": "f4f3db7a",
   "metadata": {},
   "outputs": [
    {
     "data": {
      "text/plain": [
       "['kareem', 'pasha']"
      ]
     },
     "execution_count": 36,
     "metadata": {},
     "output_type": "execute_result"
    }
   ],
   "source": [
    "str1='kareem.pasha@gmail.com'\n",
    "str1.split('@')[0].split('.')[1]"
   ]
  },
  {
   "cell_type": "markdown",
   "id": "06de56cf",
   "metadata": {},
   "source": [
    "$list$-$methods$"
   ]
  },
  {
   "cell_type": "code",
   "execution_count": 39,
   "id": "82ebd771",
   "metadata": {},
   "outputs": [
    {
     "data": {
      "text/plain": [
       "['__add__',\n",
       " '__class__',\n",
       " '__class_getitem__',\n",
       " '__contains__',\n",
       " '__delattr__',\n",
       " '__delitem__',\n",
       " '__dir__',\n",
       " '__doc__',\n",
       " '__eq__',\n",
       " '__format__',\n",
       " '__ge__',\n",
       " '__getattribute__',\n",
       " '__getitem__',\n",
       " '__getstate__',\n",
       " '__gt__',\n",
       " '__hash__',\n",
       " '__iadd__',\n",
       " '__imul__',\n",
       " '__init__',\n",
       " '__init_subclass__',\n",
       " '__iter__',\n",
       " '__le__',\n",
       " '__len__',\n",
       " '__lt__',\n",
       " '__mul__',\n",
       " '__ne__',\n",
       " '__new__',\n",
       " '__reduce__',\n",
       " '__reduce_ex__',\n",
       " '__repr__',\n",
       " '__reversed__',\n",
       " '__rmul__',\n",
       " '__setattr__',\n",
       " '__setitem__',\n",
       " '__sizeof__',\n",
       " '__str__',\n",
       " '__subclasshook__',\n",
       " 'append',\n",
       " 'clear',\n",
       " 'copy',\n",
       " 'count',\n",
       " 'extend',\n",
       " 'index',\n",
       " 'insert',\n",
       " 'pop',\n",
       " 'remove',\n",
       " 'reverse',\n",
       " 'sort']"
      ]
     },
     "execution_count": 39,
     "metadata": {},
     "output_type": "execute_result"
    }
   ],
   "source": [
    "dir([])"
   ]
  },
  {
   "cell_type": "markdown",
   "id": "cce42fac",
   "metadata": {},
   "source": [
    "$append$"
   ]
  },
  {
   "cell_type": "code",
   "execution_count": 42,
   "id": "e4e1ca28",
   "metadata": {},
   "outputs": [
    {
     "data": {
      "text/plain": [
       "[100, 200, 300, 400]"
      ]
     },
     "execution_count": 42,
     "metadata": {},
     "output_type": "execute_result"
    }
   ],
   "source": [
    "list1=[100,200,300]\n",
    "# now you want append a new element\n",
    "#[100,200,300,400]\n",
    "list1.append(400)\n",
    "# ansswer will save automatically in oroginal list\n",
    "list1\n",
    "# append method will append the data at last index"
   ]
  },
  {
   "cell_type": "code",
   "execution_count": 48,
   "id": "d7bbd561",
   "metadata": {},
   "outputs": [
    {
     "data": {
      "text/plain": [
       "[[20, 30, 40], 'python']"
      ]
     },
     "execution_count": 48,
     "metadata": {},
     "output_type": "execute_result"
    }
   ],
   "source": [
    "l1=[]\n",
    "l1.append([20,30,40])\n",
    "l1.append('python')\n",
    "l1"
   ]
  },
  {
   "cell_type": "code",
   "execution_count": null,
   "id": "d3165f6f",
   "metadata": {},
   "outputs": [],
   "source": [
    "# suppose if you want save the output in a seperate list==== > append"
   ]
  },
  {
   "cell_type": "code",
   "execution_count": 50,
   "id": "2114f10d",
   "metadata": {},
   "outputs": [
    {
     "name": "stdout",
     "output_type": "stream",
     "text": [
      "Hyderbad\n",
      "Delhi\n",
      "Chennai\n"
     ]
    }
   ],
   "source": [
    "list1=['Hyderbad','Delhi','Chennai','Blr']\n",
    "for i in list1:\n",
    "    if len(i)>=4:\n",
    "        print(i)"
   ]
  },
  {
   "cell_type": "code",
   "execution_count": 51,
   "id": "d6219e00",
   "metadata": {},
   "outputs": [
    {
     "data": {
      "text/plain": [
       "['Hyderbad', 'Delhi', 'Chennai']"
      ]
     },
     "execution_count": 51,
     "metadata": {},
     "output_type": "execute_result"
    }
   ],
   "source": [
    "list1=['Hyderbad','Delhi','Chennai','Blr']\n",
    "city_list=[]\n",
    "for i in list1:\n",
    "    if len(i)>=4:\n",
    "        city_list.append(i)\n",
    "city_list"
   ]
  },
  {
   "cell_type": "code",
   "execution_count": 52,
   "id": "74123b84",
   "metadata": {},
   "outputs": [
    {
     "data": {
      "text/plain": [
       "['Hyderb#d', 'Chenn#i']"
      ]
     },
     "execution_count": 52,
     "metadata": {},
     "output_type": "execute_result"
    }
   ],
   "source": [
    "# WAP ask the user to print the elements which are having '#' inthe element\n",
    "list1=['Hyderb#d','Delhi','Chenn#i','Blr']\n",
    "city_list1=[]\n",
    "for i in list1:\n",
    "    if '#' in i:\n",
    "        city_list1.append(i)\n",
    "        \n",
    "city_list1"
   ]
  },
  {
   "cell_type": "code",
   "execution_count": 54,
   "id": "b245d68e",
   "metadata": {},
   "outputs": [
    {
     "data": {
      "text/plain": [
       "['Hyderb#d', 'haridwar']"
      ]
     },
     "execution_count": 54,
     "metadata": {},
     "output_type": "execute_result"
    }
   ],
   "source": [
    "list1=['Hyderb#d','Delhi','Chenn#i','B#lr','haridwar']\n",
    "city_list2=[] \n",
    "for i in range(len(list1)):\n",
    "    if list1[i].lower()[0]=='h':\n",
    "        city_list2.append(list1[i])\n",
    "city_list2"
   ]
  },
  {
   "cell_type": "code",
   "execution_count": 57,
   "id": "d80b05e3",
   "metadata": {},
   "outputs": [
    {
     "data": {
      "text/plain": [
       "'a'"
      ]
     },
     "execution_count": 57,
     "metadata": {},
     "output_type": "execute_result"
    }
   ],
   "source": [
    "'a.b@gma.com'.split('.')[0]"
   ]
  },
  {
   "cell_type": "code",
   "execution_count": 59,
   "id": "c7c3916a",
   "metadata": {},
   "outputs": [
    {
     "data": {
      "text/plain": [
       "(['omkar', 'kareem', 'santosh'], ['nallagoni', 'pasha', 'kadam'])"
      ]
     },
     "execution_count": 59,
     "metadata": {},
     "output_type": "execute_result"
    }
   ],
   "source": [
    "list1=['omkar.nallagoni@gmail.com','kareem.pasha@gmail.com','santosh.kadam@gmail.com']\n",
    "first,second=[],[]\n",
    "for i in list1:\n",
    "    first.append(i.split('.')[0])\n",
    "    second.append(i[i.find('.')+1:i.find('@')])\n",
    "    \n",
    "first,second"
   ]
  },
  {
   "cell_type": "code",
   "execution_count": 60,
   "id": "dfc8bb4a",
   "metadata": {},
   "outputs": [
    {
     "data": {
      "text/plain": [
       "(['omkar', 'kareem', 'santosh'], ['nallagoni', 'pasha', 'kadam'])"
      ]
     },
     "execution_count": 60,
     "metadata": {},
     "output_type": "execute_result"
    }
   ],
   "source": [
    "def names(list1):\n",
    "    first,second=[],[]\n",
    "    for i in list1:\n",
    "        first.append(i.split('.')[0])\n",
    "        second.append(i[i.find('.')+1:i.find('@')])\n",
    "    return(first,second)\n",
    "list1=['omkar.nallagoni@gmail.com','kareem.pasha@gmail.com','santosh.kadam@gmail.com']\n",
    "names(list1)"
   ]
  },
  {
   "cell_type": "code",
   "execution_count": 64,
   "id": "76f92bdf",
   "metadata": {},
   "outputs": [
    {
     "data": {
      "text/plain": [
       "([12, 16, 30, 34, 24], [35, 41, 39, 7, 43])"
      ]
     },
     "execution_count": 64,
     "metadata": {},
     "output_type": "execute_result"
    }
   ],
   "source": [
    "# wap ask the user get 10 random numbers between 10 to 50\n",
    "# get the even and odd number from those 10 random numbers\n",
    "\n",
    "# take two empty list : even and odd\n",
    "# save the results in even and odd \n",
    "import random\n",
    "even,odd=[],[]\n",
    "for i in range(10):\n",
    "    num=random.randint(1,50)\n",
    "    if num%2==0: \n",
    "        even.append(num)\n",
    "    else:\n",
    "        odd.append(num)\n",
    "even,odd"
   ]
  },
  {
   "cell_type": "markdown",
   "id": "eddb54fd",
   "metadata": {},
   "source": [
    "**List Comprehenshion**"
   ]
  },
  {
   "cell_type": "code",
   "execution_count": 67,
   "id": "741156b1",
   "metadata": {},
   "outputs": [
    {
     "data": {
      "text/plain": [
       "['Hyderbad', 'Delhi', 'Chennai']"
      ]
     },
     "execution_count": 67,
     "metadata": {},
     "output_type": "execute_result"
    }
   ],
   "source": [
    "list1=['Hyderbad','Delhi','Chennai','Blr'] # qn\n",
    "\n",
    "city_list=[]\n",
    "for i in list1:\n",
    "    if len(i)>=4:\n",
    "        city_list.append(i)\n",
    "city_list\n",
    "\n",
    "# start:you have taken an empty list\n",
    "# end: appending the results\n",
    "\n",
    "output=[i for i in list1 if len(i)>=4]\n",
    "output\n",
    "\n",
    "# [<output> <for loop> <if_condition>]"
   ]
  },
  {
   "cell_type": "code",
   "execution_count": 68,
   "id": "3420e7ae",
   "metadata": {},
   "outputs": [
    {
     "data": {
      "text/plain": [
       "['Hyderb#d', 'Chenn#i']"
      ]
     },
     "execution_count": 68,
     "metadata": {},
     "output_type": "execute_result"
    }
   ],
   "source": [
    "# WAP ask the user to print the elements which are having '#' inthe element\n",
    "list1=['Hyderb#d','Delhi','Chenn#i','Blr']\n",
    "city_list1=[]\n",
    "for i in list1:\n",
    "    if '#' in i:\n",
    "        city_list1.append(i)\n",
    "        \n",
    "city_list1\n",
    "\n",
    "########################################################\n",
    "output1=[i for i in list1 if '#' in i]\n",
    "output1"
   ]
  },
  {
   "cell_type": "code",
   "execution_count": 69,
   "id": "1103dac2",
   "metadata": {},
   "outputs": [
    {
     "data": {
      "text/plain": [
       "['nallagoni', 'pasha', 'kadam']"
      ]
     },
     "execution_count": 69,
     "metadata": {},
     "output_type": "execute_result"
    }
   ],
   "source": [
    "list1=['omkar.nallagoni@gmail.com','kareem.pasha@gmail.com','santosh.kadam@gmail.com']\n",
    "output=[i[i.find('.')+1:i.find('@')] for i in list1]\n",
    "output"
   ]
  },
  {
   "cell_type": "code",
   "execution_count": 71,
   "id": "ee171c76",
   "metadata": {},
   "outputs": [
    {
     "data": {
      "text/plain": [
       "[0, 1, 4, 9, 16]"
      ]
     },
     "execution_count": 71,
     "metadata": {},
     "output_type": "execute_result"
    }
   ],
   "source": [
    "square=[]\n",
    "for i in range(5):\n",
    "    square.append(i*i)\n",
    "square\n",
    "#################################\n",
    "\n",
    "output2=[i*i for i in range(5)]\n",
    "output2"
   ]
  },
  {
   "cell_type": "code",
   "execution_count": 72,
   "id": "875e6155",
   "metadata": {},
   "outputs": [
    {
     "data": {
      "text/plain": [
       "(['omkar', 'kareem', 'santosh'], ['nallagoni', 'pasha', 'kadam'])"
      ]
     },
     "execution_count": 72,
     "metadata": {},
     "output_type": "execute_result"
    }
   ],
   "source": [
    "list1=['omkar.nallagoni@gmail.com','kareem.pasha@gmail.com','santosh.kadam@gmail.com']\n",
    "first,second=[],[]\n",
    "for i in list1:\n",
    "    first.append(i.split('.')[0])\n",
    "    second.append(i[i.find('.')+1:i.find('@')])\n",
    "    \n",
    "first,second\n",
    "\n",
    "############################################\n",
    "o1_f=[i.split('.')[0] for i in list1]\n",
    "o2_s=[i[i.find('.')+1:i.find('@')] for i in list1]\n",
    "o1_f,o2_s"
   ]
  },
  {
   "cell_type": "code",
   "execution_count": 82,
   "id": "3bd0d49b",
   "metadata": {},
   "outputs": [
    {
     "data": {
      "text/plain": [
       "[0, 'odd', 2, 'odd', 4, 'odd', 6, 'odd', 8, 'odd']"
      ]
     },
     "execution_count": 82,
     "metadata": {},
     "output_type": "execute_result"
    }
   ],
   "source": [
    "#if else\n",
    "\n",
    "even_odd=[]\n",
    "for i in range(10):\n",
    "    if i%2==0:\n",
    "        even_odd.append('even: {}'.format(i))\n",
    "        \n",
    "    else:\n",
    "        even_odd.append('odd: {}'.format(i))\n",
    "        \n",
    "even_odd\n",
    "\n",
    "\n",
    "###################################################\n",
    "output3=[i if i%2==0  else 'odd' for i in range(10)]\n",
    "output3"
   ]
  },
  {
   "cell_type": "code",
   "execution_count": null,
   "id": "a518b14c",
   "metadata": {},
   "outputs": [],
   "source": [
    "[<output> <for loop> <if condition>] # For with if\n",
    "\n",
    "[<if_out>  <if_cond>  else  <else_op>  <for>] # for with if-else"
   ]
  },
  {
   "cell_type": "code",
   "execution_count": 2,
   "id": "96ce6848",
   "metadata": {},
   "outputs": [
    {
     "name": "stdout",
     "output_type": "stream",
     "text": [
      "Apple good\n",
      "Ball good\n",
      "Cat better\n",
      "Dog better\n",
      "Elephant good\n"
     ]
    }
   ],
   "source": [
    "list1=['Apple','Ball','Cat','Dog','Elephant']\n",
    "# if len(elements) > 3 print it is good\n",
    "# else: print it is better\n",
    "for i in list1:\n",
    "    if len(i)>3:\n",
    "        print('{} good'.format(i))\n",
    "    else:\n",
    "        print('{} better'.format(i))"
   ]
  },
  {
   "cell_type": "code",
   "execution_count": 4,
   "id": "1ec1269c",
   "metadata": {},
   "outputs": [
    {
     "data": {
      "text/plain": [
       "['Apple good', 'Ball good', 'Cat better', 'Dog better', 'Elephant good']"
      ]
     },
     "execution_count": 4,
     "metadata": {},
     "output_type": "execute_result"
    }
   ],
   "source": [
    "list1=['Apple','Ball','Cat','Dog','Elephant']\n",
    "items=[]\n",
    "for i in list1:\n",
    "    if len(i)>3:\n",
    "        items.append('{} good'.format(i))\n",
    "    else:\n",
    "        items.append('{} better'.format(i))\n",
    "    \n",
    "items"
   ]
  },
  {
   "cell_type": "code",
   "execution_count": 6,
   "id": "c996d8f1",
   "metadata": {},
   "outputs": [
    {
     "data": {
      "text/plain": [
       "['Apple good', 'Ball good', 'Cat better', 'Dog better', 'Elephant good']"
      ]
     },
     "execution_count": 6,
     "metadata": {},
     "output_type": "execute_result"
    }
   ],
   "source": [
    "#[<if_out>  <if_cond>  else  <else_op>  <for>] # for with if-else\n",
    "items1=['{} good'.format(i)  if len(i)>3 else '{} better'.format(i) for i in list1]\n",
    "items1"
   ]
  },
  {
   "cell_type": "code",
   "execution_count": 7,
   "id": "92083824",
   "metadata": {},
   "outputs": [
    {
     "data": {
      "text/plain": [
       "['__add__',\n",
       " '__class__',\n",
       " '__class_getitem__',\n",
       " '__contains__',\n",
       " '__delattr__',\n",
       " '__delitem__',\n",
       " '__dir__',\n",
       " '__doc__',\n",
       " '__eq__',\n",
       " '__format__',\n",
       " '__ge__',\n",
       " '__getattribute__',\n",
       " '__getitem__',\n",
       " '__getstate__',\n",
       " '__gt__',\n",
       " '__hash__',\n",
       " '__iadd__',\n",
       " '__imul__',\n",
       " '__init__',\n",
       " '__init_subclass__',\n",
       " '__iter__',\n",
       " '__le__',\n",
       " '__len__',\n",
       " '__lt__',\n",
       " '__mul__',\n",
       " '__ne__',\n",
       " '__new__',\n",
       " '__reduce__',\n",
       " '__reduce_ex__',\n",
       " '__repr__',\n",
       " '__reversed__',\n",
       " '__rmul__',\n",
       " '__setattr__',\n",
       " '__setitem__',\n",
       " '__sizeof__',\n",
       " '__str__',\n",
       " '__subclasshook__',\n",
       " 'append',\n",
       " 'clear',\n",
       " 'copy',\n",
       " 'count',\n",
       " 'extend',\n",
       " 'index',\n",
       " 'insert',\n",
       " 'pop',\n",
       " 'remove',\n",
       " 'reverse',\n",
       " 'sort']"
      ]
     },
     "execution_count": 7,
     "metadata": {},
     "output_type": "execute_result"
    }
   ],
   "source": [
    "dir([])"
   ]
  },
  {
   "cell_type": "markdown",
   "id": "033dfbd6",
   "metadata": {},
   "source": [
    "$clear$"
   ]
  },
  {
   "cell_type": "code",
   "execution_count": 8,
   "id": "ee0bce9b",
   "metadata": {},
   "outputs": [],
   "source": [
    "list1=[1,2,3,4]\n",
    "list1.clear()\n",
    "# clear will clear all the elements"
   ]
  },
  {
   "cell_type": "code",
   "execution_count": 9,
   "id": "037c3932",
   "metadata": {},
   "outputs": [
    {
     "data": {
      "text/plain": [
       "[]"
      ]
     },
     "execution_count": 9,
     "metadata": {},
     "output_type": "execute_result"
    }
   ],
   "source": [
    "list1"
   ]
  },
  {
   "cell_type": "markdown",
   "id": "3be8304a",
   "metadata": {},
   "source": [
    "$delete$"
   ]
  },
  {
   "cell_type": "code",
   "execution_count": 11,
   "id": "503fa337",
   "metadata": {},
   "outputs": [],
   "source": [
    "# del is not a method\n",
    "list1=[100,200,300]\n",
    "\n",
    "del list1[0]"
   ]
  },
  {
   "cell_type": "code",
   "execution_count": 12,
   "id": "09322ff0",
   "metadata": {},
   "outputs": [
    {
     "data": {
      "text/plain": [
       "[200, 300]"
      ]
     },
     "execution_count": 12,
     "metadata": {},
     "output_type": "execute_result"
    }
   ],
   "source": [
    "list1"
   ]
  },
  {
   "cell_type": "markdown",
   "id": "b6ccbde8",
   "metadata": {},
   "source": [
    "$pop$-$remove$\n",
    "\n",
    "- Explain me difference between pop-remove-del"
   ]
  },
  {
   "cell_type": "code",
   "execution_count": 13,
   "id": "969a7a97",
   "metadata": {},
   "outputs": [],
   "source": [
    "list1=['A','B','C','D','E']"
   ]
  },
  {
   "cell_type": "code",
   "execution_count": 14,
   "id": "ed517d51",
   "metadata": {},
   "outputs": [
    {
     "data": {
      "text/plain": [
       "'E'"
      ]
     },
     "execution_count": 14,
     "metadata": {},
     "output_type": "execute_result"
    }
   ],
   "source": [
    "list1.pop()  \n",
    "# default argument index=-1\n",
    "# which is last element\n",
    "# if you not provide any value , it will delete the last element\n",
    "# it is also return which value deleted\n",
    "# and it saves result in the same list"
   ]
  },
  {
   "cell_type": "code",
   "execution_count": 15,
   "id": "bc87936a",
   "metadata": {},
   "outputs": [
    {
     "data": {
      "text/plain": [
       "['A', 'B', 'C', 'D']"
      ]
     },
     "execution_count": 15,
     "metadata": {},
     "output_type": "execute_result"
    }
   ],
   "source": [
    "list1"
   ]
  },
  {
   "cell_type": "code",
   "execution_count": 16,
   "id": "d3ea1fa2",
   "metadata": {},
   "outputs": [
    {
     "data": {
      "text/plain": [
       "'D'"
      ]
     },
     "execution_count": 16,
     "metadata": {},
     "output_type": "execute_result"
    }
   ],
   "source": [
    "list1.pop(3) # here 3 is index=3 0 1 2 3   i.e .D"
   ]
  },
  {
   "cell_type": "code",
   "execution_count": 17,
   "id": "38bb553b",
   "metadata": {},
   "outputs": [],
   "source": [
    "list1=['A','B','C','D','E']"
   ]
  },
  {
   "cell_type": "code",
   "execution_count": 18,
   "id": "2fad3b4c",
   "metadata": {},
   "outputs": [],
   "source": [
    "list1.remove('B')\n",
    "\n",
    "# It takes element of the list directly\n",
    "# it will not return any thing\n",
    "# it also saves the result in same list"
   ]
  },
  {
   "cell_type": "code",
   "execution_count": 19,
   "id": "7f001f3c",
   "metadata": {},
   "outputs": [
    {
     "data": {
      "text/plain": [
       "['A', 'C', 'D', 'E']"
      ]
     },
     "execution_count": 19,
     "metadata": {},
     "output_type": "execute_result"
    }
   ],
   "source": [
    "list1"
   ]
  },
  {
   "cell_type": "code",
   "execution_count": 21,
   "id": "6c08ea92",
   "metadata": {},
   "outputs": [],
   "source": [
    "list2=[i for i in range(1,100,3)]\n",
    "list2\n",
    "\n",
    "# from this list2 i want to delete number 55\n",
    "#list2.pop(<index>)\n",
    "list2.remove(55)"
   ]
  },
  {
   "cell_type": "code",
   "execution_count": 22,
   "id": "9e343bf7",
   "metadata": {},
   "outputs": [
    {
     "data": {
      "text/plain": [
       "[1,\n",
       " 4,\n",
       " 7,\n",
       " 10,\n",
       " 13,\n",
       " 16,\n",
       " 19,\n",
       " 22,\n",
       " 25,\n",
       " 28,\n",
       " 31,\n",
       " 34,\n",
       " 37,\n",
       " 40,\n",
       " 43,\n",
       " 46,\n",
       " 49,\n",
       " 52,\n",
       " 58,\n",
       " 61,\n",
       " 64,\n",
       " 67,\n",
       " 70,\n",
       " 73,\n",
       " 76,\n",
       " 79,\n",
       " 82,\n",
       " 85,\n",
       " 88,\n",
       " 91,\n",
       " 94,\n",
       " 97]"
      ]
     },
     "execution_count": 22,
     "metadata": {},
     "output_type": "execute_result"
    }
   ],
   "source": [
    "list2   # remove"
   ]
  },
  {
   "cell_type": "code",
   "execution_count": null,
   "id": "02336cef",
   "metadata": {},
   "outputs": [],
   "source": []
  },
  {
   "cell_type": "code",
   "execution_count": null,
   "id": "4df438f1",
   "metadata": {},
   "outputs": [],
   "source": []
  },
  {
   "cell_type": "code",
   "execution_count": null,
   "id": "7306761a",
   "metadata": {},
   "outputs": [],
   "source": []
  },
  {
   "cell_type": "code",
   "execution_count": null,
   "id": "c91b19ff",
   "metadata": {},
   "outputs": [],
   "source": []
  },
  {
   "cell_type": "markdown",
   "id": "28754d7b",
   "metadata": {},
   "source": [
    "$index$"
   ]
  },
  {
   "cell_type": "code",
   "execution_count": 27,
   "id": "9a48a8da",
   "metadata": {},
   "outputs": [
    {
     "data": {
      "text/plain": [
       "['A', 'C', 'D', 'E']"
      ]
     },
     "execution_count": 27,
     "metadata": {},
     "output_type": "execute_result"
    }
   ],
   "source": [
    "list1"
   ]
  },
  {
   "cell_type": "code",
   "execution_count": 26,
   "id": "86801b24",
   "metadata": {},
   "outputs": [
    {
     "data": {
      "text/plain": [
       "2"
      ]
     },
     "execution_count": 26,
     "metadata": {},
     "output_type": "execute_result"
    }
   ],
   "source": [
    "list1.index('D')"
   ]
  },
  {
   "cell_type": "code",
   "execution_count": 28,
   "id": "4d0583d4",
   "metadata": {},
   "outputs": [
    {
     "data": {
      "text/plain": [
       "'D'"
      ]
     },
     "execution_count": 28,
     "metadata": {},
     "output_type": "execute_result"
    }
   ],
   "source": [
    "list1.pop(list1.index('D'))"
   ]
  },
  {
   "cell_type": "code",
   "execution_count": 29,
   "id": "4445d72f",
   "metadata": {},
   "outputs": [
    {
     "data": {
      "text/plain": [
       "['A', 'C', 'E']"
      ]
     },
     "execution_count": 29,
     "metadata": {},
     "output_type": "execute_result"
    }
   ],
   "source": [
    "list1"
   ]
  },
  {
   "cell_type": "code",
   "execution_count": 34,
   "id": "5c8ef2c7",
   "metadata": {},
   "outputs": [
    {
     "data": {
      "text/plain": [
       "(['kl', 'virat', 'rohit'], ['rahul', 'kohli', 'sharma'])"
      ]
     },
     "execution_count": 34,
     "metadata": {},
     "output_type": "execute_result"
    }
   ],
   "source": [
    "string1='kl.rahul@lucknow.com,virat.kohli@blr.com,rohit.sharma@mumbai.com'\n",
    "# extract the values and append in a list\n",
    "# firstname=['kl','viart','Rohit']\n",
    "# seconname=['rahul','kohli','sharma']\n",
    "# comany=['lucknow','blr','mumbai']\n",
    "\n"
   ]
  },
  {
   "cell_type": "code",
   "execution_count": 44,
   "id": "aa58e952",
   "metadata": {},
   "outputs": [
    {
     "data": {
      "text/plain": [
       "(['kl', 'virat', 'rohit'],\n",
       " ['rahul', 'kohli', 'sharma'],\n",
       " ['pune', 'blr', 'mumbai'])"
      ]
     },
     "execution_count": 44,
     "metadata": {},
     "output_type": "execute_result"
    }
   ],
   "source": [
    "l1=['kl.rahul@pune.com','virat.kohli@blr.com','rohit.sharma@mumbai.com']\n",
    "fname=[]\n",
    "sname=[]\n",
    "wname=[]\n",
    "for i in l1:\n",
    "    fname.append(i.split('.')[0])\n",
    "    sname.append(i[i.find('.')+1:i.find('@')])\n",
    "    wname.append(i[i.find('@')+1:i.find('.',i.find('.')+1)])\n",
    "fname,sname,wname"
   ]
  },
  {
   "cell_type": "code",
   "execution_count": 70,
   "id": "7706ad7e",
   "metadata": {},
   "outputs": [],
   "source": [
    "string1='kl.rahul@lucknow.com,virat.kohli@blr.com,rohit.sharma@mumbai.com'\n",
    "list1=string1.split(',')\n",
    "f_name,s_name,c_name=[],[],[]\n",
    "for i in list1:\n",
    "    f_name.append(i.split('.')[0])\n",
    "    s_name.append(i.split('.')[1].split(\"@\")[0])\n",
    "    c_name.append(i.split('.')[1].split(\"@\")[1])"
   ]
  },
  {
   "cell_type": "code",
   "execution_count": 69,
   "id": "01fe3066",
   "metadata": {},
   "outputs": [
    {
     "data": {
      "text/plain": [
       "(['kl', 'virat', 'rohit'],\n",
       " ['rahul', 'kohli', 'sharma'],\n",
       " ['lucknow', 'blr', 'mumbai'])"
      ]
     },
     "execution_count": 69,
     "metadata": {},
     "output_type": "execute_result"
    }
   ],
   "source": [
    "f_name=[i.split('.')[0] for i in list1]\n",
    "s_name=[i.split('.')[1].split(\"@\")[0] for i in list1]\n",
    "c_name=[i.split('.')[1].split(\"@\")[1] for i in list1]"
   ]
  },
  {
   "cell_type": "markdown",
   "id": "c405db19",
   "metadata": {},
   "source": [
    "- append\n",
    "\n",
    "- clear\n",
    "\n",
    "- pop\n",
    "\n",
    "- remove \n",
    "\n",
    "- index \n",
    "\n",
    "- del ( is not a method)"
   ]
  },
  {
   "cell_type": "markdown",
   "id": "8438efa2",
   "metadata": {},
   "source": [
    "$copy$"
   ]
  },
  {
   "cell_type": "code",
   "execution_count": 73,
   "id": "123f7a6d",
   "metadata": {},
   "outputs": [],
   "source": [
    "# clear and copy difference"
   ]
  },
  {
   "cell_type": "code",
   "execution_count": 74,
   "id": "68a20b7d",
   "metadata": {},
   "outputs": [
    {
     "data": {
      "text/plain": [
       "['kl.rahul@lucknow.com', 'virat.kohli@blr.com', 'rohit.sharma@mumbai.com']"
      ]
     },
     "execution_count": 74,
     "metadata": {},
     "output_type": "execute_result"
    }
   ],
   "source": [
    "list1"
   ]
  },
  {
   "cell_type": "code",
   "execution_count": 76,
   "id": "8e6b6a95",
   "metadata": {},
   "outputs": [
    {
     "name": "stdout",
     "output_type": "stream",
     "text": [
      "[]\n",
      "[1, 2, 3, 4, 4]\n"
     ]
    },
    {
     "data": {
      "text/plain": [
       "(None, None)"
      ]
     },
     "execution_count": 76,
     "metadata": {},
     "output_type": "execute_result"
    }
   ],
   "source": [
    "list1=[1,2,3,4,4]\n",
    "list2=list1.copy()\n",
    "list1.clear()\n",
    "print(list1),print(list2)"
   ]
  },
  {
   "cell_type": "markdown",
   "id": "c4715968",
   "metadata": {},
   "source": [
    "$Extend$ "
   ]
  },
  {
   "cell_type": "code",
   "execution_count": 83,
   "id": "68f6e511",
   "metadata": {},
   "outputs": [],
   "source": [
    "# take two lists\n",
    "list1=['A','B','C']\n",
    "list2=[1,2,3]\n",
    "list1.extend(list2)"
   ]
  },
  {
   "cell_type": "code",
   "execution_count": 84,
   "id": "483d3e7f",
   "metadata": {},
   "outputs": [
    {
     "data": {
      "text/plain": [
       "['A', 'B', 'C', 1, 2, 3]"
      ]
     },
     "execution_count": 84,
     "metadata": {},
     "output_type": "execute_result"
    }
   ],
   "source": [
    "list1"
   ]
  },
  {
   "cell_type": "code",
   "execution_count": 85,
   "id": "3e4b18a2",
   "metadata": {},
   "outputs": [
    {
     "data": {
      "text/plain": [
       "[1, 2, 3, 'A', 'B', 'C']"
      ]
     },
     "execution_count": 85,
     "metadata": {},
     "output_type": "execute_result"
    }
   ],
   "source": [
    "list1=['A','B','C']\n",
    "list2=[1,2,3]\n",
    "list2.extend(list1)\n",
    "list2"
   ]
  },
  {
   "cell_type": "code",
   "execution_count": 86,
   "id": "583e7e93",
   "metadata": {},
   "outputs": [
    {
     "data": {
      "text/plain": [
       "['A', 'B', 'C', [1, 2, 3]]"
      ]
     },
     "execution_count": 86,
     "metadata": {},
     "output_type": "execute_result"
    }
   ],
   "source": [
    "list1=['A','B','C']\n",
    "list1.append([1,2,3])\n",
    "list1"
   ]
  },
  {
   "cell_type": "markdown",
   "id": "306f6d4e",
   "metadata": {},
   "source": [
    "$zip$"
   ]
  },
  {
   "cell_type": "code",
   "execution_count": 88,
   "id": "f021e461",
   "metadata": {},
   "outputs": [
    {
     "name": "stdout",
     "output_type": "stream",
     "text": [
      "Ram age is 25\n",
      "Raheem age is 30\n",
      "Robert age is 35\n"
     ]
    }
   ],
   "source": [
    "list1=['Ram','Raheem','Robert']\n",
    "list2=[25,30,35]\n",
    "\n",
    "#list1 =========== i\n",
    "# list2 ========== j\n",
    "for i,j in zip(list1,list2):\n",
    "    print('{} age is {}'.format(i,j))"
   ]
  },
  {
   "cell_type": "markdown",
   "id": "355f3516",
   "metadata": {},
   "source": [
    "$sort$"
   ]
  },
  {
   "cell_type": "code",
   "execution_count": 90,
   "id": "1f3dc929",
   "metadata": {},
   "outputs": [
    {
     "data": {
      "text/plain": [
       "['A', 'B', 'C', 'D']"
      ]
     },
     "execution_count": 90,
     "metadata": {},
     "output_type": "execute_result"
    }
   ],
   "source": [
    "list1=['B','D','A','C']\n",
    "list1.sort() # reverse=False\n",
    "list1\n",
    "\n",
    "# If nothing mentioned means ascending order\n",
    "# argument reverese it default as False"
   ]
  },
  {
   "cell_type": "code",
   "execution_count": 91,
   "id": "bc2154d4",
   "metadata": {},
   "outputs": [
    {
     "data": {
      "text/plain": [
       "['D', 'C', 'B', 'A']"
      ]
     },
     "execution_count": 91,
     "metadata": {},
     "output_type": "execute_result"
    }
   ],
   "source": [
    "list1=['B','D','A','C']\n",
    "list1.sort(reverse=True)\n",
    "list1\n"
   ]
  },
  {
   "cell_type": "markdown",
   "id": "d958b2b0",
   "metadata": {},
   "source": [
    "$sorted$"
   ]
  },
  {
   "cell_type": "code",
   "execution_count": 95,
   "id": "19da5407",
   "metadata": {},
   "outputs": [
    {
     "name": "stdout",
     "output_type": "stream",
     "text": [
      "['A', 'B', 'C', 'D']\n",
      "['D', 'C', 'B', 'A']\n",
      "['B', 'D', 'A', 'C']\n"
     ]
    }
   ],
   "source": [
    "list1=['B','D','A','C']\n",
    "print(sorted(list1))\n",
    "print(sorted(list1,reverse=True))\n",
    "print(list1)\n"
   ]
  },
  {
   "cell_type": "markdown",
   "id": "bfbd7045",
   "metadata": {},
   "source": [
    "- in the sort method results will save in a same list\n",
    "\n",
    "- in the sorted keyword results will not save"
   ]
  },
  {
   "cell_type": "code",
   "execution_count": null,
   "id": "96041964",
   "metadata": {},
   "outputs": [],
   "source": [
    "max()\n",
    "min()\n",
    "print()\n",
    "type()\n",
    "len()\n",
    "zip()\n",
    "ord()\n",
    "chr()\n",
    "zip()\n",
    "sorted()\n",
    "\n",
    "\n",
    "list1.append()\n",
    "list1.index()"
   ]
  },
  {
   "cell_type": "markdown",
   "id": "09e40180",
   "metadata": {},
   "source": [
    "$join$"
   ]
  },
  {
   "cell_type": "code",
   "execution_count": 98,
   "id": "8e277f9a",
   "metadata": {},
   "outputs": [
    {
     "data": {
      "text/plain": [
       "['kl.rahul@lucknow.com', 'virat.kohli@blr.com', 'rohit.sharma@mumbai.com']"
      ]
     },
     "execution_count": 98,
     "metadata": {},
     "output_type": "execute_result"
    }
   ],
   "source": [
    "string1='kl.rahul@lucknow.com,virat.kohli@blr.com,rohit.sharma@mumbai.com'\n",
    "list1=string1.split(',') \n",
    "list1\n",
    "# When we split the string, the output will save in list format"
   ]
  },
  {
   "cell_type": "code",
   "execution_count": 102,
   "id": "e387ee4a",
   "metadata": {},
   "outputs": [
    {
     "data": {
      "text/plain": [
       "'kl.rahul@lucknow.com=====>virat.kohli@blr.com=====>rohit.sharma@mumbai.com'"
      ]
     },
     "execution_count": 102,
     "metadata": {},
     "output_type": "execute_result"
    }
   ],
   "source": [
    "'=====>'.join(list1)\n",
    "# if you want join a list of elements in a single string"
   ]
  },
  {
   "cell_type": "code",
   "execution_count": 103,
   "id": "fd0103b0",
   "metadata": {},
   "outputs": [
    {
     "data": {
      "text/plain": [
       "'APPPLE'"
      ]
     },
     "execution_count": 103,
     "metadata": {},
     "output_type": "execute_result"
    }
   ],
   "source": [
    "list1=['A','P','P','P','L','E']\n",
    "''.join(list1)"
   ]
  },
  {
   "cell_type": "markdown",
   "id": "1629fd94",
   "metadata": {},
   "source": [
    "$insert$"
   ]
  },
  {
   "cell_type": "markdown",
   "id": "ea6bb084",
   "metadata": {},
   "source": [
    "- get the difference between append -extend-insert"
   ]
  },
  {
   "cell_type": "code",
   "execution_count": null,
   "id": "a19a01c6",
   "metadata": {},
   "outputs": [],
   "source": []
  }
 ],
 "metadata": {
  "kernelspec": {
   "display_name": "Python 3 (ipykernel)",
   "language": "python",
   "name": "python3"
  },
  "language_info": {
   "codemirror_mode": {
    "name": "ipython",
    "version": 3
   },
   "file_extension": ".py",
   "mimetype": "text/x-python",
   "name": "python",
   "nbconvert_exporter": "python",
   "pygments_lexer": "ipython3",
   "version": "3.11.5"
  }
 },
 "nbformat": 4,
 "nbformat_minor": 5
}
