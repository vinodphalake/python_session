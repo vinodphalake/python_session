{
 "cells": [
  {
   "cell_type": "markdown",
   "id": "dafd014a",
   "metadata": {},
   "source": [
    "**Lambda functions with one argument**"
   ]
  },
  {
   "cell_type": "code",
   "execution_count": 2,
   "id": "564712fd",
   "metadata": {},
   "outputs": [
    {
     "data": {
      "text/plain": [
       "20"
      ]
     },
     "execution_count": 2,
     "metadata": {},
     "output_type": "execute_result"
    }
   ],
   "source": [
    "# Normal function\n",
    "\n",
    "def add(x):\n",
    "    return(x+10)\n",
    "\n",
    "add(10)"
   ]
  },
  {
   "cell_type": "code",
   "execution_count": 3,
   "id": "60e16031",
   "metadata": {},
   "outputs": [
    {
     "data": {
      "text/plain": [
       "20"
      ]
     },
     "execution_count": 3,
     "metadata": {},
     "output_type": "execute_result"
    }
   ],
   "source": [
    "# How many arguments are there?  x \n",
    "# What you are returning?        x+10\n",
    "\n",
    "# <function_name>= lambda <argument_name>:<return_value>\n",
    "\n",
    "add=lambda x:x+10  # function is ready\n",
    "add(10)"
   ]
  },
  {
   "cell_type": "code",
   "execution_count": 5,
   "id": "5d17d683",
   "metadata": {},
   "outputs": [
    {
     "data": {
      "text/plain": [
       "25"
      ]
     },
     "execution_count": 5,
     "metadata": {},
     "output_type": "execute_result"
    }
   ],
   "source": [
    "def mul(num):\n",
    "    return(num*num)\n",
    "\n",
    "mul(5)"
   ]
  },
  {
   "cell_type": "code",
   "execution_count": 6,
   "id": "f03edef8",
   "metadata": {},
   "outputs": [
    {
     "data": {
      "text/plain": [
       "25"
      ]
     },
     "execution_count": 6,
     "metadata": {},
     "output_type": "execute_result"
    }
   ],
   "source": [
    "mul=lambda num:num*num\n",
    "mul(5)"
   ]
  },
  {
   "cell_type": "code",
   "execution_count": 7,
   "id": "b1c4e299",
   "metadata": {},
   "outputs": [
    {
     "data": {
      "text/plain": [
       "27"
      ]
     },
     "execution_count": 7,
     "metadata": {},
     "output_type": "execute_result"
    }
   ],
   "source": [
    "def cube(val):\n",
    "    return(val*val*val)\n",
    "\n",
    "cube(3)"
   ]
  },
  {
   "cell_type": "code",
   "execution_count": 8,
   "id": "c162165e",
   "metadata": {},
   "outputs": [
    {
     "data": {
      "text/plain": [
       "64"
      ]
     },
     "execution_count": 8,
     "metadata": {},
     "output_type": "execute_result"
    }
   ],
   "source": [
    "cube=lambda val:val*val*val\n",
    "cube(4)"
   ]
  },
  {
   "cell_type": "markdown",
   "id": "55e06c99",
   "metadata": {},
   "source": [
    "**lambda functions with two arguments**"
   ]
  },
  {
   "cell_type": "code",
   "execution_count": 9,
   "id": "ad5d6f6b",
   "metadata": {},
   "outputs": [
    {
     "data": {
      "text/plain": [
       "30"
      ]
     },
     "execution_count": 9,
     "metadata": {},
     "output_type": "execute_result"
    }
   ],
   "source": [
    "def sum1(a,b):\n",
    "    return(a+b)\n",
    "\n",
    "sum1(10,20)"
   ]
  },
  {
   "cell_type": "code",
   "execution_count": 10,
   "id": "fe662886",
   "metadata": {},
   "outputs": [
    {
     "data": {
      "text/plain": [
       "30"
      ]
     },
     "execution_count": 10,
     "metadata": {},
     "output_type": "execute_result"
    }
   ],
   "source": [
    "# <function_name>= lambda <argument_name>:<return_value>\n",
    "\n",
    "sum1=lambda a,b:a+b\n",
    "\n",
    "sum1(10,20)"
   ]
  },
  {
   "cell_type": "code",
   "execution_count": 11,
   "id": "9bce6a63",
   "metadata": {},
   "outputs": [
    {
     "data": {
      "text/plain": [
       "20.0"
      ]
     },
     "execution_count": 11,
     "metadata": {},
     "output_type": "execute_result"
    }
   ],
   "source": [
    "def avg(a,b,c):\n",
    "    return((a+b+c)/3)\n",
    "\n",
    "avg(10,20,30)"
   ]
  },
  {
   "cell_type": "code",
   "execution_count": 12,
   "id": "15a68484",
   "metadata": {},
   "outputs": [
    {
     "data": {
      "text/plain": [
       "20.0"
      ]
     },
     "execution_count": 12,
     "metadata": {},
     "output_type": "execute_result"
    }
   ],
   "source": [
    "avg=lambda a,b,c:(a+b+c)/3\n",
    "avg(10,20,30)"
   ]
  },
  {
   "cell_type": "code",
   "execution_count": 13,
   "id": "dd9fe74a",
   "metadata": {},
   "outputs": [
    {
     "data": {
      "text/plain": [
       "43.333333333333336"
      ]
     },
     "execution_count": 13,
     "metadata": {},
     "output_type": "execute_result"
    }
   ],
   "source": [
    "def avg(a,b,c=100):\n",
    "    return((a+b+c)/3)\n",
    "\n",
    "avg(10,20)"
   ]
  },
  {
   "cell_type": "code",
   "execution_count": 19,
   "id": "a2cff1f5",
   "metadata": {},
   "outputs": [
    {
     "data": {
      "text/plain": [
       "43.33"
      ]
     },
     "execution_count": 19,
     "metadata": {},
     "output_type": "execute_result"
    }
   ],
   "source": [
    "round(43.3333,2)"
   ]
  },
  {
   "cell_type": "code",
   "execution_count": 17,
   "id": "b08ef2d4",
   "metadata": {},
   "outputs": [
    {
     "data": {
      "text/plain": [
       "43.33"
      ]
     },
     "execution_count": 17,
     "metadata": {},
     "output_type": "execute_result"
    }
   ],
   "source": [
    "Avg = lambda a,b,c=100: round((a+b+c)/3,2)\n",
    "Avg(10,20)"
   ]
  },
  {
   "cell_type": "markdown",
   "id": "55235b47",
   "metadata": {},
   "source": [
    "**lambda function with if-else**"
   ]
  },
  {
   "cell_type": "code",
   "execution_count": 18,
   "id": "c86be3da",
   "metadata": {},
   "outputs": [
    {
     "data": {
      "text/plain": [
       "100"
      ]
     },
     "execution_count": 18,
     "metadata": {},
     "output_type": "execute_result"
    }
   ],
   "source": [
    "def greater(num1,num2):\n",
    "    if num1>num2:\n",
    "        return(num1)\n",
    "    \n",
    "    else:\n",
    "        return(num2)\n",
    "    \n",
    "    \n",
    "greater(50,100)"
   ]
  },
  {
   "cell_type": "code",
   "execution_count": 20,
   "id": "7691d5c5",
   "metadata": {},
   "outputs": [
    {
     "data": {
      "text/plain": [
       "200"
      ]
     },
     "execution_count": 20,
     "metadata": {},
     "output_type": "execute_result"
    }
   ],
   "source": [
    "#<function_name>=lambda <arg1,arg2>:<if_output> <if_condition> else <else_ouput>\n",
    "\n",
    "greater=lambda num1,num2: num1 if num1>num2 else num2\n",
    "\n",
    "greater(100,200)"
   ]
  },
  {
   "cell_type": "markdown",
   "id": "0a752843",
   "metadata": {},
   "source": [
    "**lambda functions with list**"
   ]
  },
  {
   "cell_type": "code",
   "execution_count": 23,
   "id": "2ac285b8",
   "metadata": {},
   "outputs": [
    {
     "data": {
      "text/plain": [
       "['Hyd', 'Mumbai', 'Benguluaru']"
      ]
     },
     "execution_count": 23,
     "metadata": {},
     "output_type": "execute_result"
    }
   ],
   "source": [
    "#################################### M-1#############################\n",
    "list1=['hyd','mumbai','benguluaru']\n",
    "\n",
    "# output: ['Hyd','Mumbai','Benguluru']\n",
    "\n",
    "output=[]\n",
    "\n",
    "for i in list1:\n",
    "    output.append(i.capitalize())\n",
    "    \n",
    "output"
   ]
  },
  {
   "cell_type": "code",
   "execution_count": 24,
   "id": "6ec1800a",
   "metadata": {},
   "outputs": [
    {
     "data": {
      "text/plain": [
       "['Hyd', 'Mumbai', 'Benguluaru']"
      ]
     },
     "execution_count": 24,
     "metadata": {},
     "output_type": "execute_result"
    }
   ],
   "source": [
    "############################### M-2##############################\n",
    "list1=['hyd','mumbai','benguluaru']\n",
    "\n",
    "output=[i.capitalize() for i in list1]\n",
    "\n",
    "output"
   ]
  },
  {
   "cell_type": "code",
   "execution_count": 26,
   "id": "27e85b10",
   "metadata": {},
   "outputs": [
    {
     "name": "stdout",
     "output_type": "stream",
     "text": [
      "['hyd', 'mumbai', 'bengaluru']\n"
     ]
    }
   ],
   "source": [
    "l1= ['hyd','mumbai','bengaluru']\n",
    "op =[]\n",
    "for i in l1:\n",
    "    val=i.capitalize()\n",
    "    op.append(val)\n",
    "print(op)"
   ]
  },
  {
   "cell_type": "code",
   "execution_count": null,
   "id": "4ec3778d",
   "metadata": {},
   "outputs": [],
   "source": [
    "###################### M-3 ################## with lambda\n",
    "\n",
    "lambda i:i.capitalize()       # iterate the values\n",
    "\n",
    "fun1=lambda x: x+10            user providing \n",
    "\n",
    "fun2=lambda num : num*num\n",
    "\n",
    "fun3=lambda a,b : a+b\n",
    "\n",
    "fun4= lambda num1,num2: num1 if num1>num2 else num2 "
   ]
  },
  {
   "cell_type": "code",
   "execution_count": null,
   "id": "03dac4c3",
   "metadata": {},
   "outputs": [],
   "source": [
    "# lambda <var>: <o/p>,<list1/str/tuple>"
   ]
  },
  {
   "cell_type": "markdown",
   "id": "71783f31",
   "metadata": {},
   "source": [
    "$map$"
   ]
  },
  {
   "cell_type": "code",
   "execution_count": 35,
   "id": "aab66567",
   "metadata": {},
   "outputs": [
    {
     "data": {
      "text/plain": [
       "(<function __main__.<lambda>(i)>, ['hyd', 'mumbai', 'bengaluru'])"
      ]
     },
     "execution_count": 35,
     "metadata": {},
     "output_type": "execute_result"
    }
   ],
   "source": [
    "list1= ['hyd','mumbai','bengaluru']\n",
    "\n",
    "lambda i: i.capitalize(),list1\n",
    "\n",
    "#<function __main__.<lambda>(i)>\n",
    "\n",
    "def abc(i):\n",
    "    retutn(i.capitalize())"
   ]
  },
  {
   "cell_type": "code",
   "execution_count": 37,
   "id": "a152a22f",
   "metadata": {},
   "outputs": [
    {
     "data": {
      "text/plain": [
       "['Hyd', 'Mumbai', 'Bengaluru']"
      ]
     },
     "execution_count": 37,
     "metadata": {},
     "output_type": "execute_result"
    }
   ],
   "source": [
    "list1= ['hyd','mumbai','bengaluru']\n",
    "\n",
    "list(map(lambda i: i.capitalize(),list1))\n",
    "\n",
    "# step-1: create a lambda function: lambda i: i.capitalize()\n",
    "# step-2: add your iterator \n",
    "\n",
    "# step1,step2:  lambda i: i.capitalize(),list1\n",
    "\n",
    "# step-3: mapping of both step-1 and step-2\n",
    "\n",
    "#            map(step1,step2)\n",
    "#            map(lambda i: i.capitalize(),list1)\n",
    "\n",
    "# step4: you need to save the result again in a list or tuple\n",
    "\n",
    "#        list(map(step1,step2))\n",
    "#        list(map(lambda i: i.capitalize(),list1))"
   ]
  },
  {
   "cell_type": "code",
   "execution_count": null,
   "id": "92fb25f1",
   "metadata": {},
   "outputs": [],
   "source": []
  },
  {
   "cell_type": "code",
   "execution_count": null,
   "id": "bc00641d",
   "metadata": {},
   "outputs": [],
   "source": []
  },
  {
   "cell_type": "code",
   "execution_count": null,
   "id": "476e87f6",
   "metadata": {},
   "outputs": [],
   "source": []
  },
  {
   "cell_type": "code",
   "execution_count": 28,
   "id": "1d7e7146",
   "metadata": {},
   "outputs": [
    {
     "name": "stdout",
     "output_type": "stream",
     "text": [
      "1\n",
      "2\n",
      "3\n",
      "4\n"
     ]
    }
   ],
   "source": [
    "# what is meant by iterator\n",
    "\n",
    "# which data types you can iterate\n",
    "\n",
    "# which means which data types you can print by using for loop?\n",
    "\n",
    "string1='python'\n",
    "\n",
    "#for i in string1: print(i)\n",
    "\n",
    "list1=[1,2,3,4]\n",
    "\n",
    "for i in list1: print(i)\n",
    "\n",
    "tuple1=(1,2,3,4)"
   ]
  },
  {
   "cell_type": "code",
   "execution_count": 29,
   "id": "86b70e70",
   "metadata": {},
   "outputs": [
    {
     "name": "stdout",
     "output_type": "stream",
     "text": [
      "10\n"
     ]
    }
   ],
   "source": [
    "a=10\n",
    "print(a)"
   ]
  },
  {
   "cell_type": "code",
   "execution_count": 34,
   "id": "37dc4915",
   "metadata": {},
   "outputs": [
    {
     "name": "stdout",
     "output_type": "stream",
     "text": [
      "n\n",
      "o\n",
      "h\n",
      "t\n",
      "y\n",
      "p\n"
     ]
    }
   ],
   "source": [
    "val=reversed('python')\n",
    "\n",
    "for i in val:\n",
    "    print(i)"
   ]
  },
  {
   "cell_type": "code",
   "execution_count": 40,
   "id": "595006ea",
   "metadata": {},
   "outputs": [
    {
     "data": {
      "text/plain": [
       "[1, 4, 9, 16]"
      ]
     },
     "execution_count": 40,
     "metadata": {},
     "output_type": "execute_result"
    }
   ],
   "source": [
    "list1=[1,2,3,4]\n",
    "\n",
    "#output: [1,4,9,16]\n",
    "\n",
    "# create a normal function if it has a single value\n",
    "\n",
    "#def square(num):\n",
    "    #return(num*num)\n",
    "\n",
    "#square(10)\n",
    "\n",
    "[num*num for num in list1]\n",
    "\n",
    "list(map(lambda num:num*num,list1))"
   ]
  },
  {
   "cell_type": "code",
   "execution_count": 41,
   "id": "0b330d65",
   "metadata": {},
   "outputs": [
    {
     "name": "stdout",
     "output_type": "stream",
     "text": [
      "[1,2,3,4]\n"
     ]
    },
    {
     "data": {
      "text/plain": [
       "[1, 2, 3, 4]"
      ]
     },
     "execution_count": 41,
     "metadata": {},
     "output_type": "execute_result"
    }
   ],
   "source": [
    "eval(input())"
   ]
  },
  {
   "cell_type": "markdown",
   "id": "7347a70c",
   "metadata": {},
   "source": [
    "$filter$"
   ]
  },
  {
   "cell_type": "code",
   "execution_count": null,
   "id": "5704ef58",
   "metadata": {},
   "outputs": [],
   "source": [
    "list1=['hyd','Biryani','Buvaneshwar','rasagulla']\n",
    "\n",
    "# output: ['Biryani','Buvaneshwar','rasagulla']\n",
    "\n",
    "list(map(lambda i:len(i)>3,list1))\n",
    "\n",
    "# it is condition ========= filter "
   ]
  },
  {
   "cell_type": "code",
   "execution_count": 45,
   "id": "aa58cb36",
   "metadata": {},
   "outputs": [
    {
     "data": {
      "text/plain": [
       "['Biryani', 'Bhuvaneshwar', 'rasagulla']"
      ]
     },
     "execution_count": 45,
     "metadata": {},
     "output_type": "execute_result"
    }
   ],
   "source": [
    "list1=['hyd','Biryani','Bhuvaneshwar','rasagulla']\n",
    "list(filter(lambda i:len(i)>3,list1))"
   ]
  },
  {
   "cell_type": "code",
   "execution_count": 43,
   "id": "b5527bf6",
   "metadata": {},
   "outputs": [
    {
     "data": {
      "text/plain": [
       "[True, False, True, True]"
      ]
     },
     "execution_count": 43,
     "metadata": {},
     "output_type": "execute_result"
    }
   ],
   "source": [
    "l2=['biryani','hyd','Buvaneswar','rasagulla']\n",
    "list(map(lambda i:len(i)>3,l2))"
   ]
  },
  {
   "cell_type": "code",
   "execution_count": 44,
   "id": "ce5ba102",
   "metadata": {},
   "outputs": [
    {
     "data": {
      "text/plain": [
       "[False, True, True, True, True]"
      ]
     },
     "execution_count": 44,
     "metadata": {},
     "output_type": "execute_result"
    }
   ],
   "source": [
    "list1=['hyd','biryani','odisha','buvaneshwar','rasgulla']\n",
    "list(map(lambda i: len(i)>3 ,list1))"
   ]
  },
  {
   "cell_type": "code",
   "execution_count": null,
   "id": "c179574e",
   "metadata": {},
   "outputs": [],
   "source": [
    "# i ======= > i.capitalize()\n",
    "for i in list1:\n",
    "    print(i.capitalize())\n",
    "# i ========= > i*i\n",
    "\n",
    "for i in list1:\n",
    "    print(i*i)\n",
    "# i ========= > len(i)>3\n",
    "for i in list1:\n",
    "    if len(i)>3:\n",
    "        print(i)"
   ]
  },
  {
   "cell_type": "code",
   "execution_count": 54,
   "id": "1fcce687",
   "metadata": {},
   "outputs": [
    {
     "name": "stdout",
     "output_type": "stream",
     "text": [
      "byriyani\n",
      "bhubaneswar\n",
      "rasgola\n"
     ]
    },
    {
     "data": {
      "text/plain": [
       "['byriyani', 'bhubaneswar', 'rasgola']"
      ]
     },
     "execution_count": 54,
     "metadata": {},
     "output_type": "execute_result"
    }
   ],
   "source": [
    "list1=['hyd','byriyani','bhubaneswar','rasgola']\n",
    "\n",
    "# return the items which are has length greater than 3\n",
    "for i in list1:\n",
    "    if len(i)>3:\n",
    "        print(i)\n",
    "        \n",
    "        \n",
    "# step-1:  \n",
    "list(filter(lambda i : len(i)>3,list1))"
   ]
  },
  {
   "cell_type": "code",
   "execution_count": 55,
   "id": "68878f96",
   "metadata": {},
   "outputs": [
    {
     "data": {
      "text/plain": [
       "['Hy#d', 'Biry#ani', 'Bhuvan#eshwar']"
      ]
     },
     "execution_count": 55,
     "metadata": {},
     "output_type": "execute_result"
    }
   ],
   "source": [
    "#list1=['hyd','byr#yani','bhub#neswar','ras#ola']\n",
    "# return the output those has # symbol\n",
    "\n",
    "list1=['Hy#d','Biry#ani','Bhuvan#eshwar','rasagulla']\n",
    "list(filter(lambda i:'#' in i,list1))\n",
    "\n",
    "list(filter(lambda i: '#' in i, list1))\n",
    "\n",
    "list(map(step1,step2))"
   ]
  },
  {
   "cell_type": "code",
   "execution_count": null,
   "id": "e7d135be",
   "metadata": {},
   "outputs": [],
   "source": [
    "list1=[1,2,3,4,5,6]\n",
    "\n",
    "#output: [{'even':[2,4,6],'odd':[1,3,5]}]\n",
    "#output: [{1:'odd',2:'even'}]"
   ]
  },
  {
   "cell_type": "code",
   "execution_count": 70,
   "id": "04e0489f",
   "metadata": {},
   "outputs": [
    {
     "data": {
      "text/plain": [
       "[{1: 'even'}, {2: 'odd'}, {3: 'even'}, {4: 'odd'}, {5: 'even'}, {6: 'odd'}]"
      ]
     },
     "execution_count": 70,
     "metadata": {},
     "output_type": "execute_result"
    }
   ],
   "source": [
    "list1=[1,2,3,4,5,6]\n",
    "list(map(lambda i: {i:'odd'} if i%2==0 else {i:'even'},list1))"
   ]
  },
  {
   "cell_type": "code",
   "execution_count": 66,
   "id": "d5ce8dfa",
   "metadata": {},
   "outputs": [
    {
     "data": {
      "text/plain": [
       "{'even': [2, 4, 6, 8], 'odd': [1, 3, 5, 7]}"
      ]
     },
     "execution_count": 66,
     "metadata": {},
     "output_type": "execute_result"
    }
   ],
   "source": [
    "l3=[1,2,3,4,5,6,7,8]\n",
    "d1={}\n",
    "d1['even']=list(filter(lambda i:i%2==0,l3))\n",
    "d1['odd']=list(filter(lambda i:i%2!=0,l3))\n",
    "d1"
   ]
  },
  {
   "cell_type": "code",
   "execution_count": 67,
   "id": "dccf5cff",
   "metadata": {},
   "outputs": [
    {
     "data": {
      "text/plain": [
       "([2, 4, 6], [1, 3, 5])"
      ]
     },
     "execution_count": 67,
     "metadata": {},
     "output_type": "execute_result"
    }
   ],
   "source": [
    "list1=[1,2,3,4,5,6]\n",
    "even=list(filter(lambda i:i%2==0 ,list1))\n",
    "odd=list(filter(lambda i:i%2!=0,list1))\n",
    "even,odd"
   ]
  },
  {
   "cell_type": "code",
   "execution_count": null,
   "id": "ea43c1bd",
   "metadata": {},
   "outputs": [],
   "source": [
    "coursera ======= 4k ========== DL ===== \n",
    "\n",
    "coursera ======= audit ====== they will not charge ======= "
   ]
  }
 ],
 "metadata": {
  "kernelspec": {
   "display_name": "Python 3 (ipykernel)",
   "language": "python",
   "name": "python3"
  },
  "language_info": {
   "codemirror_mode": {
    "name": "ipython",
    "version": 3
   },
   "file_extension": ".py",
   "mimetype": "text/x-python",
   "name": "python",
   "nbconvert_exporter": "python",
   "pygments_lexer": "ipython3",
   "version": "3.11.5"
  }
 },
 "nbformat": 4,
 "nbformat_minor": 5
}
