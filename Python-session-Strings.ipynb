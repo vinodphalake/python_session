{
 "cells": [
  {
   "cell_type": "code",
   "execution_count": null,
   "id": "53a83f9a",
   "metadata": {},
   "outputs": [],
   "source": [
    "#============= Python Part-1=========================\n",
    "1) syntax\n",
    "2) Baic python\n",
    "3) Conditional : if else\n",
    "4) Functions\n",
    "5) Loops: For/while\n",
    "    \n",
    "# strings\n",
    "# list\n",
    "# dic\n",
    "# tuple\n",
    "# sets\n",
    "# file handing"
   ]
  },
  {
   "cell_type": "code",
   "execution_count": 2,
   "id": "5d2b2763",
   "metadata": {},
   "outputs": [
    {
     "data": {
      "text/plain": [
       "str"
      ]
     },
     "execution_count": 2,
     "metadata": {},
     "output_type": "execute_result"
    }
   ],
   "source": [
    "name='python'\n",
    "type(name)"
   ]
  },
  {
   "cell_type": "code",
   "execution_count": 4,
   "id": "2b6831e3",
   "metadata": {},
   "outputs": [
    {
     "data": {
      "text/plain": [
       "'python'"
      ]
     },
     "execution_count": 4,
     "metadata": {},
     "output_type": "execute_result"
    }
   ],
   "source": [
    "name"
   ]
  },
  {
   "cell_type": "code",
   "execution_count": 3,
   "id": "124bcb63",
   "metadata": {},
   "outputs": [
    {
     "data": {
      "text/plain": [
       "'python'"
      ]
     },
     "execution_count": 3,
     "metadata": {},
     "output_type": "execute_result"
    }
   ],
   "source": [
    "name1=\"python\"\n",
    "name1"
   ]
  },
  {
   "cell_type": "code",
   "execution_count": 5,
   "id": "f683a5ef",
   "metadata": {},
   "outputs": [
    {
     "name": "stdout",
     "output_type": "stream",
     "text": [
      "python\n"
     ]
    }
   ],
   "source": [
    "print(name)"
   ]
  },
  {
   "cell_type": "code",
   "execution_count": 6,
   "id": "c885bd97",
   "metadata": {},
   "outputs": [],
   "source": [
    "# doc string: triple quotes\n",
    "# multilple lines\n",
    "# in jupter: markdown\n",
    "# notepad++ \n",
    "# vscode\n",
    "# pycharm\n",
    "string1=\"\"\"hi how are you\n",
    "   im good\n",
    "   im learning python\"\"\""
   ]
  },
  {
   "cell_type": "code",
   "execution_count": 7,
   "id": "c7bb05b0",
   "metadata": {},
   "outputs": [
    {
     "data": {
      "text/plain": [
       "'hi how are you\\n   im good\\n   im learning python'"
      ]
     },
     "execution_count": 7,
     "metadata": {},
     "output_type": "execute_result"
    }
   ],
   "source": [
    "string1"
   ]
  },
  {
   "cell_type": "markdown",
   "id": "6909b97e",
   "metadata": {},
   "source": [
    "- triple quotes is means doc string\n",
    "\n",
    "- it is an informatiom about the code"
   ]
  },
  {
   "cell_type": "code",
   "execution_count": 10,
   "id": "fa503354",
   "metadata": {},
   "outputs": [
    {
     "data": {
      "text/plain": [
       "10"
      ]
     },
     "execution_count": 10,
     "metadata": {},
     "output_type": "execute_result"
    }
   ],
   "source": [
    "\"\"\"\n",
    "this program about infinite while loop\n",
    "the original password='python'\n",
    "function:\n",
    "      arguments: None\n",
    "      return: None\n",
    "\"\"\"\n",
    "def pwd():\n",
    "    password='python'  # random number  (1,10)\n",
    "    while True:\n",
    "        user_pwd=input(\"enter pwd\")  # user number= eval(input)\n",
    "        if password==user_pwd:\n",
    "            print('you won')\n",
    "            break\n",
    "        else:\n",
    "            print(\"the password is wrong\")\n",
    "            \n"
   ]
  },
  {
   "cell_type": "code",
   "execution_count": 12,
   "id": "98a19f12",
   "metadata": {},
   "outputs": [
    {
     "name": "stdout",
     "output_type": "stream",
     "text": [
      "hello 'python'\n"
     ]
    }
   ],
   "source": [
    "print(\"hello 'python'\")"
   ]
  },
  {
   "cell_type": "code",
   "execution_count": 13,
   "id": "d6825542",
   "metadata": {},
   "outputs": [
    {
     "name": "stdout",
     "output_type": "stream",
     "text": [
      "hello \"python\"\n"
     ]
    }
   ],
   "source": [
    "print('hello \"python\"')"
   ]
  },
  {
   "cell_type": "markdown",
   "id": "fe953e41",
   "metadata": {},
   "source": [
    "- entire string will be in double quotes, the highlited string in single quotes\n",
    "- entire string will be in single quotes, the highlited string in double quotes"
   ]
  },
  {
   "cell_type": "code",
   "execution_count": 14,
   "id": "80a9bfaa",
   "metadata": {},
   "outputs": [
    {
     "data": {
      "text/plain": [
       "'python'"
      ]
     },
     "execution_count": 14,
     "metadata": {},
     "output_type": "execute_result"
    }
   ],
   "source": [
    "string1='python'\n",
    "string2=string1 # 'py'\n",
    "string3='hello' # 'he'\n",
    "string4=string3 # 'he'\n",
    "string4=string1 # 'py'\n",
    "string4=string2 # 'py'\n",
    "string5=string4 #'py'\n",
    "string5"
   ]
  },
  {
   "cell_type": "markdown",
   "id": "1dbc5163",
   "metadata": {},
   "source": [
    "- type\n",
    "\n",
    "- len\n",
    "\n",
    "- max\n",
    "\n",
    "- min"
   ]
  },
  {
   "cell_type": "code",
   "execution_count": 15,
   "id": "2c3b03fe",
   "metadata": {},
   "outputs": [
    {
     "data": {
      "text/plain": [
       "str"
      ]
     },
     "execution_count": 15,
     "metadata": {},
     "output_type": "execute_result"
    }
   ],
   "source": [
    "string1='python'\n",
    "type(string1)"
   ]
  },
  {
   "cell_type": "code",
   "execution_count": 16,
   "id": "6152f330",
   "metadata": {},
   "outputs": [
    {
     "data": {
      "text/plain": [
       "6"
      ]
     },
     "execution_count": 16,
     "metadata": {},
     "output_type": "execute_result"
    }
   ],
   "source": [
    "len(string1)\n",
    "# p y t h o n"
   ]
  },
  {
   "cell_type": "code",
   "execution_count": 17,
   "id": "bd96c8e0",
   "metadata": {},
   "outputs": [
    {
     "data": {
      "text/plain": [
       "'y'"
      ]
     },
     "execution_count": 17,
     "metadata": {},
     "output_type": "execute_result"
    }
   ],
   "source": [
    "max(string1)"
   ]
  },
  {
   "cell_type": "code",
   "execution_count": 18,
   "id": "04eda2db",
   "metadata": {},
   "outputs": [
    {
     "data": {
      "text/plain": [
       "'h'"
      ]
     },
     "execution_count": 18,
     "metadata": {},
     "output_type": "execute_result"
    }
   ],
   "source": [
    "min(string1)"
   ]
  },
  {
   "cell_type": "markdown",
   "id": "4281fafd",
   "metadata": {},
   "source": [
    "*In*"
   ]
  },
  {
   "cell_type": "code",
   "execution_count": 24,
   "id": "9da58efd",
   "metadata": {},
   "outputs": [
    {
     "data": {
      "text/plain": [
       "True"
      ]
     },
     "execution_count": 24,
     "metadata": {},
     "output_type": "execute_result"
    }
   ],
   "source": [
    "# iterate a loop on string1\n",
    "# print each letter\n",
    "# get the ascii value\n",
    "'p' in 'python'\n",
    "'y' in 'python'\n",
    "'t' in 'python'\n",
    "'h' in 'python'\n",
    "'o' in 'python'\n",
    "'n' in 'python'\n",
    "\n",
    "# i in 'python'"
   ]
  },
  {
   "cell_type": "code",
   "execution_count": 26,
   "id": "95e2b0ff",
   "metadata": {},
   "outputs": [
    {
     "name": "stdout",
     "output_type": "stream",
     "text": [
      "p 112\n",
      "y 121\n",
      "t 116\n",
      "h 104\n",
      "o 111\n",
      "n 110\n"
     ]
    }
   ],
   "source": [
    "for i in 'python':\n",
    "    print(i,ord(i))"
   ]
  },
  {
   "cell_type": "markdown",
   "id": "c57a05c3",
   "metadata": {},
   "source": [
    "- type\n",
    "\n",
    "- max\n",
    "\n",
    "- min\n",
    "\n",
    "- len\n",
    "\n",
    "- in"
   ]
  },
  {
   "cell_type": "code",
   "execution_count": 28,
   "id": "5c52bf35",
   "metadata": {},
   "outputs": [],
   "source": [
    "string1='hai'\n",
    "string2='python'"
   ]
  },
  {
   "cell_type": "code",
   "execution_count": 29,
   "id": "404ee5c7",
   "metadata": {},
   "outputs": [
    {
     "data": {
      "text/plain": [
       "'haipython'"
      ]
     },
     "execution_count": 29,
     "metadata": {},
     "output_type": "execute_result"
    }
   ],
   "source": [
    "string1+string2  # string concatination"
   ]
  },
  {
   "cell_type": "code",
   "execution_count": 30,
   "id": "99f954b9",
   "metadata": {},
   "outputs": [
    {
     "ename": "TypeError",
     "evalue": "unsupported operand type(s) for -: 'str' and 'str'",
     "output_type": "error",
     "traceback": [
      "\u001b[1;31m---------------------------------------------------------------------------\u001b[0m",
      "\u001b[1;31mTypeError\u001b[0m                                 Traceback (most recent call last)",
      "Cell \u001b[1;32mIn[30], line 1\u001b[0m\n\u001b[1;32m----> 1\u001b[0m string1\u001b[38;5;241m-\u001b[39mstring2\n",
      "\u001b[1;31mTypeError\u001b[0m: unsupported operand type(s) for -: 'str' and 'str'"
     ]
    }
   ],
   "source": [
    "string1-string2\n",
    "# i can not do subtraction between two strings"
   ]
  },
  {
   "cell_type": "code",
   "execution_count": 31,
   "id": "6383b9b3",
   "metadata": {},
   "outputs": [
    {
     "ename": "TypeError",
     "evalue": "unsupported operand type(s) for /: 'str' and 'str'",
     "output_type": "error",
     "traceback": [
      "\u001b[1;31m---------------------------------------------------------------------------\u001b[0m",
      "\u001b[1;31mTypeError\u001b[0m                                 Traceback (most recent call last)",
      "Cell \u001b[1;32mIn[31], line 1\u001b[0m\n\u001b[1;32m----> 1\u001b[0m string1\u001b[38;5;241m/\u001b[39mstring2\n",
      "\u001b[1;31mTypeError\u001b[0m: unsupported operand type(s) for /: 'str' and 'str'"
     ]
    }
   ],
   "source": [
    "string1/string2\n",
    "# i can not do division between two strings"
   ]
  },
  {
   "cell_type": "code",
   "execution_count": 34,
   "id": "18fa2224",
   "metadata": {},
   "outputs": [
    {
     "ename": "TypeError",
     "evalue": "can't multiply sequence by non-int of type 'str'",
     "output_type": "error",
     "traceback": [
      "\u001b[1;31m---------------------------------------------------------------------------\u001b[0m",
      "\u001b[1;31mTypeError\u001b[0m                                 Traceback (most recent call last)",
      "Cell \u001b[1;32mIn[34], line 1\u001b[0m\n\u001b[1;32m----> 1\u001b[0m string1\u001b[38;5;241m*\u001b[39mstring2\n",
      "\u001b[1;31mTypeError\u001b[0m: can't multiply sequence by non-int of type 'str'"
     ]
    }
   ],
   "source": [
    "string1*string2\n"
   ]
  },
  {
   "cell_type": "code",
   "execution_count": 35,
   "id": "0f110c73",
   "metadata": {},
   "outputs": [
    {
     "data": {
      "text/plain": [
       "'pythonpython'"
      ]
     },
     "execution_count": 35,
     "metadata": {},
     "output_type": "execute_result"
    }
   ],
   "source": [
    "2*string2"
   ]
  },
  {
   "cell_type": "code",
   "execution_count": null,
   "id": "81ba7ec9",
   "metadata": {},
   "outputs": [],
   "source": [
    "string1+string2\n",
    "string1-string2\n",
    "string1*string2\n",
    "string1/string2\n",
    "# read the errors"
   ]
  },
  {
   "cell_type": "code",
   "execution_count": null,
   "id": "03eb0d57",
   "metadata": {},
   "outputs": [],
   "source": [
    "# how to read the string\n",
    "# single /double/triple\n",
    "# triple: docstring\n",
    "# type\n",
    "# len\n",
    "# max\n",
    "# min\n",
    "# + : conacte\n",
    "# - :\n",
    "# *\n",
    "# /"
   ]
  },
  {
   "cell_type": "code",
   "execution_count": 1,
   "id": "3335989d",
   "metadata": {},
   "outputs": [],
   "source": [
    "string1='hello'\n",
    "string2='python'"
   ]
  },
  {
   "cell_type": "code",
   "execution_count": 2,
   "id": "acec4206",
   "metadata": {},
   "outputs": [
    {
     "data": {
      "text/plain": [
       "'hellohello'"
      ]
     },
     "execution_count": 2,
     "metadata": {},
     "output_type": "execute_result"
    }
   ],
   "source": [
    "string1+string1"
   ]
  },
  {
   "cell_type": "code",
   "execution_count": 3,
   "id": "cb4a3709",
   "metadata": {},
   "outputs": [
    {
     "data": {
      "text/plain": [
       "'hellohello'"
      ]
     },
     "execution_count": 3,
     "metadata": {},
     "output_type": "execute_result"
    }
   ],
   "source": [
    "2*string1"
   ]
  },
  {
   "cell_type": "markdown",
   "id": "64434517",
   "metadata": {},
   "source": [
    "## indexing"
   ]
  },
  {
   "cell_type": "code",
   "execution_count": 4,
   "id": "e2c25441",
   "metadata": {},
   "outputs": [],
   "source": [
    "name='python'"
   ]
  },
  {
   "cell_type": "code",
   "execution_count": 5,
   "id": "dd54506e",
   "metadata": {},
   "outputs": [],
   "source": [
    "# how many letters are there: 6\n",
    "# python index start with :0\n",
    "\n",
    "p   y    t    h    o    n\n",
    "0   1    2    3    4    5"
   ]
  },
  {
   "cell_type": "code",
   "execution_count": 6,
   "id": "965949dc",
   "metadata": {},
   "outputs": [
    {
     "data": {
      "text/plain": [
       "'p'"
      ]
     },
     "execution_count": 6,
     "metadata": {},
     "output_type": "execute_result"
    }
   ],
   "source": [
    "name[0]"
   ]
  },
  {
   "cell_type": "code",
   "execution_count": 7,
   "id": "50cb3462",
   "metadata": {},
   "outputs": [
    {
     "data": {
      "text/plain": [
       "'y'"
      ]
     },
     "execution_count": 7,
     "metadata": {},
     "output_type": "execute_result"
    }
   ],
   "source": [
    "name[1]"
   ]
  },
  {
   "cell_type": "code",
   "execution_count": null,
   "id": "2183f6ae",
   "metadata": {},
   "outputs": [],
   "source": [
    "name[0]    #  'p'\n",
    "name[1]    #  'y'\n",
    "name[2]    #  't'\n",
    "name[3]    # 'h'\n",
    "name[4]    #  'o'\n",
    "name[5]    # 'n'\n",
    "\n",
    "name[i]"
   ]
  },
  {
   "cell_type": "code",
   "execution_count": 10,
   "id": "56905e78",
   "metadata": {},
   "outputs": [
    {
     "name": "stdout",
     "output_type": "stream",
     "text": [
      "p\n",
      "y\n",
      "t\n",
      "h\n",
      "o\n",
      "n\n"
     ]
    }
   ],
   "source": [
    "# how to print any word/sentence by using range method\n",
    "for i in range(6):\n",
    "    print(name[i])   # iter1:  i=0    name[0]   p\n",
    "                     # iter2:  i=1    name[1]   y"
   ]
  },
  {
   "cell_type": "code",
   "execution_count": 12,
   "id": "6e7ddf70",
   "metadata": {},
   "outputs": [
    {
     "name": "stdout",
     "output_type": "stream",
     "text": [
      "p\n",
      "y\n",
      "t\n",
      "h\n",
      "o\n",
      "n\n"
     ]
    },
    {
     "ename": "IndexError",
     "evalue": "string index out of range",
     "output_type": "error",
     "traceback": [
      "\u001b[1;31m---------------------------------------------------------------------------\u001b[0m",
      "\u001b[1;31mIndexError\u001b[0m                                Traceback (most recent call last)",
      "Cell \u001b[1;32mIn[12], line 3\u001b[0m\n\u001b[0;32m      1\u001b[0m name\u001b[38;5;241m=\u001b[39m\u001b[38;5;124m'\u001b[39m\u001b[38;5;124mpython\u001b[39m\u001b[38;5;124m'\u001b[39m\n\u001b[0;32m      2\u001b[0m \u001b[38;5;28;01mfor\u001b[39;00m i \u001b[38;5;129;01min\u001b[39;00m \u001b[38;5;28mrange\u001b[39m(\u001b[38;5;241m7\u001b[39m):\n\u001b[1;32m----> 3\u001b[0m     \u001b[38;5;28mprint\u001b[39m(name[i])\n",
      "\u001b[1;31mIndexError\u001b[0m: string index out of range"
     ]
    }
   ],
   "source": [
    "name='python'\n",
    "for i in range(7):\n",
    "    print(name[i])   #  0   1   2   3  4  5  name[6]"
   ]
  },
  {
   "cell_type": "code",
   "execution_count": 14,
   "id": "8299d3ae",
   "metadata": {},
   "outputs": [
    {
     "name": "stdout",
     "output_type": "stream",
     "text": [
      "17\n",
      "h e l l o   h o w   a r e   y o u "
     ]
    }
   ],
   "source": [
    "name1='hello how are you'\n",
    "# spaces also consider one character\n",
    "print(len(name1))\n",
    "# i need to provide some number\n",
    "for i in range(len(name1)):\n",
    "    print(name1[i],end=' ')"
   ]
  },
  {
   "cell_type": "code",
   "execution_count": null,
   "id": "458bb04f",
   "metadata": {},
   "outputs": [],
   "source": [
    "# wap ask the user print the letters from a given word \n",
    "# using for loop\n",
    "# 'the index of p is:0'\n",
    "# 'the index of y is:1'\n",
    "\n",
    "# i want letter as well as attached index number"
   ]
  },
  {
   "cell_type": "code",
   "execution_count": 17,
   "id": "6defb7d7",
   "metadata": {},
   "outputs": [
    {
     "name": "stdout",
     "output_type": "stream",
     "text": [
      "the index of p is:0\n",
      "the index of y is:1\n",
      "the index of t is:2\n",
      "the index of h is:3\n",
      "the index of o is:4\n",
      "the index of n is:5\n"
     ]
    }
   ],
   "source": [
    "name2='python'\n",
    "for i in range(len(name2)):\n",
    "    print('the index of {} is:{}'.format(name2[i],i))                          "
   ]
  },
  {
   "cell_type": "code",
   "execution_count": 18,
   "id": "4e1e5434",
   "metadata": {},
   "outputs": [
    {
     "name": "stdout",
     "output_type": "stream",
     "text": [
      "the index of p is:0\n",
      "the index of y is:1\n",
      "the index of t is:2\n",
      "the index of h is:3\n",
      "the index of o is:4\n",
      "the index of n is:5\n"
     ]
    }
   ],
   "source": [
    "# same code using while loop\n",
    "i=0\n",
    "name2='python'\n",
    "while i<len(name2):\n",
    "    print('the index of {} is:{}'.format(name2[i],i)) \n",
    "    i+=1"
   ]
  },
  {
   "cell_type": "code",
   "execution_count": null,
   "id": "3aede751",
   "metadata": {},
   "outputs": [],
   "source": [
    "-6  -5   -4   -3   -2   -1\n",
    "p   y    t    h    o    n\n",
    "0   1    2    3    4    5 =========> postive index"
   ]
  },
  {
   "cell_type": "code",
   "execution_count": 21,
   "id": "2fee1033",
   "metadata": {},
   "outputs": [
    {
     "data": {
      "text/plain": [
       "'p'"
      ]
     },
     "execution_count": 21,
     "metadata": {},
     "output_type": "execute_result"
    }
   ],
   "source": [
    "name3='python'\n",
    "name3[-6]"
   ]
  },
  {
   "cell_type": "code",
   "execution_count": null,
   "id": "7018a783",
   "metadata": {},
   "outputs": [],
   "source": [
    "# wap ask the user print the letters from a given word \n",
    "# using for loop\n",
    "# 'the negative index of p is:-6'\n",
    "# 'the negative index of y is:-5'\n",
    "\n",
    "# i want letter as well as attached index number"
   ]
  },
  {
   "cell_type": "code",
   "execution_count": 32,
   "id": "2eb93859",
   "metadata": {},
   "outputs": [
    {
     "name": "stdout",
     "output_type": "stream",
     "text": [
      "the negative index of p is -6\n",
      "the negative index of y is -5\n",
      "the negative index of t is -4\n",
      "the negative index of h is -3\n",
      "the negative index of o is -2\n",
      "the negative index of n is -1\n"
     ]
    }
   ],
   "source": [
    "name3='python'\n",
    "for i in range(-len(name3),0):\n",
    "    print(\"the negative index of {} is {}\".format(name3[i],i))            #  -6   -5    -4   -3   -2   -1"
   ]
  },
  {
   "cell_type": "code",
   "execution_count": 34,
   "id": "4e68433e",
   "metadata": {},
   "outputs": [
    {
     "name": "stdout",
     "output_type": "stream",
     "text": [
      "the negative index of p is -6\n",
      "the negative index of y is -5\n",
      "the negative index of t is -4\n",
      "the negative index of h is -3\n",
      "the negative index of o is -2\n",
      "the negative index of n is -1\n"
     ]
    }
   ],
   "source": [
    "name4='python'\n",
    "for i in range(len(name4)):\n",
    "    print(\"the negative index of {} is {}\".format(name4[i],i-len(name4)))                   "
   ]
  },
  {
   "cell_type": "code",
   "execution_count": 35,
   "id": "e4a7033d",
   "metadata": {},
   "outputs": [
    {
     "name": "stdout",
     "output_type": "stream",
     "text": [
      "the -ve index of p is : -6\n",
      "the -ve index of n is : -5\n",
      "the -ve index of o is : -4\n",
      "the -ve index of h is : -3\n",
      "the -ve index of t is : -2\n",
      "the -ve index of y is : -1\n"
     ]
    }
   ],
   "source": [
    "# how to print -6 -5 -4 -3 -2 -1 using while loop\n",
    "i=0\n",
    "name4='python'\n",
    "while i>-len(name4):\n",
    "    print('the -ve index of {} is : {}'.format(name4[i],-len(name4)-i))\n",
    "    i-=1"
   ]
  },
  {
   "cell_type": "code",
   "execution_count": 36,
   "id": "a99e112d",
   "metadata": {},
   "outputs": [
    {
     "name": "stdout",
     "output_type": "stream",
     "text": [
      "The negative Index of p is -6\n",
      "The negative Index of y is -5\n",
      "The negative Index of t is -4\n",
      "The negative Index of h is -3\n",
      "The negative Index of o is -2\n",
      "The negative Index of n is -1\n"
     ]
    }
   ],
   "source": [
    "name='python'\n",
    "i=-len(name)\n",
    "while i<0:\n",
    "    print(\"The negative Index of {} is {}\".format(name[i],i))\n",
    "    i=i+1"
   ]
  },
  {
   "cell_type": "code",
   "execution_count": null,
   "id": "6201012a",
   "metadata": {},
   "outputs": [],
   "source": [
    "'the postive index is 0 and negative index is -6 for p'\n",
    "'the postive index is 1 and negative index is -5 for y'\n",
    "\n",
    "\n",
    "for  i   in  range():\n",
    "    0      -6\n",
    "    1      -5"
   ]
  },
  {
   "cell_type": "code",
   "execution_count": 37,
   "id": "66bc486d",
   "metadata": {},
   "outputs": [
    {
     "name": "stdout",
     "output_type": "stream",
     "text": [
      "the positivr index is: 0 the negetive index is: -6 for p\n",
      "the positivr index is: 1 the negetive index is: -5 for y\n",
      "the positivr index is: 2 the negetive index is: -4 for t\n",
      "the positivr index is: 3 the negetive index is: -3 for h\n",
      "the positivr index is: 4 the negetive index is: -2 for o\n",
      "the positivr index is: 5 the negetive index is: -1 for n\n"
     ]
    }
   ],
   "source": [
    "name='python'\n",
    "for i in range(len(name)):\n",
    "    print('the positivr index is: {} the negetive index is: {} for {}'. format(i,i-len(name),name[i]))"
   ]
  },
  {
   "cell_type": "code",
   "execution_count": 39,
   "id": "97399e0f",
   "metadata": {},
   "outputs": [
    {
     "name": "stdout",
     "output_type": "stream",
     "text": [
      "the positive index is 0 and negative index is -6 for p\n",
      "the positive index is 1 and negative index is -5 for y\n",
      "the positive index is 2 and negative index is -4 for t\n",
      "the positive index is 3 and negative index is -3 for h\n",
      "the positive index is 4 and negative index is -2 for o\n",
      "the positive index is 5 and negative index is -1 for n\n"
     ]
    }
   ],
   "source": [
    "name6='python'\n",
    "for i in range(len(name6)):\n",
    "    print(\"the positive index is {} and negative index is {} for {}\".format(i,i-len(name6),name6[i]))"
   ]
  },
  {
   "cell_type": "code",
   "execution_count": 40,
   "id": "21ca7c5d",
   "metadata": {},
   "outputs": [
    {
     "name": "stdout",
     "output_type": "stream",
     "text": [
      "enter a wordpython\n",
      "the possitive index is 0 and negative index is -6 for p\n",
      "the possitive index is 1 and negative index is -5 for y\n",
      "the possitive index is 2 and negative index is -4 for t\n",
      "the possitive index is 3 and negative index is -3 for h\n",
      "the possitive index is 4 and negative index is -2 for o\n",
      "the possitive index is 5 and negative index is -1 for n\n"
     ]
    }
   ],
   "source": [
    "name2=input('enter a word')\n",
    "for i in range(len(name2)):\n",
    "    print('the possitive index is {} and negative index is {} for {}'.format(i,i-len(name2),name[i]))"
   ]
  },
  {
   "cell_type": "code",
   "execution_count": 41,
   "id": "e6fbf1ad",
   "metadata": {},
   "outputs": [
    {
     "name": "stdout",
     "output_type": "stream",
     "text": [
      "The +ve Index is 0 and -ve Index is -12 for:L\n",
      "The +ve Index is 1 and -ve Index is -11 for:e\n",
      "The +ve Index is 2 and -ve Index is -10 for:a\n",
      "The +ve Index is 3 and -ve Index is -9 for:r\n",
      "The +ve Index is 4 and -ve Index is -8 for:n\n",
      "The +ve Index is 5 and -ve Index is -7 for: \n",
      "The +ve Index is 6 and -ve Index is -6 for:P\n",
      "The +ve Index is 7 and -ve Index is -5 for:y\n",
      "The +ve Index is 8 and -ve Index is -4 for:t\n",
      "The +ve Index is 9 and -ve Index is -3 for:h\n",
      "The +ve Index is 10 and -ve Index is -2 for:o\n",
      "The +ve Index is 11 and -ve Index is -1 for:n\n"
     ]
    }
   ],
   "source": [
    "word = \"Learn Python\"\n",
    "for i in range(len(word)):\n",
    "    print(\"The +ve Index is {} and -ve Index is {} for:{}\".format(i,i-len(word),word[i-len(word)]))"
   ]
  },
  {
   "cell_type": "code",
   "execution_count": 49,
   "id": "78a23330",
   "metadata": {},
   "outputs": [
    {
     "name": "stdout",
     "output_type": "stream",
     "text": [
      "0 p -6\n",
      "1 y -5\n",
      "2 t -4\n",
      "3 h -3\n",
      "4 o -2\n",
      "5 n -1\n",
      "the negative index of p is -6\n",
      "the negative index of y is -5\n",
      "the negative index of t is -4\n",
      "the negative index of h is -3\n",
      "the negative index of o is -2\n",
      "the negative index of n is -1\n",
      "the positive index of p is 0\n",
      "the positive index of y is 1\n",
      "the positive index of t is 2\n",
      "the positive index of h is 3\n",
      "the positive index of o is 4\n",
      "the positive index of n is 5\n"
     ]
    }
   ],
   "source": [
    "for i in range(len(name4)):\n",
    "    print(i,name4[i],i-len(name4))\n",
    "    \n",
    "    \n",
    "#======================= negative index===================    \n",
    "name4='python'\n",
    "for i in range(len(name4)):\n",
    "    print(\"the negative index of {} is {}\".format(name4[i],i-len(name4)))      \n",
    "    \n",
    "#======================= pos index===================    \n",
    "name4='python'\n",
    "for i in range(len(name4)):\n",
    "    print(\"the positive index of {} is {}\".format(name4[i],i))"
   ]
  },
  {
   "cell_type": "code",
   "execution_count": null,
   "id": "9c4146c2",
   "metadata": {},
   "outputs": [],
   "source": [
    "sent='hai hai how are you'\n",
    "#Q1 print how many 'a' are there : 3\n",
    "# count=0\n",
    "# iterate the leeters through for loop\n",
    "#        apply the if condition letter=='a'\n",
    "#                    count+=1\n",
    "\n",
    "\n",
    "#Q2 print the index of 'a': \n",
    "\n",
    "#Q3 print the number of vowels: a  a  i  o  a  e  o  u: 9\n",
    "\n",
    "# Q4 print the number of unique vowels:  a i   o   e  u:4"
   ]
  },
  {
   "cell_type": "code",
   "execution_count": 52,
   "id": "9adfd08f",
   "metadata": {},
   "outputs": [
    {
     "name": "stdout",
     "output_type": "stream",
     "text": [
      "h\n",
      "a\n",
      "i\n",
      " \n",
      "h\n",
      "a\n",
      "i\n",
      " \n",
      "h\n",
      "o\n",
      "w\n",
      " \n",
      "a\n",
      "r\n",
      "e\n",
      " \n",
      "y\n",
      "o\n",
      "u\n",
      "no of repated a are: 3\n"
     ]
    }
   ],
   "source": [
    "#Q1 print how many 'a' are there : 3\n",
    "# count=0\n",
    "# iterate the leeters through for loop\n",
    "#        apply the if condition letter=='a'\n",
    "#                    count+=1\n",
    "\n",
    "\n",
    "sent='hai hai how are you'\n",
    "# first iteratre letters\n",
    "count=0\n",
    "for i in range(len(sent)):\n",
    "    if sent[i]=='a':             \n",
    "        count=count+1\n",
    "        \n",
    "print(\"no of repated a are:\",count)\n",
    "\n",
    "# step-1:   i=0    sent[0]='h'    'h'=='a'    F\n",
    "# step-2:   i=1    sent[1]='a'     'a'=='a'   T ====count=0+1= 1"
   ]
  },
  {
   "cell_type": "code",
   "execution_count": 53,
   "id": "abc84c48",
   "metadata": {},
   "outputs": [
    {
     "name": "stdout",
     "output_type": "stream",
     "text": [
      "1\n",
      "5\n",
      "12\n",
      "no of repated a are: 3\n"
     ]
    }
   ],
   "source": [
    "sent='hai hai how are you'\n",
    "# first iteratre letters\n",
    "count=0\n",
    "for i in range(len(sent)):\n",
    "    if sent[i]=='a':             \n",
    "        count=count+1\n",
    "        print(i)\n",
    "        \n",
    "print(\"no of repated a are:\",count)"
   ]
  },
  {
   "cell_type": "code",
   "execution_count": 57,
   "id": "004984db",
   "metadata": {},
   "outputs": [
    {
     "name": "stdout",
     "output_type": "stream",
     "text": [
      "no of repated a are: 3\n",
      "1\n",
      "5\n",
      "12\n",
      "no of repated a are: 3\n",
      "no of repated vowels are: 9\n"
     ]
    }
   ],
   "source": [
    "########################################## Q1) getting number of 'a' #####################################\n",
    "sent='hai hai how are you'\n",
    "# first iteratre letters\n",
    "count=0\n",
    "for i in range(len(sent)):\n",
    "    if sent[i]=='a':             \n",
    "        count=count+1\n",
    "        \n",
    "print(\"no of repated a are:\",count)\n",
    "\n",
    "\n",
    "#################################### Q2)getting indexof 'a' ###############################################\n",
    "sent='hai hai how are you'\n",
    "# first iteratre letters\n",
    "count=0\n",
    "for i in range(len(sent)):\n",
    "    if sent[i]=='a':             \n",
    "        count=count+1\n",
    "        print(i)\n",
    "        \n",
    "print(\"no of repated a are:\",count)\n",
    "\n",
    "\n",
    "#################################### Q3) No of vowels in the given sentence##################################\n",
    "\n",
    "sent='hai hai how are you'\n",
    "# first iteratre letters\n",
    "count=0\n",
    "for i in range(len(sent)):\n",
    "    if sent[i] in 'aeiou':             \n",
    "        count=count+1\n",
    "        \n",
    "print(\"no of repated vowels are:\",count)\n",
    "\n",
    "\n",
    "# Q4) unique vowels"
   ]
  },
  {
   "cell_type": "code",
   "execution_count": 55,
   "id": "9a3680ad",
   "metadata": {},
   "outputs": [
    {
     "data": {
      "text/plain": [
       "True"
      ]
     },
     "execution_count": 55,
     "metadata": {},
     "output_type": "execute_result"
    }
   ],
   "source": [
    "'a' in 'aeiou'"
   ]
  },
  {
   "cell_type": "code",
   "execution_count": null,
   "id": "ecf1e1df",
   "metadata": {},
   "outputs": [],
   "source": [
    "# take an empty string\n",
    "# string1=''\n",
    "# iterate through loop\n",
    "#  if  'a' in 'aeiou':\n",
    "#       if 'a' not in string1\"\n",
    "#           string1=string1+'a'    # string1='a'"
   ]
  },
  {
   "cell_type": "code",
   "execution_count": null,
   "id": "6e096d12",
   "metadata": {},
   "outputs": [],
   "source": [
    "# check two conditions parallal\n",
    "#  the given letter is in 'aeiou' \n",
    "#  if that is true check about same letter it is there in empty string\n",
    "#  if it is not there move to empty string\n",
    "#  if it is there dont move it"
   ]
  },
  {
   "cell_type": "markdown",
   "id": "22b37a39",
   "metadata": {},
   "source": [
    "- how to read the strings\n",
    "\n",
    "- single /double\n",
    "\n",
    "- triple quotes (doc string)\n",
    "\n",
    "- type\n",
    "\n",
    "- len\n",
    "\n",
    "- max\n",
    "\n",
    "- min\n",
    "\n",
    "- conactenation (addition of strings)\n",
    "\n",
    "- index opertaions\n",
    "\n",
    "       - how to iterate the letters by using for loop range function\n",
    "    \n",
    "       -  using while loop\n",
    "        \n",
    "       - post /neg/both combined \n",
    "    \n",
    "       - counting the no of 'a'\n",
    "        \n",
    "       - index of 'a'\n",
    "    \n",
    "       - no of vowels\n",
    "        \n",
    "       - no of uniques"
   ]
  },
  {
   "cell_type": "code",
   "execution_count": 2,
   "id": "9cdcad27",
   "metadata": {},
   "outputs": [],
   "source": [
    "str1='hello'\n",
    "str2='python'\n",
    "\n",
    "# 30"
   ]
  },
  {
   "cell_type": "code",
   "execution_count": 3,
   "id": "c58a5160",
   "metadata": {},
   "outputs": [
    {
     "data": {
      "text/plain": [
       "'hellopython'"
      ]
     },
     "execution_count": 3,
     "metadata": {},
     "output_type": "execute_result"
    }
   ],
   "source": [
    "str1+str2\n",
    "\n",
    "# 45"
   ]
  },
  {
   "cell_type": "markdown",
   "id": "09cf2b0c",
   "metadata": {},
   "source": [
    "$mutabality$-$imutability$"
   ]
  },
  {
   "cell_type": "code",
   "execution_count": 4,
   "id": "9709580c",
   "metadata": {},
   "outputs": [],
   "source": [
    "string1='python'"
   ]
  },
  {
   "cell_type": "code",
   "execution_count": null,
   "id": "cc9e7fa0",
   "metadata": {},
   "outputs": [],
   "source": [
    "# I want to replace 'p'  with  'P'\n",
    "# based on index operation if you change it or not\n",
    "# if you change the value by using index operation: mutable\n",
    "# if you could not change the value by using index operation: immutable"
   ]
  },
  {
   "cell_type": "code",
   "execution_count": 6,
   "id": "daf1d6ec",
   "metadata": {},
   "outputs": [
    {
     "ename": "TypeError",
     "evalue": "'str' object does not support item assignment",
     "output_type": "error",
     "traceback": [
      "\u001b[1;31m---------------------------------------------------------------------------\u001b[0m",
      "\u001b[1;31mTypeError\u001b[0m                                 Traceback (most recent call last)",
      "Cell \u001b[1;32mIn[6], line 1\u001b[0m\n\u001b[1;32m----> 1\u001b[0m string1[\u001b[38;5;241m0\u001b[39m]\u001b[38;5;241m=\u001b[39m\u001b[38;5;124m'\u001b[39m\u001b[38;5;124mP\u001b[39m\u001b[38;5;124m'\u001b[39m\n",
      "\u001b[1;31mTypeError\u001b[0m: 'str' object does not support item assignment"
     ]
    }
   ],
   "source": [
    "string1[0]='P'   #Python"
   ]
  },
  {
   "cell_type": "markdown",
   "id": "2e56cec5",
   "metadata": {},
   "source": [
    "### Strings are immutable"
   ]
  },
  {
   "cell_type": "code",
   "execution_count": 7,
   "id": "96502d09",
   "metadata": {},
   "outputs": [],
   "source": [
    "list1=[10,20,30]"
   ]
  },
  {
   "cell_type": "code",
   "execution_count": 9,
   "id": "f981b8f4",
   "metadata": {},
   "outputs": [],
   "source": [
    "list1[0]=100"
   ]
  },
  {
   "cell_type": "code",
   "execution_count": 10,
   "id": "a679b03e",
   "metadata": {},
   "outputs": [
    {
     "data": {
      "text/plain": [
       "[100, 20, 30]"
      ]
     },
     "execution_count": 10,
     "metadata": {},
     "output_type": "execute_result"
    }
   ],
   "source": [
    "list1"
   ]
  },
  {
   "cell_type": "markdown",
   "id": "fab8e51f",
   "metadata": {},
   "source": [
    "$Slicing$"
   ]
  },
  {
   "cell_type": "code",
   "execution_count": 11,
   "id": "d8ec1523",
   "metadata": {},
   "outputs": [],
   "source": [
    "string1='hello how are you'"
   ]
  },
  {
   "cell_type": "code",
   "execution_count": null,
   "id": "3fa3387f",
   "metadata": {},
   "outputs": [],
   "source": [
    "# this concept is same as range() in for loop"
   ]
  },
  {
   "cell_type": "code",
   "execution_count": 12,
   "id": "c258667a",
   "metadata": {},
   "outputs": [
    {
     "data": {
      "text/plain": [
       "'h'"
      ]
     },
     "execution_count": 12,
     "metadata": {},
     "output_type": "execute_result"
    }
   ],
   "source": [
    "string1='hello how are you'\n",
    "#string1[start:stop:step]         # range(start,stop,step)"
   ]
  },
  {
   "cell_type": "code",
   "execution_count": 14,
   "id": "ad1113cc",
   "metadata": {},
   "outputs": [
    {
     "data": {
      "text/plain": [
       "'llo how '"
      ]
     },
     "execution_count": 14,
     "metadata": {},
     "output_type": "execute_result"
    }
   ],
   "source": [
    "string1[2:10]\n",
    "# what is the direction:  postive\n",
    "# start=2\n",
    "# stop=10-1=9"
   ]
  },
  {
   "cell_type": "code",
   "execution_count": null,
   "id": "1bad9c0e",
   "metadata": {},
   "outputs": [],
   "source": [
    "h  e  l   l   o     h   o   w     a   r   e        y   o   u\n",
    "0  1  2   3   4  5  6   7   8  9  10  11  12  13   14  15  16"
   ]
  },
  {
   "cell_type": "code",
   "execution_count": 13,
   "id": "6a38ba96",
   "metadata": {},
   "outputs": [
    {
     "data": {
      "text/plain": [
       "17"
      ]
     },
     "execution_count": 13,
     "metadata": {},
     "output_type": "execute_result"
    }
   ],
   "source": [
    "len(string1)"
   ]
  },
  {
   "cell_type": "code",
   "execution_count": 15,
   "id": "aa51b3e3",
   "metadata": {},
   "outputs": [
    {
     "data": {
      "text/plain": [
       "'el o r '"
      ]
     },
     "execution_count": 15,
     "metadata": {},
     "output_type": "execute_result"
    }
   ],
   "source": [
    "string1[1:15:2]\n",
    "# start=1\n",
    "# stop=15-1=14\n",
    "# post: step=2\n",
    "# 1  3   5   7   9   11   13 \n",
    "# e  l       o       r    "
   ]
  },
  {
   "cell_type": "code",
   "execution_count": 16,
   "id": "6ba17dcd",
   "metadata": {},
   "outputs": [
    {
     "data": {
      "text/plain": [
       "''"
      ]
     },
     "execution_count": 16,
     "metadata": {},
     "output_type": "execute_result"
    }
   ],
   "source": [
    "string1[1:15:-2]\n",
    "# start=1\n",
    "# stop=16\n",
    "# dire=-ve"
   ]
  },
  {
   "cell_type": "code",
   "execution_count": 17,
   "id": "0fe6007a",
   "metadata": {},
   "outputs": [
    {
     "data": {
      "text/plain": [
       "'hello how are you'"
      ]
     },
     "execution_count": 17,
     "metadata": {},
     "output_type": "execute_result"
    }
   ],
   "source": [
    "string1[:]                # sting1[start:stop]\n",
    "# notging is mentioned means\n",
    "# postive direction\n",
    "# start=0\n",
    "# stop=till last charcter"
   ]
  },
  {
   "cell_type": "code",
   "execution_count": 18,
   "id": "a566818a",
   "metadata": {},
   "outputs": [
    {
     "data": {
      "text/plain": [
       "'hello how are you'"
      ]
     },
     "execution_count": 18,
     "metadata": {},
     "output_type": "execute_result"
    }
   ],
   "source": [
    "string1[::]  # string1[start:stop:step]\n",
    "#string[0:lastchar:1]"
   ]
  },
  {
   "cell_type": "markdown",
   "id": "9f141e19",
   "metadata": {},
   "source": [
    "- nothing mentioned at start postition: simply satrting of letter\n",
    "    \n",
    "- nothing mentioned at stop postion: simply last letter\n",
    "    \n",
    "- nothing mentioned at step size: it is postive direction with step value +1"
   ]
  },
  {
   "cell_type": "code",
   "execution_count": 19,
   "id": "3433cbbb",
   "metadata": {},
   "outputs": [
    {
     "name": "stdout",
     "output_type": "stream",
     "text": [
      "hello how are you\n",
      "hello how are you\n",
      "hello how are you\n",
      "hello how are you\n"
     ]
    }
   ],
   "source": [
    "print(string1[0:])\n",
    "print(string1[:len(string1)])\n",
    "print(string1[:])\n",
    "print(string1[::])"
   ]
  },
  {
   "cell_type": "code",
   "execution_count": null,
   "id": "8243906e",
   "metadata": {},
   "outputs": [],
   "source": [
    "\n",
    "-17  -16 -15 -14 -13 -12 -11  -10 -9 -8 -7  -6  -5  -4   -3  -2  -1\n",
    "h     e   l   l   o       h    o   w     a   r   e        y   o   u\n",
    "0     1   2   3   4   5   6    7   8  9  10  11  12  13   14  15  16"
   ]
  },
  {
   "cell_type": "code",
   "execution_count": 20,
   "id": "6ef378b6",
   "metadata": {},
   "outputs": [
    {
     "data": {
      "text/plain": [
       "''"
      ]
     },
     "execution_count": 20,
     "metadata": {},
     "output_type": "execute_result"
    }
   ],
   "source": [
    "string1[-2:-15]\n",
    "# start=-2\n",
    "# direc\n",
    "# step value : postive \n",
    "# not possible"
   ]
  },
  {
   "cell_type": "code",
   "execution_count": 21,
   "id": "73d75ad7",
   "metadata": {},
   "outputs": [
    {
     "data": {
      "text/plain": [
       "'oy era woh ol'"
      ]
     },
     "execution_count": 21,
     "metadata": {},
     "output_type": "execute_result"
    }
   ],
   "source": [
    "string1[-2:-15:-1]\n",
    "# start=-2   dire=-ve  stop=-15+1=-14   possible"
   ]
  },
  {
   "cell_type": "code",
   "execution_count": 22,
   "id": "5bab55e2",
   "metadata": {},
   "outputs": [
    {
     "data": {
      "text/plain": [
       "''"
      ]
     },
     "execution_count": 22,
     "metadata": {},
     "output_type": "execute_result"
    }
   ],
   "source": [
    "string1[-15:-2:-1]"
   ]
  },
  {
   "cell_type": "code",
   "execution_count": 23,
   "id": "eb5e82a0",
   "metadata": {},
   "outputs": [
    {
     "data": {
      "text/plain": [
       "'lohwaey'"
      ]
     },
     "execution_count": 23,
     "metadata": {},
     "output_type": "execute_result"
    }
   ],
   "source": [
    "string1[-15:-2:2]"
   ]
  },
  {
   "cell_type": "code",
   "execution_count": null,
   "id": "d838dcca",
   "metadata": {},
   "outputs": [],
   "source": [
    "-17  -16 -15 -14 -13 -12 -11  -10 -9 -8 -7  -6  -5  -4   -3  -2  -1\n",
    "h     e   l   l   o       h    o   w     a   r   e        y   o   u\n",
    "0     1   2   3   4   5   6    7   8  9  10  11  12  13   14  15  16"
   ]
  },
  {
   "cell_type": "code",
   "execution_count": 24,
   "id": "9d8e42da",
   "metadata": {},
   "outputs": [
    {
     "data": {
      "text/plain": [
       "'woh ol'"
      ]
     },
     "execution_count": 24,
     "metadata": {},
     "output_type": "execute_result"
    }
   ],
   "source": [
    "string1[8:-15:-1]\n",
    "\n",
    "#start=8  stop =-15+1=-14  it is poss"
   ]
  },
  {
   "cell_type": "code",
   "execution_count": 26,
   "id": "fc982858",
   "metadata": {},
   "outputs": [
    {
     "data": {
      "text/plain": [
       "'w'"
      ]
     },
     "execution_count": 26,
     "metadata": {},
     "output_type": "execute_result"
    }
   ],
   "source": [
    "string1[8:-10:-1]"
   ]
  },
  {
   "cell_type": "code",
   "execution_count": 27,
   "id": "38dd44e9",
   "metadata": {},
   "outputs": [
    {
     "data": {
      "text/plain": [
       "'w'"
      ]
     },
     "execution_count": 27,
     "metadata": {},
     "output_type": "execute_result"
    }
   ],
   "source": [
    "string1[8:-10:-2]"
   ]
  },
  {
   "cell_type": "code",
   "execution_count": 28,
   "id": "1d4eeb41",
   "metadata": {},
   "outputs": [
    {
     "data": {
      "text/plain": [
       "'l '"
      ]
     },
     "execution_count": 28,
     "metadata": {},
     "output_type": "execute_result"
    }
   ],
   "source": [
    "string1[-15:8:3]"
   ]
  },
  {
   "cell_type": "code",
   "execution_count": 29,
   "id": "eb0b0d85",
   "metadata": {},
   "outputs": [
    {
     "data": {
      "text/plain": [
       "'hello how are you'"
      ]
     },
     "execution_count": 29,
     "metadata": {},
     "output_type": "execute_result"
    }
   ],
   "source": [
    "# If i want reverse the string\n",
    "string1[::1]\n",
    "\n",
    "# postive \n",
    "# start: start\n",
    "# stop: last"
   ]
  },
  {
   "cell_type": "code",
   "execution_count": 30,
   "id": "095b2592",
   "metadata": {},
   "outputs": [
    {
     "data": {
      "text/plain": [
       "'uoy era woh olleh'"
      ]
     },
     "execution_count": 30,
     "metadata": {},
     "output_type": "execute_result"
    }
   ],
   "source": [
    "string1[::-1]\n",
    "# in the negative \n",
    "# start: u\n",
    "# stop:h"
   ]
  },
  {
   "cell_type": "markdown",
   "id": "8a258118",
   "metadata": {},
   "source": [
    "- how to read the strings\n",
    "\n",
    "- single /double\n",
    "\n",
    "- triple quotes (doc string)\n",
    "\n",
    "- type\n",
    "\n",
    "- len\n",
    "\n",
    "- max\n",
    "\n",
    "- min\n",
    "\n",
    "- conactenation (addition of strings)\n",
    "\n",
    "- index opertaions\n",
    "\n",
    "       - how to iterate the letters by using for loop range function\n",
    "    \n",
    "       -  using while loop\n",
    "        \n",
    "       - post /neg/both combined \n",
    "    \n",
    "       - counting the no of 'a'\n",
    "        \n",
    "       - index of 'a'\n",
    "    \n",
    "       - no of vowels\n",
    "        \n",
    "       - no of uniques\n",
    "    \n",
    "- slicing"
   ]
  },
  {
   "cell_type": "markdown",
   "id": "06124e2f",
   "metadata": {},
   "source": [
    "### String methods:"
   ]
  },
  {
   "cell_type": "code",
   "execution_count": 31,
   "id": "a7a5ac71",
   "metadata": {},
   "outputs": [
    {
     "data": {
      "text/plain": [
       "['__add__',\n",
       " '__class__',\n",
       " '__contains__',\n",
       " '__delattr__',\n",
       " '__dir__',\n",
       " '__doc__',\n",
       " '__eq__',\n",
       " '__format__',\n",
       " '__ge__',\n",
       " '__getattribute__',\n",
       " '__getitem__',\n",
       " '__getnewargs__',\n",
       " '__getstate__',\n",
       " '__gt__',\n",
       " '__hash__',\n",
       " '__init__',\n",
       " '__init_subclass__',\n",
       " '__iter__',\n",
       " '__le__',\n",
       " '__len__',\n",
       " '__lt__',\n",
       " '__mod__',\n",
       " '__mul__',\n",
       " '__ne__',\n",
       " '__new__',\n",
       " '__reduce__',\n",
       " '__reduce_ex__',\n",
       " '__repr__',\n",
       " '__rmod__',\n",
       " '__rmul__',\n",
       " '__setattr__',\n",
       " '__sizeof__',\n",
       " '__str__',\n",
       " '__subclasshook__',\n",
       " 'capitalize',\n",
       " 'casefold',\n",
       " 'center',\n",
       " 'count',\n",
       " 'encode',\n",
       " 'endswith',\n",
       " 'expandtabs',\n",
       " 'find',\n",
       " 'format',\n",
       " 'format_map',\n",
       " 'index',\n",
       " 'isalnum',\n",
       " 'isalpha',\n",
       " 'isascii',\n",
       " 'isdecimal',\n",
       " 'isdigit',\n",
       " 'isidentifier',\n",
       " 'islower',\n",
       " 'isnumeric',\n",
       " 'isprintable',\n",
       " 'isspace',\n",
       " 'istitle',\n",
       " 'isupper',\n",
       " 'join',\n",
       " 'ljust',\n",
       " 'lower',\n",
       " 'lstrip',\n",
       " 'maketrans',\n",
       " 'partition',\n",
       " 'removeprefix',\n",
       " 'removesuffix',\n",
       " 'replace',\n",
       " 'rfind',\n",
       " 'rindex',\n",
       " 'rjust',\n",
       " 'rpartition',\n",
       " 'rsplit',\n",
       " 'rstrip',\n",
       " 'split',\n",
       " 'splitlines',\n",
       " 'startswith',\n",
       " 'strip',\n",
       " 'swapcase',\n",
       " 'title',\n",
       " 'translate',\n",
       " 'upper',\n",
       " 'zfill']"
      ]
     },
     "execution_count": 31,
     "metadata": {},
     "output_type": "execute_result"
    }
   ],
   "source": [
    "dir('name')"
   ]
  },
  {
   "cell_type": "markdown",
   "id": "a1717a1a",
   "metadata": {},
   "source": [
    "$capitalize$"
   ]
  },
  {
   "cell_type": "code",
   "execution_count": 32,
   "id": "fecc3239",
   "metadata": {},
   "outputs": [],
   "source": [
    "name='naresh it'"
   ]
  },
  {
   "cell_type": "code",
   "execution_count": 33,
   "id": "5f6563ef",
   "metadata": {},
   "outputs": [
    {
     "name": "stdout",
     "output_type": "stream",
     "text": [
      "Help on built-in function capitalize:\n",
      "\n",
      "capitalize() method of builtins.str instance\n",
      "    Return a capitalized version of the string.\n",
      "    \n",
      "    More specifically, make the first character have upper case and the rest lower\n",
      "    case.\n",
      "\n"
     ]
    }
   ],
   "source": [
    "help(name.capitalize)"
   ]
  },
  {
   "cell_type": "code",
   "execution_count": 34,
   "id": "a857c3db",
   "metadata": {},
   "outputs": [
    {
     "data": {
      "text/plain": [
       "'Naresh it'"
      ]
     },
     "execution_count": 34,
     "metadata": {},
     "output_type": "execute_result"
    }
   ],
   "source": [
    "name.capitalize()"
   ]
  },
  {
   "cell_type": "code",
   "execution_count": 35,
   "id": "af1a54ac",
   "metadata": {},
   "outputs": [
    {
     "data": {
      "text/plain": [
       "'Naresh it'"
      ]
     },
     "execution_count": 35,
     "metadata": {},
     "output_type": "execute_result"
    }
   ],
   "source": [
    "name='naresh it'\n",
    "name.capitalize()"
   ]
  },
  {
   "cell_type": "code",
   "execution_count": null,
   "id": "a84a2a5f",
   "metadata": {},
   "outputs": [],
   "source": [
    "#upper \n",
    "#lower"
   ]
  },
  {
   "cell_type": "markdown",
   "id": "db7c29ab",
   "metadata": {},
   "source": [
    "$upper$"
   ]
  },
  {
   "cell_type": "code",
   "execution_count": 36,
   "id": "5494b9ac",
   "metadata": {},
   "outputs": [
    {
     "name": "stdout",
     "output_type": "stream",
     "text": [
      "Help on built-in function upper:\n",
      "\n",
      "upper() method of builtins.str instance\n",
      "    Return a copy of the string converted to uppercase.\n",
      "\n"
     ]
    }
   ],
   "source": [
    "name='naresh it'\n",
    "help(name.upper)"
   ]
  },
  {
   "cell_type": "code",
   "execution_count": 41,
   "id": "0924d2c2",
   "metadata": {},
   "outputs": [
    {
     "data": {
      "text/plain": [
       "'NARESH IT'"
      ]
     },
     "execution_count": 41,
     "metadata": {},
     "output_type": "execute_result"
    }
   ],
   "source": [
    "name.upper()"
   ]
  },
  {
   "cell_type": "markdown",
   "id": "be4d5940",
   "metadata": {},
   "source": [
    "$lower$"
   ]
  },
  {
   "cell_type": "code",
   "execution_count": 42,
   "id": "f211c6a3",
   "metadata": {},
   "outputs": [
    {
     "name": "stdout",
     "output_type": "stream",
     "text": [
      "Help on built-in function lower:\n",
      "\n",
      "lower() method of builtins.str instance\n",
      "    Return a copy of the string converted to lowercase.\n",
      "\n"
     ]
    }
   ],
   "source": [
    "name='Naresh It'\n",
    "help(name.lower)"
   ]
  },
  {
   "cell_type": "code",
   "execution_count": 43,
   "id": "3629bbc4",
   "metadata": {},
   "outputs": [
    {
     "data": {
      "text/plain": [
       "'naresh it'"
      ]
     },
     "execution_count": 43,
     "metadata": {},
     "output_type": "execute_result"
    }
   ],
   "source": [
    "name.lower()"
   ]
  },
  {
   "cell_type": "code",
   "execution_count": 44,
   "id": "6b34e717",
   "metadata": {},
   "outputs": [
    {
     "name": "stdout",
     "output_type": "stream",
     "text": [
      "Naresh it\n",
      "NARESH IT\n",
      "naresh it\n"
     ]
    }
   ],
   "source": [
    "name1='naresh IT'\n",
    "print(name1.capitalize())\n",
    "print(name1.upper())\n",
    "print(name1.lower())\n"
   ]
  },
  {
   "cell_type": "markdown",
   "id": "c67fbf97",
   "metadata": {},
   "source": [
    "$Casefold$"
   ]
  },
  {
   "cell_type": "code",
   "execution_count": 50,
   "id": "017defa4",
   "metadata": {},
   "outputs": [
    {
     "name": "stdout",
     "output_type": "stream",
     "text": [
      "Help on built-in function casefold:\n",
      "\n",
      "casefold() method of builtins.str instance\n",
      "    Return a version of the string suitable for caseless comparisons.\n",
      "\n",
      "naresh it\n"
     ]
    }
   ],
   "source": [
    "name1='NareSh it'\n",
    "help(name1.casefold)\n",
    "print(name1.casefold())"
   ]
  },
  {
   "cell_type": "code",
   "execution_count": null,
   "id": "d8ce2671",
   "metadata": {},
   "outputs": [],
   "source": [
    "string1='hello'\n",
    "\n",
    "#output: string1='Hello'  with out using string method\n",
    "# strings immutable: index operations\n",
    "# hint: using slicing and conactenation"
   ]
  },
  {
   "cell_type": "code",
   "execution_count": 51,
   "id": "0e023eea",
   "metadata": {},
   "outputs": [
    {
     "data": {
      "text/plain": [
       "'Hello'"
      ]
     },
     "execution_count": 51,
     "metadata": {},
     "output_type": "execute_result"
    }
   ],
   "source": [
    "string1='hello'\n",
    "string2='H'\n",
    "string3=string1[1:]\n",
    "string2+string3"
   ]
  },
  {
   "cell_type": "code",
   "execution_count": 55,
   "id": "789c2d47",
   "metadata": {},
   "outputs": [
    {
     "name": "stdout",
     "output_type": "stream",
     "text": [
      "3\n",
      "0.0\n"
     ]
    }
   ],
   "source": [
    "string='hello hai how are you'\n",
    "# how many h : 3\n",
    "import time\n",
    "start=time.time()\n",
    "count=0\n",
    "for i in string:\n",
    "    if i=='h':\n",
    "        count+=1\n",
    "        \n",
    "print(count)\n",
    "end=time.time()\n",
    "print(end-start)"
   ]
  },
  {
   "cell_type": "code",
   "execution_count": 54,
   "id": "b2380bac",
   "metadata": {},
   "outputs": [
    {
     "data": {
      "text/plain": [
       "3"
      ]
     },
     "execution_count": 54,
     "metadata": {},
     "output_type": "execute_result"
    }
   ],
   "source": [
    "string.count('h')"
   ]
  },
  {
   "cell_type": "code",
   "execution_count": null,
   "id": "f1b89018",
   "metadata": {},
   "outputs": [],
   "source": [
    "# In real time do we use methods?"
   ]
  },
  {
   "cell_type": "code",
   "execution_count": 3,
   "id": "06bbf538",
   "metadata": {},
   "outputs": [
    {
     "name": "stdout",
     "output_type": "stream",
     "text": [
      "p\n",
      "y\n",
      "t\n",
      "h\n",
      "o\n",
      "n\n",
      "0 p\n",
      "1 y\n",
      "2 t\n",
      "3 h\n",
      "4 o\n",
      "5 n\n"
     ]
    }
   ],
   "source": [
    "name='python'\n",
    "for i in name:\n",
    "    print(i)\n",
    "    \n",
    "for i in range(len(name)):\n",
    "    print(i,name[i])\n",
    "    \n",
    "    \n",
    "# if you solve that 4 questions with in operator\n",
    "# range  in"
   ]
  },
  {
   "cell_type": "code",
   "execution_count": null,
   "id": "3f6ab314",
   "metadata": {},
   "outputs": [],
   "source": [
    "Q1)  how many 'a'\n",
    "\n",
    "Q2)  index of  'a'\n",
    "\n",
    "Q3)  number of vowels in a given string\n",
    "\n",
    "Q4) unique vowels"
   ]
  },
  {
   "cell_type": "code",
   "execution_count": null,
   "id": "3900d8dc",
   "metadata": {},
   "outputs": [],
   "source": [
    "# Now we are in the count method"
   ]
  },
  {
   "cell_type": "code",
   "execution_count": 4,
   "id": "f593157b",
   "metadata": {},
   "outputs": [],
   "source": [
    "string1='HAI HAI hai hai'\n",
    "# How many h are there \n",
    "# if this method will give 'H' and 'h'"
   ]
  },
  {
   "cell_type": "code",
   "execution_count": 5,
   "id": "9ecad448",
   "metadata": {},
   "outputs": [
    {
     "data": {
      "text/plain": [
       "2"
      ]
     },
     "execution_count": 5,
     "metadata": {},
     "output_type": "execute_result"
    }
   ],
   "source": [
    "string1.count('H')"
   ]
  },
  {
   "cell_type": "code",
   "execution_count": 6,
   "id": "eb9407d8",
   "metadata": {},
   "outputs": [
    {
     "data": {
      "text/plain": [
       "2"
      ]
     },
     "execution_count": 6,
     "metadata": {},
     "output_type": "execute_result"
    }
   ],
   "source": [
    "string1.count('h')"
   ]
  },
  {
   "cell_type": "code",
   "execution_count": null,
   "id": "28096259",
   "metadata": {},
   "outputs": [],
   "source": [
    "# WAP convert above string into lower case\n",
    "# and count number of 'h'\n",
    "\n",
    "# Do by using string methods: 4          lower and count\n",
    "# Do by using with out string methods:4  for loop and if condition"
   ]
  },
  {
   "cell_type": "code",
   "execution_count": 12,
   "id": "ab7707b2",
   "metadata": {},
   "outputs": [
    {
     "data": {
      "text/plain": [
       "4"
      ]
     },
     "execution_count": 12,
     "metadata": {},
     "output_type": "execute_result"
    }
   ],
   "source": [
    "# Method-1:\n",
    "string1='HAI HAI hai hai'\n",
    "string2=string1.lower()\n",
    "string2.count('h')\n",
    "\n",
    "# M-2:\n",
    "string1.lower().count('h')\n",
    "\n",
    "# M-3:\n",
    "'HAI HAI hai hai'.lower().count('h')\n",
    "\n",
    "# M-4:\n",
    "'hai hai hai hai'.count('h')"
   ]
  },
  {
   "cell_type": "code",
   "execution_count": 16,
   "id": "a056e7b8",
   "metadata": {},
   "outputs": [
    {
     "name": "stdout",
     "output_type": "stream",
     "text": [
      "2\n"
     ]
    }
   ],
   "source": [
    "string1='HAI HAI hai hai'\n",
    "count=0\n",
    "for i in string1:\n",
    "    #print(i)           # H or h\n",
    "    if i=='h' or i=='H': # both conditions we are checking at a time\n",
    "        count=count+1\n",
    "        \n",
    "print(count)\n",
    "\n",
    "# or means any condition is true is fine\n",
    "# and means both the conditions need be True"
   ]
  },
  {
   "cell_type": "code",
   "execution_count": null,
   "id": "11860f96",
   "metadata": {},
   "outputs": [],
   "source": [
    "'A'=65+32  ======== 'a'=97"
   ]
  },
  {
   "cell_type": "code",
   "execution_count": 17,
   "id": "5b7ba601",
   "metadata": {},
   "outputs": [
    {
     "data": {
      "text/plain": [
       "65"
      ]
     },
     "execution_count": 17,
     "metadata": {},
     "output_type": "execute_result"
    }
   ],
   "source": [
    "ord('A')   # 32"
   ]
  },
  {
   "cell_type": "code",
   "execution_count": 18,
   "id": "18537d0c",
   "metadata": {},
   "outputs": [
    {
     "name": "stdout",
     "output_type": "stream",
     "text": [
      "4\n"
     ]
    }
   ],
   "source": [
    "string1='HAI HAI hai hai'\n",
    "count=0\n",
    "for i in string1.lower():\n",
    "    #print(i)           # H or h\n",
    "    if i=='h': # both conditions we are checking at a time\n",
    "        count=count+1\n",
    "        \n",
    "print(count)\n"
   ]
  },
  {
   "cell_type": "code",
   "execution_count": null,
   "id": "13955490",
   "metadata": {},
   "outputs": [],
   "source": [
    "string1='HAI HAI hai hai'\n",
    "count=0\n",
    "for i in string1:\n",
    "    #print(i)           # H or h\n",
    "    if i=='h' or i=='H': # both conditions we are checking at a time\n",
    "        count=count+1\n",
    "        \n",
    "print(count)\n",
    "\n",
    "#======================================================\n",
    "string1='HAI HAI hai hai'\n",
    "count=0\n",
    "for i in string1.lower():\n",
    "    #print(i)           # H or h\n",
    "    if i=='h': # both conditions we are checking at a time\n",
    "        count=count+1\n",
    "        \n",
    "print(count)"
   ]
  },
  {
   "cell_type": "code",
   "execution_count": 19,
   "id": "55ea6a53",
   "metadata": {},
   "outputs": [
    {
     "name": "stdout",
     "output_type": "stream",
     "text": [
      "4\n"
     ]
    }
   ],
   "source": [
    "string1='HAI HAI hai hai'\n",
    "count=0\n",
    "for i in string1:\n",
    "    #print(i)           # H or h\n",
    "    if i.lower()=='h': # both conditions we are checking at a time\n",
    "        count=count+1\n",
    "        \n",
    "print(count)"
   ]
  },
  {
   "cell_type": "code",
   "execution_count": null,
   "id": "fa1096b2",
   "metadata": {},
   "outputs": [],
   "source": [
    "string1='HAI HAI hai hai'\n",
    "count=0\n",
    "for i in string1:\n",
    "    #print(i)           # H or h\n",
    "    if i=='h' or i=='H': # both conditions we are checking at a time\n",
    "        count=count+1\n",
    "        \n",
    "print(count)\n",
    "\n",
    "#======================================================\n",
    "string1='HAI HAI hai hai'\n",
    "count=0\n",
    "for i in string1.lower():\n",
    "    #print(i)           # H or h\n",
    "    if i=='h': # both conditions we are checking at a time\n",
    "        count=count+1\n",
    "        \n",
    "print(count)\n",
    "\n",
    "#======================================================\n",
    "string1='HAI HAI hai hai'\n",
    "count=0\n",
    "for i in string1:\n",
    "    #print(i)           # H or h\n",
    "    if i.lower()=='h': # both conditions we are checking at a time\n",
    "        count=count+1\n",
    "        \n",
    "print(count)"
   ]
  },
  {
   "cell_type": "code",
   "execution_count": 20,
   "id": "9c3e8ece",
   "metadata": {},
   "outputs": [
    {
     "name": "stdout",
     "output_type": "stream",
     "text": [
      "4\n"
     ]
    }
   ],
   "source": [
    "string1='HAI HAI hai hai'\n",
    "count=0\n",
    "for i in range(len(string1)):\n",
    "    if string1[i].lower()=='h': # both conditions we are checking at a time\n",
    "        count=count+1\n",
    "        \n",
    "print(count)"
   ]
  },
  {
   "cell_type": "code",
   "execution_count": null,
   "id": "57c5f9b8",
   "metadata": {},
   "outputs": [],
   "source": [
    "# if you use range function on strings\n",
    "# use index method\n",
    "\n",
    "# if you use in operator on string : direct"
   ]
  },
  {
   "cell_type": "code",
   "execution_count": 24,
   "id": "302451ae",
   "metadata": {},
   "outputs": [
    {
     "name": "stdout",
     "output_type": "stream",
     "text": [
      "4\n",
      "4\n",
      "0\n",
      "3\n"
     ]
    }
   ],
   "source": [
    "string2='ola ola ola ola'\n",
    "print(string2.count('ola')) #4\n",
    "print(string2.count('o'))   #4\n",
    "print(string2.count('oa'))  #0\n",
    "print(string2.count('ola '))# 3"
   ]
  },
  {
   "cell_type": "code",
   "execution_count": 27,
   "id": "e796ba9d",
   "metadata": {},
   "outputs": [
    {
     "name": "stdout",
     "output_type": "stream",
     "text": [
      "mOBIn 2 aRE\n"
     ]
    }
   ],
   "source": [
    "s_in='MobiN 2 Are'\n",
    "s_out=''\n",
    "for i in s_in:\n",
    "    if i.isupper()==True:\n",
    "        s_out+=i.lower()\n",
    "    else:\n",
    "        s_out+=i.upper()\n",
    "print(s_out)"
   ]
  },
  {
   "cell_type": "code",
   "execution_count": 28,
   "id": "1cf8f396",
   "metadata": {},
   "outputs": [
    {
     "data": {
      "text/plain": [
       "15"
      ]
     },
     "execution_count": 28,
     "metadata": {},
     "output_type": "execute_result"
    }
   ],
   "source": [
    "string2='ola ola ola ola'\n",
    "len(string2)\n",
    "# I want to know how many 'a' are there after 4th index"
   ]
  },
  {
   "cell_type": "code",
   "execution_count": 62,
   "id": "591a6cf0",
   "metadata": {},
   "outputs": [
    {
     "data": {
      "text/plain": [
       "1"
      ]
     },
     "execution_count": 62,
     "metadata": {},
     "output_type": "execute_result"
    }
   ],
   "source": [
    "string2.count('a',4)\n",
    "# here 4 means we are counting 'a' from 4th index\n",
    "\n",
    "# how many 'a' are there between 4  to 8th index\n",
    "string2.count('a',4,9)\n",
    "\n",
    "#ola   ola   ola  ola\n",
    "#012 3 456 7 8910\n",
    "\n",
    "# string.count(<char>,start_index)"
   ]
  },
  {
   "cell_type": "code",
   "execution_count": 31,
   "id": "e54bd618",
   "metadata": {},
   "outputs": [
    {
     "data": {
      "text/plain": [
       "3"
      ]
     },
     "execution_count": 31,
     "metadata": {},
     "output_type": "execute_result"
    }
   ],
   "source": [
    "string2[4:].count('ola')\n",
    "# count method is internally doing the slicing also\n",
    "# not required slicing when you apply count method"
   ]
  },
  {
   "cell_type": "code",
   "execution_count": 60,
   "id": "3d1720f4",
   "metadata": {},
   "outputs": [
    {
     "name": "stdout",
     "output_type": "stream",
     "text": [
      "3\n"
     ]
    }
   ],
   "source": [
    "# wap by using for if \n",
    "count=0\n",
    "for i in range(len(string2)-2):  # 0  to 12\n",
    "    if i>=4:\n",
    "        if string2[i]+string2[i+1]+string2[i+2]=='ola': # 'o'=='ola'  F            \n",
    "            count=count+1\n",
    "            \n",
    "print(count)\n",
    "    \n",
    "# you need to count the number of 'o' from index 4\n",
    "# charcters aswellas number\n",
    "# in/range           range()"
   ]
  },
  {
   "cell_type": "code",
   "execution_count": 55,
   "id": "22c79a0c",
   "metadata": {},
   "outputs": [
    {
     "ename": "IndexError",
     "evalue": "string index out of range",
     "output_type": "error",
     "traceback": [
      "\u001b[1;31m---------------------------------------------------------------------------\u001b[0m",
      "\u001b[1;31mIndexError\u001b[0m                                Traceback (most recent call last)",
      "Cell \u001b[1;32mIn[55], line 11\u001b[0m\n\u001b[0;32m      9\u001b[0m i\u001b[38;5;241m=\u001b[39m\u001b[38;5;241m12\u001b[39m \u001b[38;5;66;03m#====================== True\u001b[39;00m\n\u001b[0;32m     10\u001b[0m i\u001b[38;5;241m=\u001b[39m\u001b[38;5;241m13\u001b[39m\n\u001b[1;32m---> 11\u001b[0m string2[i]\u001b[38;5;241m+\u001b[39mstring2[i\u001b[38;5;241m+\u001b[39m\u001b[38;5;241m1\u001b[39m]\u001b[38;5;241m+\u001b[39mstring2[i\u001b[38;5;241m+\u001b[39m\u001b[38;5;241m2\u001b[39m]\n",
      "\u001b[1;31mIndexError\u001b[0m: string index out of range"
     ]
    }
   ],
   "source": [
    "i=4 #==================== True\n",
    "i=5\n",
    "i=6\n",
    "i=7\n",
    "i=8 #==================== True\n",
    "i=9\n",
    "i=10\n",
    "i=11\n",
    "i=12 #====================== True\n",
    "i=13\n",
    "string2[i]+string2[i+1]+string2[i+2]\n",
    "string2[13]+string2[14]+string2[15]"
   ]
  },
  {
   "cell_type": "code",
   "execution_count": 57,
   "id": "70ba01f2",
   "metadata": {},
   "outputs": [
    {
     "data": {
      "text/plain": [
       "13"
      ]
     },
     "execution_count": 57,
     "metadata": {},
     "output_type": "execute_result"
    }
   ],
   "source": [
    "len(string2)-2"
   ]
  },
  {
   "cell_type": "markdown",
   "id": "8f5f7b28",
   "metadata": {},
   "source": [
    "- Casefold\n",
    "\n",
    "- upper\n",
    "\n",
    "- lower\n",
    "\n",
    "- capitalize\n",
    "\n",
    "- count"
   ]
  },
  {
   "cell_type": "markdown",
   "id": "31dbf041",
   "metadata": {},
   "source": [
    "$Replace$"
   ]
  },
  {
   "cell_type": "code",
   "execution_count": 1,
   "id": "aef70c78",
   "metadata": {},
   "outputs": [],
   "source": [
    "string1='welcome'\n",
    "# I want replace 'l'  with 'L'"
   ]
  },
  {
   "cell_type": "code",
   "execution_count": 3,
   "id": "c0724ecf",
   "metadata": {},
   "outputs": [
    {
     "ename": "TypeError",
     "evalue": "'str' object does not support item assignment",
     "output_type": "error",
     "traceback": [
      "\u001b[1;31m---------------------------------------------------------------------------\u001b[0m",
      "\u001b[1;31mTypeError\u001b[0m                                 Traceback (most recent call last)",
      "Cell \u001b[1;32mIn[3], line 1\u001b[0m\n\u001b[1;32m----> 1\u001b[0m string1[\u001b[38;5;241m2\u001b[39m]\u001b[38;5;241m=\u001b[39m\u001b[38;5;124m'\u001b[39m\u001b[38;5;124mL\u001b[39m\u001b[38;5;124m'\u001b[39m\n",
      "\u001b[1;31mTypeError\u001b[0m: 'str' object does not support item assignment"
     ]
    }
   ],
   "source": [
    "string1[2]='L'  # strings are immutable"
   ]
  },
  {
   "cell_type": "code",
   "execution_count": 7,
   "id": "b86009b9",
   "metadata": {},
   "outputs": [
    {
     "data": {
      "text/plain": [
       "'weLcome'"
      ]
     },
     "execution_count": 7,
     "metadata": {},
     "output_type": "execute_result"
    }
   ],
   "source": [
    "# welcome =====\n",
    "#we =string1[:2]    \n",
    "#come =string1[3:]\n",
    "# slice + concatenation\n",
    "string1[:2]+'L'+string1[3:]"
   ]
  },
  {
   "cell_type": "code",
   "execution_count": 8,
   "id": "813b0ab8",
   "metadata": {},
   "outputs": [
    {
     "data": {
      "text/plain": [
       "'weLcome'"
      ]
     },
     "execution_count": 8,
     "metadata": {},
     "output_type": "execute_result"
    }
   ],
   "source": [
    "string1.replace('l','L')"
   ]
  },
  {
   "cell_type": "code",
   "execution_count": null,
   "id": "fbd6b576",
   "metadata": {},
   "outputs": [],
   "source": [
    "# all together\n",
    "string1='welcome'\n",
    "#=============== Slice +Cocatenation================\n",
    "string1[:2]+'L'+string1[3:]\n",
    "#=============== Replace method=================\n",
    "string1.replace('l','L')"
   ]
  },
  {
   "cell_type": "code",
   "execution_count": 9,
   "id": "8061c87f",
   "metadata": {},
   "outputs": [
    {
     "data": {
      "text/plain": [
       "'$esta$t'"
      ]
     },
     "execution_count": 9,
     "metadata": {},
     "output_type": "execute_result"
    }
   ],
   "source": [
    "# input:   restart\n",
    "# output1: $estart\n",
    "# output2: resta$t\n",
    "# using replace method\n",
    "\n",
    "# what is the intial drawback\n",
    "'restart'.replace('r','$')\n",
    "# replace method will replace all\n",
    "# the occurences"
   ]
  },
  {
   "cell_type": "code",
   "execution_count": 10,
   "id": "9afd0d16",
   "metadata": {},
   "outputs": [
    {
     "name": "stdout",
     "output_type": "stream",
     "text": [
      "$estart\n",
      "resta$t\n",
      "$esta$t\n"
     ]
    }
   ],
   "source": [
    "string1 ='restart'\n",
    "print('$'+string1[1:]) # we already know\n",
    "print(string1[:5]+'$'+string1[6:]) # we already know\n",
    "print(string1.replace('r','$'))"
   ]
  },
  {
   "cell_type": "code",
   "execution_count": 12,
   "id": "6d38ec7e",
   "metadata": {},
   "outputs": [
    {
     "data": {
      "text/plain": [
       "'$$$$$$$'"
      ]
     },
     "execution_count": 12,
     "metadata": {},
     "output_type": "execute_result"
    }
   ],
   "source": [
    "'restart'.replace('restart','$$$$$$$')"
   ]
  },
  {
   "cell_type": "code",
   "execution_count": 13,
   "id": "f49d116d",
   "metadata": {},
   "outputs": [
    {
     "data": {
      "text/plain": [
       "'resta$t'"
      ]
     },
     "execution_count": 13,
     "metadata": {},
     "output_type": "execute_result"
    }
   ],
   "source": [
    "string4='restart'\n",
    "string4.replace('restart','resta$t')"
   ]
  },
  {
   "cell_type": "code",
   "execution_count": 14,
   "id": "23054ed9",
   "metadata": {},
   "outputs": [
    {
     "data": {
      "text/plain": [
       "'$estart'"
      ]
     },
     "execution_count": 14,
     "metadata": {},
     "output_type": "execute_result"
    }
   ],
   "source": [
    "str1='restart'\n",
    "str1.replace('restart','$estart')"
   ]
  },
  {
   "cell_type": "code",
   "execution_count": 36,
   "id": "e294f277",
   "metadata": {},
   "outputs": [
    {
     "name": "stdout",
     "output_type": "stream",
     "text": [
      "$esta$t\n",
      "$estart\n",
      "resta$t\n",
      "resta$t\n",
      "resta$t\n"
     ]
    }
   ],
   "source": [
    "string1='restart'\n",
    "print(string1.replace('r','$'))\n",
    "\n",
    "# in above code im not providing count value\n",
    "# what is default value=-1\n",
    "# replace maximum occurences\n",
    "\n",
    "print(string1.replace('r','$',1))\n",
    "\n",
    "# whenever you see '/' in the function inside\n",
    "# then dont provide variable name\n",
    "\n",
    "# 1 means what , only replace one occurence\n",
    "\n",
    "# Now I want to do second occurence\n",
    "# as of now we are counting the index\n",
    "str1=string1[1:]  #'estart'\n",
    "str2=string1[:1]  #'r'\n",
    "str3=str1.replace('r','$',1)\n",
    "print(str2+str3)\n",
    "\n",
    "print(string1[:1]+string1[1:].replace('r','$',1))\n",
    "print(string1[::-1].replace('r','$',1)[::-1])"
   ]
  },
  {
   "cell_type": "code",
   "execution_count": 38,
   "id": "eb1cd875",
   "metadata": {},
   "outputs": [
    {
     "data": {
      "text/plain": [
       "'ap0orv'"
      ]
     },
     "execution_count": 38,
     "metadata": {},
     "output_type": "execute_result"
    }
   ],
   "source": [
    "name='apoorv'\n",
    "# 'o'  with '0'\n",
    "name.replace('o','0',1)\n",
    "# replace\n",
    "# 1 'o' i need to change"
   ]
  },
  {
   "cell_type": "code",
   "execution_count": null,
   "id": "4eb6ce61",
   "metadata": {},
   "outputs": [],
   "source": [
    "https://www.eenadu.net/telugu-news/business/what-is-deepfake-all-you-need-to-know/0110/123205786"
   ]
  },
  {
   "cell_type": "code",
   "execution_count": null,
   "id": "f9c4f03d",
   "metadata": {},
   "outputs": [],
   "source": [
    "# Deep Fake : AI "
   ]
  },
  {
   "cell_type": "code",
   "execution_count": null,
   "id": "8075a57b",
   "metadata": {},
   "outputs": [],
   "source": [
    "# First in First out"
   ]
  },
  {
   "cell_type": "code",
   "execution_count": 39,
   "id": "9de7f094",
   "metadata": {},
   "outputs": [
    {
     "data": {
      "text/plain": [
       "'ap00orv'"
      ]
     },
     "execution_count": 39,
     "metadata": {},
     "output_type": "execute_result"
    }
   ],
   "source": [
    "'apooorv'.replace('o','0',2)"
   ]
  },
  {
   "cell_type": "markdown",
   "id": "100ce595",
   "metadata": {},
   "source": [
    "$Index$"
   ]
  },
  {
   "cell_type": "code",
   "execution_count": 40,
   "id": "283c76ba",
   "metadata": {},
   "outputs": [
    {
     "data": {
      "text/plain": [
       "2"
      ]
     },
     "execution_count": 40,
     "metadata": {},
     "output_type": "execute_result"
    }
   ],
   "source": [
    "string1='python'\n",
    "# If i want to know  \n",
    "# index of 't'\n",
    "string1.index('t')\n",
    "\n",
    "# This is very very important method"
   ]
  },
  {
   "cell_type": "code",
   "execution_count": 44,
   "id": "5a9fb2e5",
   "metadata": {},
   "outputs": [
    {
     "data": {
      "text/plain": [
       "'art'"
      ]
     },
     "execution_count": 44,
     "metadata": {},
     "output_type": "execute_result"
    }
   ],
   "source": [
    "string1='restart'\n",
    "\n",
    "# replace the 'second t' with 2\n",
    "# some slice\n",
    "string1[string1.index('t')+1:]"
   ]
  },
  {
   "cell_type": "code",
   "execution_count": 43,
   "id": "162df5d2",
   "metadata": {},
   "outputs": [
    {
     "data": {
      "text/plain": [
       "3"
      ]
     },
     "execution_count": 43,
     "metadata": {},
     "output_type": "execute_result"
    }
   ],
   "source": [
    "string1.index('t')"
   ]
  },
  {
   "cell_type": "code",
   "execution_count": 49,
   "id": "541a85cb",
   "metadata": {},
   "outputs": [
    {
     "name": "stdout",
     "output_type": "stream",
     "text": [
      "3\n",
      "6\n"
     ]
    }
   ],
   "source": [
    "string1='restart'\n",
    "\n",
    "#  r   e   s   t    a   r   t\n",
    "#  0   1   2   3    4   5   6\n",
    "print(string1.index('t'))\n",
    "f_o=string1.index('t')     # 3\n",
    "# it will provide only first occurence of charcter index\n",
    "print(string1.index('t',f_o+1))"
   ]
  },
  {
   "cell_type": "code",
   "execution_count": 56,
   "id": "cc16604a",
   "metadata": {},
   "outputs": [
    {
     "name": "stdout",
     "output_type": "stream",
     "text": [
      "3 6 12\n"
     ]
    }
   ],
   "source": [
    "string1='restart how to'\n",
    "# get the first 't'\n",
    "f_o=string1.index('t')\n",
    "s_o=string1.index('t',f_o+1)\n",
    "t_o=string1.index('t',s_o+1)\n",
    "#fou_o=string1.index('t',t_o+1)\n",
    "print(f_o,s_o,t_o)"
   ]
  },
  {
   "cell_type": "code",
   "execution_count": 61,
   "id": "29530f92",
   "metadata": {},
   "outputs": [
    {
     "data": {
      "text/plain": [
       "12"
      ]
     },
     "execution_count": 61,
     "metadata": {},
     "output_type": "execute_result"
    }
   ],
   "source": [
    "string1='restart how to t'\n",
    "#        \n",
    "#  t=3  6  12  14\n",
    "# what is the index of first 't' :\n",
    "f_o=string1.index('t')  # 3 \n",
    "# index method will provide first occurence\n",
    "# I want second 't'\n",
    "s_o=string1.index('t',f_o+1)\n",
    "string1.index('t',s_o+1)"
   ]
  },
  {
   "cell_type": "code",
   "execution_count": 63,
   "id": "4191438c",
   "metadata": {},
   "outputs": [
    {
     "name": "stdout",
     "output_type": "stream",
     "text": [
      "3\n",
      "3\n"
     ]
    }
   ],
   "source": [
    "string1='restart how to'\n",
    "print(string1.count('t'))  # 3\n",
    "print(string1.index('t'))  # 3"
   ]
  },
  {
   "cell_type": "code",
   "execution_count": 66,
   "id": "47608ba0",
   "metadata": {},
   "outputs": [
    {
     "name": "stdout",
     "output_type": "stream",
     "text": [
      "0\n",
      "restart how to\n"
     ]
    }
   ],
   "source": [
    "print(string1.count('T'))  # 0\n",
    "print(string1.index('T'))  # sub string error\n",
    "print(string1.replace('TTTT','&'))#  NO error"
   ]
  },
  {
   "cell_type": "code",
   "execution_count": 67,
   "id": "82ad371c",
   "metadata": {},
   "outputs": [
    {
     "data": {
      "text/plain": [
       "'Python'"
      ]
     },
     "execution_count": 67,
     "metadata": {},
     "output_type": "execute_result"
    }
   ],
   "source": [
    "'Python'.replace('z','ZZZZZ')  # No error"
   ]
  },
  {
   "cell_type": "markdown",
   "id": "91c3b204",
   "metadata": {},
   "source": [
    "$find$"
   ]
  },
  {
   "cell_type": "code",
   "execution_count": 71,
   "id": "9e04a0ae",
   "metadata": {},
   "outputs": [
    {
     "data": {
      "text/plain": [
       "-1"
      ]
     },
     "execution_count": 71,
     "metadata": {},
     "output_type": "execute_result"
    }
   ],
   "source": [
    "string1='restart how to'\n",
    "f_o=string1.find('t')         \n",
    "s_o=string1.find('t',f_o+1)\n",
    "s_o\n",
    "\n",
    "string1.find('Z')"
   ]
  },
  {
   "cell_type": "code",
   "execution_count": 72,
   "id": "7010e71c",
   "metadata": {},
   "outputs": [
    {
     "ename": "ValueError",
     "evalue": "substring not found",
     "output_type": "error",
     "traceback": [
      "\u001b[1;31m---------------------------------------------------------------------------\u001b[0m",
      "\u001b[1;31mValueError\u001b[0m                                Traceback (most recent call last)",
      "Cell \u001b[1;32mIn[72], line 6\u001b[0m\n\u001b[0;32m      3\u001b[0m s_o\u001b[38;5;241m=\u001b[39mstring1\u001b[38;5;241m.\u001b[39mindex(\u001b[38;5;124m'\u001b[39m\u001b[38;5;124mt\u001b[39m\u001b[38;5;124m'\u001b[39m,f_o\u001b[38;5;241m+\u001b[39m\u001b[38;5;241m1\u001b[39m)\n\u001b[0;32m      4\u001b[0m s_o\n\u001b[1;32m----> 6\u001b[0m string1\u001b[38;5;241m.\u001b[39mindex(\u001b[38;5;124m'\u001b[39m\u001b[38;5;124mz\u001b[39m\u001b[38;5;124m'\u001b[39m)\n",
      "\u001b[1;31mValueError\u001b[0m: substring not found"
     ]
    }
   ],
   "source": [
    "string1='restart how to'\n",
    "f_o=string1.index('t')\n",
    "s_o=string1.index('t',f_o+1)\n",
    "s_o\n",
    "\n",
    "string1.index('z')"
   ]
  },
  {
   "cell_type": "code",
   "execution_count": null,
   "id": "8287c112",
   "metadata": {},
   "outputs": [],
   "source": [
    "print(string1.count('T'))  # 0\n",
    "print(string1.index('T'))  # sub string error\n",
    "print(string1.replace('TTTT','&'))#  NO error\n",
    "print(string1.find('TTTT')) # -1"
   ]
  },
  {
   "cell_type": "code",
   "execution_count": null,
   "id": "613a78fe",
   "metadata": {},
   "outputs": [],
   "source": []
  },
  {
   "cell_type": "markdown",
   "id": "4051dc52",
   "metadata": {},
   "source": [
    "- capitalize/casefold/upper/lower\n",
    "\n",
    "- count\n",
    "\n",
    "- replace\n",
    "\n",
    "- index/find"
   ]
  },
  {
   "cell_type": "markdown",
   "id": "68a224fa",
   "metadata": {},
   "source": [
    "$split$"
   ]
  },
  {
   "cell_type": "code",
   "execution_count": 74,
   "id": "01f17daa",
   "metadata": {},
   "outputs": [
    {
     "data": {
      "text/plain": [
       "['hai', 'how', 'are', 'you']"
      ]
     },
     "execution_count": 74,
     "metadata": {},
     "output_type": "execute_result"
    }
   ],
   "source": [
    "string1='hai how are you'\n",
    "string1.split()  # nothing mentioned means it will take the space"
   ]
  },
  {
   "cell_type": "code",
   "execution_count": 75,
   "id": "082c7775",
   "metadata": {},
   "outputs": [
    {
     "data": {
      "text/plain": [
       "['hai how', 'are you']"
      ]
     },
     "execution_count": 75,
     "metadata": {},
     "output_type": "execute_result"
    }
   ],
   "source": [
    "string2='hai how,are you'\n",
    "string2.split(',')"
   ]
  },
  {
   "cell_type": "code",
   "execution_count": 77,
   "id": "29c051ee",
   "metadata": {},
   "outputs": [
    {
     "name": "stdout",
     "output_type": "stream",
     "text": [
      "hai how,are you\n"
     ]
    }
   ],
   "source": [
    "var1='hai how'\n",
    "var2='are you'\n",
    "print(var1,var2,sep=',')"
   ]
  },
  {
   "cell_type": "code",
   "execution_count": 78,
   "id": "62e809f7",
   "metadata": {},
   "outputs": [
    {
     "data": {
      "text/plain": [
       "['h', 'i how,', 're you']"
      ]
     },
     "execution_count": 78,
     "metadata": {},
     "output_type": "execute_result"
    }
   ],
   "source": [
    "string2='hai how,are you'\n",
    "string2.split('a') # 'h','i how,','re you'"
   ]
  },
  {
   "cell_type": "code",
   "execution_count": 79,
   "id": "499375d8",
   "metadata": {},
   "outputs": [
    {
     "data": {
      "text/plain": [
       "['sibaprasad', 'nayak']"
      ]
     },
     "execution_count": 79,
     "metadata": {},
     "output_type": "execute_result"
    }
   ],
   "source": [
    "name='sibaprasad nayak'\n",
    "# with space i want to split\n",
    "name.split()"
   ]
  },
  {
   "cell_type": "code",
   "execution_count": 80,
   "id": "6ac79cbe",
   "metadata": {},
   "outputs": [
    {
     "data": {
      "text/plain": [
       "['sib', 'pr', 's', 'd n', 'y', 'k']"
      ]
     },
     "execution_count": 80,
     "metadata": {},
     "output_type": "execute_result"
    }
   ],
   "source": [
    "name='sibaprasad nayak'\n",
    "# with space i want to split\n",
    "name.split('a')"
   ]
  },
  {
   "cell_type": "code",
   "execution_count": 73,
   "id": "b6de6548",
   "metadata": {},
   "outputs": [
    {
     "data": {
      "text/plain": [
       "0j"
      ]
     },
     "execution_count": 73,
     "metadata": {},
     "output_type": "execute_result"
    }
   ],
   "source": [
    "complex()"
   ]
  },
  {
   "cell_type": "code",
   "execution_count": null,
   "id": "e5534e5b",
   "metadata": {},
   "outputs": [],
   "source": [
    "- capitalize/casefold/upper/lower\n",
    "\n",
    "- index/find\n",
    "\n",
    "- count\n",
    "\n",
    "- replace\n",
    "\n",
    "- split"
   ]
  },
  {
   "cell_type": "code",
   "execution_count": 17,
   "id": "753dd017",
   "metadata": {},
   "outputs": [
    {
     "data": {
      "text/plain": [
       "'uma'"
      ]
     },
     "execution_count": 17,
     "metadata": {},
     "output_type": "execute_result"
    }
   ],
   "source": [
    "sent1='rashaad.omkar@gmail.com'\n",
    "sent1='omkar.mobin@gmail.com'\n",
    "sent1[sent1.find('.')+1:sent1.find('@')] \n",
    "#extract only: omkar\n",
    "sent2='mobin.sourav@uma.com'  \n",
    "# extract: uma\n",
    "# Dont slice that, \n",
    "# you are count\n",
    "# index and find \n",
    "# use only methods\n",
    "#sent1.replace('rashaad.','').replace('@gmail.com','') # Bikas\n",
    "sent1[sent1.find('.')+1:sent1.find('@')]  # Find\n",
    "sent1[sent1.index('.')+1:sent1.index('@')]\n",
    "\n",
    "sent2 = 'mobin.sourav@uma.com'\n",
    "sent2.index('@')\n",
    "sent2[sent2.index('@')+1:sent2.index('.c')]"
   ]
  },
  {
   "cell_type": "code",
   "execution_count": 18,
   "id": "cd6b25e2",
   "metadata": {},
   "outputs": [
    {
     "name": "stdout",
     "output_type": "stream",
     "text": [
      "omkar\n"
     ]
    }
   ],
   "source": [
    "sent1='rashaad.omkar@gmail.com'\n",
    "sent1.split('@')\n",
    "extract=sent1.split('@')[0].split('.')[1]\n",
    "print(extract)"
   ]
  },
  {
   "cell_type": "code",
   "execution_count": null,
   "id": "63aca772",
   "metadata": {},
   "outputs": [],
   "source": [
    "# you need to avoid hard code\n",
    "# "
   ]
  },
  {
   "cell_type": "code",
   "execution_count": 20,
   "id": "d136a937",
   "metadata": {},
   "outputs": [
    {
     "data": {
      "text/plain": [
       "'mobin'"
      ]
     },
     "execution_count": 20,
     "metadata": {},
     "output_type": "execute_result"
    }
   ],
   "source": [
    "sent1='omkaromkar.mobin@gmail.com'\n",
    "sent1[sent1.find('.')+1:sent1.find('@')] "
   ]
  },
  {
   "cell_type": "code",
   "execution_count": 28,
   "id": "81a97037",
   "metadata": {},
   "outputs": [
    {
     "data": {
      "text/plain": [
       "'narehit'"
      ]
     },
     "execution_count": 28,
     "metadata": {},
     "output_type": "execute_result"
    }
   ],
   "source": [
    "#sent2='mobin.sourav@uma.com' \n",
    "sent2='mobin.souravsahoo@narehit.ac.in'\n",
    "\n",
    "#between '@'  and  '.' (Second)\n",
    "index1=sent2.index('@')\n",
    "first_dot_index=sent2.index('.')\n",
    "sec_dot_index=sent2.index('.',first_dot_index+1)\n",
    "sent2[index1+1:sec_dot_index]"
   ]
  },
  {
   "cell_type": "code",
   "execution_count": 22,
   "id": "9ac271ec",
   "metadata": {},
   "outputs": [
    {
     "name": "stdout",
     "output_type": "stream",
     "text": [
      "5\n"
     ]
    },
    {
     "data": {
      "text/plain": [
       "'mlr'"
      ]
     },
     "execution_count": 22,
     "metadata": {},
     "output_type": "execute_result"
    }
   ],
   "source": [
    "sent2='mobin.sourav@uma.com' \n",
    "print(sent2.index('.'))\n",
    "sent2='mobin.souravsahoo@narehit.ac.in' \n",
    "sent2='bikas.sourav@mlr.edu.ac.in' \n",
    "sent2[sent2.index('@')+1:sent2.index('.',sent2.index('.')+1)]"
   ]
  },
  {
   "cell_type": "code",
   "execution_count": 29,
   "id": "e5627acc",
   "metadata": {},
   "outputs": [
    {
     "data": {
      "text/plain": [
       "'mlr'"
      ]
     },
     "execution_count": 29,
     "metadata": {},
     "output_type": "execute_result"
    }
   ],
   "source": [
    "sent1='rashaad.omkar@mlr.edu.ac.in'\n",
    "sent1.split('@')[1].split('.')[0]  # List "
   ]
  },
  {
   "cell_type": "code",
   "execution_count": null,
   "id": "7e9d0ed4",
   "metadata": {},
   "outputs": [],
   "source": [
    "- let say all the emails are in a text file\n",
    "\n",
    "- how to read the text file\n",
    "\n",
    "- first  second  comany   email\n"
   ]
  },
  {
   "cell_type": "markdown",
   "id": "81daa6e6",
   "metadata": {},
   "source": [
    "$strip$-$lstrip$-$rstrip$:"
   ]
  },
  {
   "cell_type": "code",
   "execution_count": 30,
   "id": "a08d5ac0",
   "metadata": {},
   "outputs": [],
   "source": [
    "string1=' hai how are you ' # both  strip\n",
    "string2='hai how are you ' # right  strip/rstrip\n",
    "string3=' hai how are you' # left   strip/lstrip"
   ]
  },
  {
   "cell_type": "markdown",
   "id": "99683aa1",
   "metadata": {},
   "source": [
    "- if you want remove the spaces we use method strip\n",
    "\n",
    "- strip: It will remove spaces both sides\n",
    "    \n",
    "- lstrip: It will remove left side space\n",
    "    \n",
    "- rstrip: It will remove right side space"
   ]
  },
  {
   "cell_type": "code",
   "execution_count": 34,
   "id": "9ebbf04f",
   "metadata": {},
   "outputs": [
    {
     "data": {
      "text/plain": [
       "('hai how are you', 'hai how are you ', ' hai how are you')"
      ]
     },
     "execution_count": 34,
     "metadata": {},
     "output_type": "execute_result"
    }
   ],
   "source": [
    "string1.strip(),string1.lstrip(),string1.rstrip()"
   ]
  },
  {
   "cell_type": "code",
   "execution_count": 40,
   "id": "98ba58c8",
   "metadata": {},
   "outputs": [
    {
     "name": "stdout",
     "output_type": "stream",
     "text": [
      " hai how are you \n",
      "hai how are you\n",
      "hai how are you \n",
      "hai how are you\n"
     ]
    }
   ],
   "source": [
    "print(string1)\n",
    "print(string2.strip())\n",
    "print(string2.lstrip())\n",
    "print(string2.rstrip())\n"
   ]
  },
  {
   "cell_type": "code",
   "execution_count": 36,
   "id": "3ed81e42",
   "metadata": {},
   "outputs": [
    {
     "name": "stdout",
     "output_type": "stream",
     "text": [
      " hai how are you \n"
     ]
    }
   ],
   "source": [
    "string1=' hai how are you '\n",
    "print(string1)"
   ]
  },
  {
   "cell_type": "code",
   "execution_count": 44,
   "id": "31656227",
   "metadata": {},
   "outputs": [
    {
     "name": "stdout",
     "output_type": "stream",
     "text": [
      "hello\n",
      "hello&&&&&&&&&&&&&&&&&&&\n",
      "&&&&&hello\n"
     ]
    }
   ],
   "source": [
    "string1='&&&&&hello&&&&&&&&&&&&&&&&&&&'\n",
    "print(string1.strip('&'))\n",
    "print(string1.lstrip('&'))\n",
    "print(string1.rstrip('&'))"
   ]
  },
  {
   "cell_type": "markdown",
   "id": "7c6fcb40",
   "metadata": {},
   "source": [
    "$startswith$-$endswith$"
   ]
  },
  {
   "cell_type": "code",
   "execution_count": 55,
   "id": "c9a10737",
   "metadata": {},
   "outputs": [
    {
     "data": {
      "text/plain": [
       "True"
      ]
     },
     "execution_count": 55,
     "metadata": {},
     "output_type": "execute_result"
    }
   ],
   "source": [
    "string1='pasha,hai how are you'\n",
    "string1.startswith('p')"
   ]
  },
  {
   "cell_type": "code",
   "execution_count": 58,
   "id": "7bd7dae3",
   "metadata": {},
   "outputs": [
    {
     "data": {
      "text/plain": [
       "True"
      ]
     },
     "execution_count": 58,
     "metadata": {},
     "output_type": "execute_result"
    }
   ],
   "source": [
    "string1.endswith(' you')"
   ]
  },
  {
   "cell_type": "code",
   "execution_count": 56,
   "id": "a4f73101",
   "metadata": {},
   "outputs": [
    {
     "data": {
      "text/plain": [
       "True"
      ]
     },
     "execution_count": 56,
     "metadata": {},
     "output_type": "execute_result"
    }
   ],
   "source": [
    "string1.startswith(string1)"
   ]
  },
  {
   "cell_type": "code",
   "execution_count": 57,
   "id": "b008c099",
   "metadata": {},
   "outputs": [
    {
     "data": {
      "text/plain": [
       "True"
      ]
     },
     "execution_count": 57,
     "metadata": {},
     "output_type": "execute_result"
    }
   ],
   "source": [
    "string1.endswith(string1) "
   ]
  },
  {
   "cell_type": "code",
   "execution_count": null,
   "id": "20b78812",
   "metadata": {},
   "outputs": [],
   "source": [
    "- capitalize/caseflold/upper/lower\n",
    "\n",
    "- index/find\n",
    "\n",
    "- strip/rstrip/lstrip\n",
    "\n",
    "- startswith/endswith\n",
    "\n",
    "- count\n",
    "\n",
    "- replace\n",
    "\n",
    "- split"
   ]
  },
  {
   "cell_type": "code",
   "execution_count": 59,
   "id": "bbe725e7",
   "metadata": {},
   "outputs": [
    {
     "data": {
      "text/plain": [
       "['__add__',\n",
       " '__class__',\n",
       " '__contains__',\n",
       " '__delattr__',\n",
       " '__dir__',\n",
       " '__doc__',\n",
       " '__eq__',\n",
       " '__format__',\n",
       " '__ge__',\n",
       " '__getattribute__',\n",
       " '__getitem__',\n",
       " '__getnewargs__',\n",
       " '__getstate__',\n",
       " '__gt__',\n",
       " '__hash__',\n",
       " '__init__',\n",
       " '__init_subclass__',\n",
       " '__iter__',\n",
       " '__le__',\n",
       " '__len__',\n",
       " '__lt__',\n",
       " '__mod__',\n",
       " '__mul__',\n",
       " '__ne__',\n",
       " '__new__',\n",
       " '__reduce__',\n",
       " '__reduce_ex__',\n",
       " '__repr__',\n",
       " '__rmod__',\n",
       " '__rmul__',\n",
       " '__setattr__',\n",
       " '__sizeof__',\n",
       " '__str__',\n",
       " '__subclasshook__',\n",
       " 'capitalize',\n",
       " 'casefold',\n",
       " 'center',\n",
       " 'count',\n",
       " 'encode',\n",
       " 'endswith',\n",
       " 'expandtabs',\n",
       " 'find',\n",
       " 'format',\n",
       " 'format_map',\n",
       " 'index',\n",
       " 'isalnum',\n",
       " 'isalpha',\n",
       " 'isascii',\n",
       " 'isdecimal',\n",
       " 'isdigit',\n",
       " 'isidentifier',\n",
       " 'islower',\n",
       " 'isnumeric',\n",
       " 'isprintable',\n",
       " 'isspace',\n",
       " 'istitle',\n",
       " 'isupper',\n",
       " 'join',\n",
       " 'ljust',\n",
       " 'lower',\n",
       " 'lstrip',\n",
       " 'maketrans',\n",
       " 'partition',\n",
       " 'removeprefix',\n",
       " 'removesuffix',\n",
       " 'replace',\n",
       " 'rfind',\n",
       " 'rindex',\n",
       " 'rjust',\n",
       " 'rpartition',\n",
       " 'rsplit',\n",
       " 'rstrip',\n",
       " 'split',\n",
       " 'splitlines',\n",
       " 'startswith',\n",
       " 'strip',\n",
       " 'swapcase',\n",
       " 'title',\n",
       " 'translate',\n",
       " 'upper',\n",
       " 'zfill']"
      ]
     },
     "execution_count": 59,
     "metadata": {},
     "output_type": "execute_result"
    }
   ],
   "source": [
    "dir('')"
   ]
  },
  {
   "cell_type": "code",
   "execution_count": null,
   "id": "939a93f2",
   "metadata": {},
   "outputs": [],
   "source": [
    "# isaplha\n",
    "# isnumeric\n",
    "# isalnum   \n",
    "# isupper\n",
    "# islower\n",
    "# isdecimal\n",
    "# isdigit"
   ]
  },
  {
   "cell_type": "code",
   "execution_count": 61,
   "id": "737abbeb",
   "metadata": {},
   "outputs": [
    {
     "data": {
      "text/plain": [
       "(False, True)"
      ]
     },
     "execution_count": 61,
     "metadata": {},
     "output_type": "execute_result"
    }
   ],
   "source": [
    "string1='1234'\n",
    "string1.isalpha(),string1.isnumeric()"
   ]
  },
  {
   "cell_type": "code",
   "execution_count": 63,
   "id": "1af83f1e",
   "metadata": {},
   "outputs": [
    {
     "name": "stdout",
     "output_type": "stream",
     "text": [
      "True\n",
      "True\n"
     ]
    }
   ],
   "source": [
    "string1='python123'\n",
    "print(string1.isalnum())\n",
    "str1='python'\n",
    "print(str1.isalpha())"
   ]
  },
  {
   "cell_type": "code",
   "execution_count": 64,
   "id": "67f1b9ab",
   "metadata": {},
   "outputs": [
    {
     "data": {
      "text/plain": [
       "True"
      ]
     },
     "execution_count": 64,
     "metadata": {},
     "output_type": "execute_result"
    }
   ],
   "source": [
    "string4='my name is mobin'\n",
    "string4.islower()"
   ]
  },
  {
   "cell_type": "code",
   "execution_count": 66,
   "id": "c7ab7b5e",
   "metadata": {},
   "outputs": [
    {
     "data": {
      "text/plain": [
       "False"
      ]
     },
     "execution_count": 66,
     "metadata": {},
     "output_type": "execute_result"
    }
   ],
   "source": [
    "string5='10.6'\n",
    "# any method avialble to check the float value\n",
    "# directly using string method"
   ]
  },
  {
   "cell_type": "code",
   "execution_count": 70,
   "id": "5a3c12da",
   "metadata": {},
   "outputs": [
    {
     "data": {
      "text/plain": [
       "False"
      ]
     },
     "execution_count": 70,
     "metadata": {},
     "output_type": "execute_result"
    }
   ],
   "source": [
    "string1='bikas '\n",
    "string1.isalnum()"
   ]
  },
  {
   "cell_type": "code",
   "execution_count": 71,
   "id": "8f78721c",
   "metadata": {},
   "outputs": [
    {
     "data": {
      "text/plain": [
       "True"
      ]
     },
     "execution_count": 71,
     "metadata": {},
     "output_type": "execute_result"
    }
   ],
   "source": [
    "# If methods will not work directway\n",
    "# we need to modify the string\n",
    "string1='bikas '\n",
    "string1.rstrip().isalnum()"
   ]
  },
  {
   "cell_type": "code",
   "execution_count": null,
   "id": "f205de1c",
   "metadata": {},
   "outputs": [],
   "source": [
    "#Q1) in a given stentence what is the most repeated word\n",
    "\n",
    "#   example: 'hai how are you you hai'\n",
    "\n",
    "#Q2) In a given sentence what is the maximum length of the string\n",
    "#    what is the minmum lenght of the string\n",
    "     # 'hello python how are youuuuu'\n",
    "    \n",
    "#Q3) str1='hyd'  str2='chennai'  str3='mumbai'\n",
    "#    greatet word and smallest word: interms of ascii"
   ]
  },
  {
   "cell_type": "code",
   "execution_count": null,
   "id": "5689c5d1",
   "metadata": {},
   "outputs": [],
   "source": [
    "sir if a sentence is : hai how are you you you,hai \n",
    "    and I want to print only one 'you' how to do that?"
   ]
  },
  {
   "cell_type": "code",
   "execution_count": null,
   "id": "34db82ae",
   "metadata": {},
   "outputs": [],
   "source": [
    "string1='hai how are you you you,hai'\n",
    "if 'you' in string1:\n",
    "    #==========================\n",
    "    \n",
    "    but I want whole answer but with only one you"
   ]
  },
  {
   "cell_type": "code",
   "execution_count": null,
   "id": "7e215c68",
   "metadata": {},
   "outputs": [],
   "source": [
    "# Hacker rank"
   ]
  }
 ],
 "metadata": {
  "kernelspec": {
   "display_name": "Python 3 (ipykernel)",
   "language": "python",
   "name": "python3"
  },
  "language_info": {
   "codemirror_mode": {
    "name": "ipython",
    "version": 3
   },
   "file_extension": ".py",
   "mimetype": "text/x-python",
   "name": "python",
   "nbconvert_exporter": "python",
   "pygments_lexer": "ipython3",
   "version": "3.11.5"
  }
 },
 "nbformat": 4,
 "nbformat_minor": 5
}
